{
 "cells": [
  {
   "cell_type": "code",
   "execution_count": 118,
   "metadata": {},
   "outputs": [],
   "source": [
    "import pandas as pd\n",
    "import seaborn as sns\n",
    "import matplotlib.pyplot as plt\n",
    "from sklearn.model_selection import train_test_split"
   ]
  },
  {
   "cell_type": "markdown",
   "metadata": {},
   "source": [
    "---\n",
    "### 1. The Dataset Exploration\n",
    "---"
   ]
  },
  {
   "cell_type": "markdown",
   "metadata": {},
   "source": [
    "**Split the 'train.csv' into train_data and val_data**"
   ]
  },
  {
   "cell_type": "code",
   "execution_count": 119,
   "metadata": {},
   "outputs": [],
   "source": [
    "titanic_data = pd.read_csv('train.csv')\n",
    "test_data = pd.read_csv('test.csv')"
   ]
  },
  {
   "cell_type": "code",
   "execution_count": 120,
   "metadata": {},
   "outputs": [],
   "source": [
    "train_data, val_data = train_test_split(titanic_data, train_size = 0.7, random_state = 123)"
   ]
  },
  {
   "cell_type": "markdown",
   "metadata": {},
   "source": [
    "**Statistical characteristics of the training set**"
   ]
  },
  {
   "cell_type": "code",
   "execution_count": 121,
   "metadata": {},
   "outputs": [
    {
     "data": {
      "text/html": [
       "<div>\n",
       "<style scoped>\n",
       "    .dataframe tbody tr th:only-of-type {\n",
       "        vertical-align: middle;\n",
       "    }\n",
       "\n",
       "    .dataframe tbody tr th {\n",
       "        vertical-align: top;\n",
       "    }\n",
       "\n",
       "    .dataframe thead th {\n",
       "        text-align: right;\n",
       "    }\n",
       "</style>\n",
       "<table border=\"1\" class=\"dataframe\">\n",
       "  <thead>\n",
       "    <tr style=\"text-align: right;\">\n",
       "      <th></th>\n",
       "      <th>PassengerId</th>\n",
       "      <th>Survived</th>\n",
       "      <th>Pclass</th>\n",
       "      <th>Name</th>\n",
       "      <th>Sex</th>\n",
       "      <th>Age</th>\n",
       "      <th>SibSp</th>\n",
       "      <th>Parch</th>\n",
       "      <th>Ticket</th>\n",
       "      <th>Fare</th>\n",
       "      <th>Cabin</th>\n",
       "      <th>Embarked</th>\n",
       "    </tr>\n",
       "  </thead>\n",
       "  <tbody>\n",
       "    <tr>\n",
       "      <th>416</th>\n",
       "      <td>417</td>\n",
       "      <td>1</td>\n",
       "      <td>2</td>\n",
       "      <td>Drew, Mrs. James Vivian (Lulu Thorne Christian)</td>\n",
       "      <td>female</td>\n",
       "      <td>34.0</td>\n",
       "      <td>1</td>\n",
       "      <td>1</td>\n",
       "      <td>28220</td>\n",
       "      <td>32.50</td>\n",
       "      <td>NaN</td>\n",
       "      <td>S</td>\n",
       "    </tr>\n",
       "    <tr>\n",
       "      <th>801</th>\n",
       "      <td>802</td>\n",
       "      <td>1</td>\n",
       "      <td>2</td>\n",
       "      <td>Collyer, Mrs. Harvey (Charlotte Annie Tate)</td>\n",
       "      <td>female</td>\n",
       "      <td>31.0</td>\n",
       "      <td>1</td>\n",
       "      <td>1</td>\n",
       "      <td>C.A. 31921</td>\n",
       "      <td>26.25</td>\n",
       "      <td>NaN</td>\n",
       "      <td>S</td>\n",
       "    </tr>\n",
       "  </tbody>\n",
       "</table>\n",
       "</div>"
      ],
      "text/plain": [
       "     PassengerId  Survived  Pclass  \\\n",
       "416          417         1       2   \n",
       "801          802         1       2   \n",
       "\n",
       "                                                Name     Sex   Age  SibSp  \\\n",
       "416  Drew, Mrs. James Vivian (Lulu Thorne Christian)  female  34.0      1   \n",
       "801      Collyer, Mrs. Harvey (Charlotte Annie Tate)  female  31.0      1   \n",
       "\n",
       "     Parch      Ticket   Fare Cabin Embarked  \n",
       "416      1       28220  32.50   NaN        S  \n",
       "801      1  C.A. 31921  26.25   NaN        S  "
      ]
     },
     "execution_count": 121,
     "metadata": {},
     "output_type": "execute_result"
    }
   ],
   "source": [
    "train_data.head(2)"
   ]
  },
  {
   "cell_type": "code",
   "execution_count": 122,
   "metadata": {},
   "outputs": [
    {
     "name": "stdout",
     "output_type": "stream",
     "text": [
      "<class 'pandas.core.frame.DataFrame'>\n",
      "Int64Index: 623 entries, 416 to 510\n",
      "Data columns (total 12 columns):\n",
      " #   Column       Non-Null Count  Dtype  \n",
      "---  ------       --------------  -----  \n",
      " 0   PassengerId  623 non-null    int64  \n",
      " 1   Survived     623 non-null    int64  \n",
      " 2   Pclass       623 non-null    int64  \n",
      " 3   Name         623 non-null    object \n",
      " 4   Sex          623 non-null    object \n",
      " 5   Age          492 non-null    float64\n",
      " 6   SibSp        623 non-null    int64  \n",
      " 7   Parch        623 non-null    int64  \n",
      " 8   Ticket       623 non-null    object \n",
      " 9   Fare         623 non-null    float64\n",
      " 10  Cabin        142 non-null    object \n",
      " 11  Embarked     621 non-null    object \n",
      "dtypes: float64(2), int64(5), object(5)\n",
      "memory usage: 63.3+ KB\n"
     ]
    }
   ],
   "source": [
    "train_data.info()"
   ]
  },
  {
   "cell_type": "code",
   "execution_count": 123,
   "metadata": {},
   "outputs": [
    {
     "data": {
      "text/html": [
       "<div>\n",
       "<style scoped>\n",
       "    .dataframe tbody tr th:only-of-type {\n",
       "        vertical-align: middle;\n",
       "    }\n",
       "\n",
       "    .dataframe tbody tr th {\n",
       "        vertical-align: top;\n",
       "    }\n",
       "\n",
       "    .dataframe thead th {\n",
       "        text-align: right;\n",
       "    }\n",
       "</style>\n",
       "<table border=\"1\" class=\"dataframe\">\n",
       "  <thead>\n",
       "    <tr style=\"text-align: right;\">\n",
       "      <th></th>\n",
       "      <th>PassengerId</th>\n",
       "      <th>Survived</th>\n",
       "      <th>Pclass</th>\n",
       "      <th>Age</th>\n",
       "      <th>SibSp</th>\n",
       "      <th>Parch</th>\n",
       "      <th>Fare</th>\n",
       "    </tr>\n",
       "  </thead>\n",
       "  <tbody>\n",
       "    <tr>\n",
       "      <th>count</th>\n",
       "      <td>623.000000</td>\n",
       "      <td>623.000000</td>\n",
       "      <td>623.000000</td>\n",
       "      <td>492.000000</td>\n",
       "      <td>623.000000</td>\n",
       "      <td>623.000000</td>\n",
       "      <td>623.000000</td>\n",
       "    </tr>\n",
       "    <tr>\n",
       "      <th>mean</th>\n",
       "      <td>441.298555</td>\n",
       "      <td>0.391653</td>\n",
       "      <td>2.321027</td>\n",
       "      <td>29.885691</td>\n",
       "      <td>0.516854</td>\n",
       "      <td>0.365971</td>\n",
       "      <td>33.326872</td>\n",
       "    </tr>\n",
       "    <tr>\n",
       "      <th>std</th>\n",
       "      <td>254.833804</td>\n",
       "      <td>0.488512</td>\n",
       "      <td>0.831257</td>\n",
       "      <td>14.316719</td>\n",
       "      <td>1.143676</td>\n",
       "      <td>0.784249</td>\n",
       "      <td>54.337449</td>\n",
       "    </tr>\n",
       "    <tr>\n",
       "      <th>min</th>\n",
       "      <td>1.000000</td>\n",
       "      <td>0.000000</td>\n",
       "      <td>1.000000</td>\n",
       "      <td>0.420000</td>\n",
       "      <td>0.000000</td>\n",
       "      <td>0.000000</td>\n",
       "      <td>0.000000</td>\n",
       "    </tr>\n",
       "    <tr>\n",
       "      <th>25%</th>\n",
       "      <td>219.500000</td>\n",
       "      <td>0.000000</td>\n",
       "      <td>2.000000</td>\n",
       "      <td>21.000000</td>\n",
       "      <td>0.000000</td>\n",
       "      <td>0.000000</td>\n",
       "      <td>7.925000</td>\n",
       "    </tr>\n",
       "    <tr>\n",
       "      <th>50%</th>\n",
       "      <td>444.000000</td>\n",
       "      <td>0.000000</td>\n",
       "      <td>3.000000</td>\n",
       "      <td>28.000000</td>\n",
       "      <td>0.000000</td>\n",
       "      <td>0.000000</td>\n",
       "      <td>14.400000</td>\n",
       "    </tr>\n",
       "    <tr>\n",
       "      <th>75%</th>\n",
       "      <td>653.000000</td>\n",
       "      <td>1.000000</td>\n",
       "      <td>3.000000</td>\n",
       "      <td>38.000000</td>\n",
       "      <td>1.000000</td>\n",
       "      <td>0.000000</td>\n",
       "      <td>30.597900</td>\n",
       "    </tr>\n",
       "    <tr>\n",
       "      <th>max</th>\n",
       "      <td>891.000000</td>\n",
       "      <td>1.000000</td>\n",
       "      <td>3.000000</td>\n",
       "      <td>80.000000</td>\n",
       "      <td>8.000000</td>\n",
       "      <td>5.000000</td>\n",
       "      <td>512.329200</td>\n",
       "    </tr>\n",
       "  </tbody>\n",
       "</table>\n",
       "</div>"
      ],
      "text/plain": [
       "       PassengerId    Survived      Pclass         Age       SibSp  \\\n",
       "count   623.000000  623.000000  623.000000  492.000000  623.000000   \n",
       "mean    441.298555    0.391653    2.321027   29.885691    0.516854   \n",
       "std     254.833804    0.488512    0.831257   14.316719    1.143676   \n",
       "min       1.000000    0.000000    1.000000    0.420000    0.000000   \n",
       "25%     219.500000    0.000000    2.000000   21.000000    0.000000   \n",
       "50%     444.000000    0.000000    3.000000   28.000000    0.000000   \n",
       "75%     653.000000    1.000000    3.000000   38.000000    1.000000   \n",
       "max     891.000000    1.000000    3.000000   80.000000    8.000000   \n",
       "\n",
       "            Parch        Fare  \n",
       "count  623.000000  623.000000  \n",
       "mean     0.365971   33.326872  \n",
       "std      0.784249   54.337449  \n",
       "min      0.000000    0.000000  \n",
       "25%      0.000000    7.925000  \n",
       "50%      0.000000   14.400000  \n",
       "75%      0.000000   30.597900  \n",
       "max      5.000000  512.329200  "
      ]
     },
     "execution_count": 123,
     "metadata": {},
     "output_type": "execute_result"
    }
   ],
   "source": [
    "train_data.describe()"
   ]
  },
  {
   "cell_type": "markdown",
   "metadata": {},
   "source": [
    "**Check the whether the label is balanced or not**"
   ]
  },
  {
   "cell_type": "code",
   "execution_count": 124,
   "metadata": {},
   "outputs": [],
   "source": [
    "survived_data = train_data.Survived.replace({1:'survived', 0:'not survived'}).value_counts()"
   ]
  },
  {
   "cell_type": "code",
   "execution_count": 125,
   "metadata": {},
   "outputs": [
    {
     "data": {
      "text/plain": [
       "not survived    379\n",
       "survived        244\n",
       "Name: Survived, dtype: int64"
      ]
     },
     "execution_count": 125,
     "metadata": {},
     "output_type": "execute_result"
    }
   ],
   "source": [
    "survived_data"
   ]
  },
  {
   "cell_type": "code",
   "execution_count": 126,
   "metadata": {},
   "outputs": [
    {
     "data": {
      "text/plain": [
       "Text(0, 0.5, 'Number of People')"
      ]
     },
     "execution_count": 126,
     "metadata": {},
     "output_type": "execute_result"
    },
    {
     "data": {
      "image/png": "[encoded data removed]",
      "text/plain": [
       "<Figure size 432x288 with 1 Axes>"
      ]
     },
     "metadata": {},
     "output_type": "display_data"
    }
   ],
   "source": [
    "plt.figure(figsize=(6,4))\n",
    "plt.title(\"Titanic Survival statistics\")\n",
    "sns.barplot(x = survived_data.index, y = survived_data, palette='Paired')\n",
    "sns.set_style('whitegrid') \n",
    "plt.ylabel(\"Number of People\")"
   ]
  },
  {
   "cell_type": "markdown",
   "metadata": {},
   "source": [
    "**Check the missing value**"
   ]
  },
  {
   "cell_type": "code",
   "execution_count": 127,
   "metadata": {},
   "outputs": [
    {
     "data": {
      "text/plain": [
       "PassengerId      0\n",
       "Survived         0\n",
       "Pclass           0\n",
       "Name             0\n",
       "Sex              0\n",
       "Age            131\n",
       "SibSp            0\n",
       "Parch            0\n",
       "Ticket           0\n",
       "Fare             0\n",
       "Cabin          481\n",
       "Embarked         2\n",
       "dtype: int64"
      ]
     },
     "execution_count": 127,
     "metadata": {},
     "output_type": "execute_result"
    }
   ],
   "source": [
    "# Age, Cabin and Embarked variables have missing value\n",
    "train_data.isna().sum()"
   ]
  },
  {
   "cell_type": "code",
   "execution_count": 128,
   "metadata": {},
   "outputs": [
    {
     "data": {
      "text/plain": [
       "PassengerId      0\n",
       "Survived         0\n",
       "Pclass           0\n",
       "Name             0\n",
       "Sex              0\n",
       "Age             46\n",
       "SibSp            0\n",
       "Parch            0\n",
       "Ticket           0\n",
       "Fare             0\n",
       "Cabin          206\n",
       "Embarked         0\n",
       "dtype: int64"
      ]
     },
     "execution_count": 128,
     "metadata": {},
     "output_type": "execute_result"
    }
   ],
   "source": [
    "# Age and Cabin variables have missing value\n",
    "val_data.isna().sum()"
   ]
  },
  {
   "cell_type": "code",
   "execution_count": 129,
   "metadata": {},
   "outputs": [
    {
     "data": {
      "text/plain": [
       "PassengerId      0\n",
       "Pclass           0\n",
       "Name             0\n",
       "Sex              0\n",
       "Age             86\n",
       "SibSp            0\n",
       "Parch            0\n",
       "Ticket           0\n",
       "Fare             1\n",
       "Cabin          327\n",
       "Embarked         0\n",
       "dtype: int64"
      ]
     },
     "execution_count": 129,
     "metadata": {},
     "output_type": "execute_result"
    }
   ],
   "source": [
    "# Age, Cabin and Fare variables have missing value\n",
    "test_data.isna().sum()"
   ]
  },
  {
   "cell_type": "markdown",
   "metadata": {},
   "source": [
    "**Output the number of unique value of some categorical variables in training data**"
   ]
  },
  {
   "cell_type": "code",
   "execution_count": 130,
   "metadata": {},
   "outputs": [
    {
     "name": "stdout",
     "output_type": "stream",
     "text": [
      "1. Pclass —— the number of distinct variables are: 3\n",
      "2. Name —— the number of distinct variables are: 623\n",
      "3. Sex —— the number of distinct variables are: 2\n",
      "4. Embarked —— the number of distinct variables are: 3\n",
      "5. Ticket —— the number of distinct variables are: 513\n",
      "6. Cabin —— the number of distinct variables are: 108\n"
     ]
    }
   ],
   "source": [
    "cat_list = ['Pclass','Name','Sex','Embarked','Ticket','Cabin']\n",
    "for n,i in enumerate(cat_list):  \n",
    "    Cabin_cat_num = train_data[i].value_counts().index.shape[0]\n",
    "    print('{}. {} —— the number of distinct variables are: {}'.format(n+1,i,Cabin_cat_num))"
   ]
  },
  {
   "cell_type": "markdown",
   "metadata": {},
   "source": [
    "***\n",
    "\n",
    "### 2. The Features Exploration\n",
    "\n",
    "***"
   ]
  },
  {
   "cell_type": "markdown",
   "metadata": {},
   "source": [
    "**'Pclass','Sex', 'Embarked' Exploration**"
   ]
  },
  {
   "cell_type": "markdown",
   "metadata": {},
   "source": [
    "    Survived ratio of female and male\n",
    "    Survived ratio of different Pclass\n",
    "    Survived ratio of different Embarked"
   ]
  },
  {
   "cell_type": "code",
   "execution_count": 131,
   "metadata": {},
   "outputs": [
    {
     "name": "stderr",
     "output_type": "stream",
     "text": [
      "<ipython-input-131-1825d18e3b88>:3: DeprecationWarning: The default dtype for empty Series will be 'object' instead of 'float64' in a future version. Specify a dtype explicitly to silence this warning.\n",
      "  sex_survive_ratio = pd.Series()\n",
      "<ipython-input-131-1825d18e3b88>:10: DeprecationWarning: The default dtype for empty Series will be 'object' instead of 'float64' in a future version. Specify a dtype explicitly to silence this warning.\n",
      "  Pclass_survive_ratio = pd.Series()\n",
      "<ipython-input-131-1825d18e3b88>:18: DeprecationWarning: The default dtype for empty Series will be 'object' instead of 'float64' in a future version. Specify a dtype explicitly to silence this warning.\n",
      "  Embarked_survive_ratio = pd.Series()\n"
     ]
    }
   ],
   "source": [
    "female_survive_ratio = train_data[['Survived','Sex']][train_data.Sex=='female'].groupby('Survived').count()/train_data[['Survived','Sex']][train_data.Sex=='female'].groupby('Survived').count().sum()\n",
    "male_survive_ratio = train_data[['Survived','Sex']][train_data.Sex=='male'].groupby('Survived').count()/train_data[['Survived','Sex']][train_data.Sex=='male'].groupby('Survived').count().sum()\n",
    "sex_survive_ratio = pd.Series()\n",
    "sex_survive_ratio['female'] = female_survive_ratio.iloc[1,0].round(3)\n",
    "sex_survive_ratio['male'] = male_survive_ratio.iloc[1,0].round(3)\n",
    "\n",
    "class1_survive_ratio = train_data[['Survived','Pclass']][train_data.Pclass==1].groupby('Survived').count()/train_data[['Survived','Pclass']][train_data.Pclass==1].groupby('Survived').count().sum()\n",
    "class2_survive_ratio = train_data[['Survived','Pclass']][train_data.Pclass==2].groupby('Survived').count()/train_data[['Survived','Pclass']][train_data.Pclass==2].groupby('Survived').count().sum()\n",
    "class3_survive_ratio = train_data[['Survived','Pclass']][train_data.Pclass==3].groupby('Survived').count()/train_data[['Survived','Pclass']][train_data.Pclass==3].groupby('Survived').count().sum()\n",
    "Pclass_survive_ratio = pd.Series()\n",
    "Pclass_survive_ratio['Class 1'] = class1_survive_ratio.iloc[1,0].round(3)\n",
    "Pclass_survive_ratio['Class 2'] = class2_survive_ratio.iloc[1,0].round(3)\n",
    "Pclass_survive_ratio['Class 3'] = class3_survive_ratio.iloc[1,0].round(3)\n",
    "\n",
    "S_survive_ratio = train_data[['Survived','Embarked']][train_data.Embarked=='S'].groupby('Survived').count()/train_data[['Survived','Embarked']][train_data.Embarked=='S'].groupby('Survived').count().sum()\n",
    "C_survive_ratio = train_data[['Survived','Embarked']][train_data.Embarked=='C'].groupby('Survived').count()/train_data[['Survived','Embarked']][train_data.Embarked=='C'].groupby('Survived').count().sum()\n",
    "Q_survive_ratio = train_data[['Survived','Embarked']][train_data.Embarked=='Q'].groupby('Survived').count()/train_data[['Survived','Embarked']][train_data.Embarked=='Q'].groupby('Survived').count().sum()\n",
    "Embarked_survive_ratio = pd.Series()\n",
    "Embarked_survive_ratio['S'] = S_survive_ratio.iloc[1,0].round(3)\n",
    "Embarked_survive_ratio['C'] = C_survive_ratio.iloc[1,0].round(3)\n",
    "Embarked_survive_ratio['Q'] = Q_survive_ratio.iloc[1,0].round(3)"
   ]
  },
  {
   "cell_type": "code",
   "execution_count": 108,
   "metadata": {},
   "outputs": [
    {
     "data": {
      "image/png": "[encoded data removed]",
      "text/plain": [
       "<Figure size 1440x360 with 3 Axes>"
      ]
     },
     "metadata": {},
     "output_type": "display_data"
    }
   ],
   "source": [
    "plt.style.use(\"bmh\")\n",
    "f, [ax1,ax2,ax3] = plt.subplots(1,3,figsize=(20,5))\n",
    "sns.countplot(x='Sex', hue='Survived', data=train_data, ax=ax1, palette='Paired')\n",
    "sns.countplot(x='Pclass', hue='Survived', data=train_data, ax=ax2, palette='Paired')\n",
    "sns.countplot(x='Embarked', hue='Survived', data=train_data, ax=ax3,palette='Paired')\n",
    "ax1.set_title('Sex Count Number')\n",
    "ax2.set_title('Pclass Count Number')\n",
    "ax3.set_title('Embarked Count Number')\n",
    "f.suptitle('Frequency Count Distribution of \"Sex\",\"Pclass\" and \"Embarked\"', size=20, y=1.1)\n",
    "plt.show()"
   ]
  },
  {
   "cell_type": "markdown",
   "metadata": {},
   "source": [
    "    The number of males is more considerable than females; \n",
    "    The number of people in the Pclass 3 is larger than the other classes           The number of people around Embarked S is the most."
   ]
  },
  {
   "cell_type": "code",
   "execution_count": 132,
   "metadata": {},
   "outputs": [
    {
     "data": {
      "image/png": "[encoded data removed]",
      "text/plain": [
       "<Figure size 1440x360 with 3 Axes>"
      ]
     },
     "metadata": {},
     "output_type": "display_data"
    }
   ],
   "source": [
    "f, [ax1,ax2,ax3] = plt.subplots(1,3,figsize=(20,5))\n",
    "sns.barplot(x = sex_survive_ratio.index, y = sex_survive_ratio, ax=ax1,palette='Paired')\n",
    "sns.barplot(x = Pclass_survive_ratio.index, y = Pclass_survive_ratio, ax=ax2, palette='Paired')\n",
    "sns.barplot(x = Embarked_survive_ratio.index, y = Embarked_survive_ratio,ax=ax3, palette='Paired')\n",
    "ax1.set_title('Female/Male Survived Ratio')\n",
    "ax2.set_title('Pclass Survived Ratio')\n",
    "ax3.set_title('Embarked Survived Ratio')\n",
    "f.suptitle('The Survived Ratio Analysis of \"Sex\", \"Pclass\" and \"Embarked\"', size=20, y=1.1)\n",
    "plt.show()"
   ]
  },
  {
   "cell_type": "markdown",
   "metadata": {},
   "source": [
    "    Combined with what we observed above, we can see that:\n",
    "    (1) Eeven though the number of males is larger than females, the survived ratio of female is significant.\n",
    "    (2) Pclass 3 has the lowest survived ratio and maximum number of people     compared with other classes, meaning the poor people may be related to Pclass 3 and Pclass 1 has the highest survived ratio and lowest number of people, it may represent the rich\n",
    "    (3) Embarked S has the lowest survival ratio with the largest number of people. The reason may be most of the people in the Pclass 3 is related to Embared S, or there may be something that happened in the accident contributing to the lower survived ratio of Embarked S"
   ]
  },
  {
   "cell_type": "code",
   "execution_count": 133,
   "metadata": {},
   "outputs": [
    {
     "name": "stderr",
     "output_type": "stream",
     "text": [
      "C:\\Anaconda\\envs\\py38\\lib\\site-packages\\seaborn\\axisgrid.py:316: UserWarning: The `size` parameter has been renamed to `height`; please update your code.\n",
      "  warnings.warn(msg, UserWarning)\n",
      "C:\\Anaconda\\envs\\py38\\lib\\site-packages\\seaborn\\axisgrid.py:643: UserWarning: Using the countplot function without specifying `order` is likely to produce an incorrect plot.\n",
      "  warnings.warn(warning)\n"
     ]
    },
    {
     "data": {
      "text/plain": [
       "<seaborn.axisgrid.FacetGrid at 0x1b61f5ac760>"
      ]
     },
     "execution_count": 133,
     "metadata": {},
     "output_type": "execute_result"
    },
    {
     "data": {
      "image/png": "[encoded data removed]",
      "text/plain": [
       "<Figure size 911x576 with 6 Axes>"
      ]
     },
     "metadata": {},
     "output_type": "display_data"
    }
   ],
   "source": [
    "grid = sns.FacetGrid(train_data, row = 'Sex', col='Pclass', hue='Survived', palette='Paired', size=4)\n",
    "grid.map(sns.countplot, 'Embarked', alpha=0.8)\n",
    "grid.add_legend()"
   ]
  },
  {
   "cell_type": "markdown",
   "metadata": {},
   "source": [
    "    From the plots shown above, we can get several observations:\n",
    "    (1) Embarked Q may be related to the Pclass 3, for the most of people in the Q are also in the Pclass 3. Based on the previous analysis, we can see that the poor may be in the Pclass 3\n",
    "    (2) Nearly all of the females in the Pclass1 and Pclass2 survived\n",
    "    (3) Males in the Embarked C and Q have the lowest survived ratio"
   ]
  },
  {
   "cell_type": "markdown",
   "metadata": {},
   "source": [
    "***Dealing with \"Embarked\" missing value***"
   ]
  },
  {
   "cell_type": "code",
   "execution_count": 134,
   "metadata": {},
   "outputs": [
    {
     "data": {
      "text/html": [
       "<div>\n",
       "<style scoped>\n",
       "    .dataframe tbody tr th:only-of-type {\n",
       "        vertical-align: middle;\n",
       "    }\n",
       "\n",
       "    .dataframe tbody tr th {\n",
       "        vertical-align: top;\n",
       "    }\n",
       "\n",
       "    .dataframe thead th {\n",
       "        text-align: right;\n",
       "    }\n",
       "</style>\n",
       "<table border=\"1\" class=\"dataframe\">\n",
       "  <thead>\n",
       "    <tr style=\"text-align: right;\">\n",
       "      <th></th>\n",
       "      <th>PassengerId</th>\n",
       "      <th>Survived</th>\n",
       "      <th>Pclass</th>\n",
       "      <th>Name</th>\n",
       "      <th>Sex</th>\n",
       "      <th>Age</th>\n",
       "      <th>SibSp</th>\n",
       "      <th>Parch</th>\n",
       "      <th>Ticket</th>\n",
       "      <th>Fare</th>\n",
       "      <th>Cabin</th>\n",
       "      <th>Embarked</th>\n",
       "    </tr>\n",
       "  </thead>\n",
       "  <tbody>\n",
       "    <tr>\n",
       "      <th>61</th>\n",
       "      <td>62</td>\n",
       "      <td>1</td>\n",
       "      <td>1</td>\n",
       "      <td>Icard, Miss. Amelie</td>\n",
       "      <td>female</td>\n",
       "      <td>38.0</td>\n",
       "      <td>0</td>\n",
       "      <td>0</td>\n",
       "      <td>113572</td>\n",
       "      <td>80.0</td>\n",
       "      <td>B28</td>\n",
       "      <td>NaN</td>\n",
       "    </tr>\n",
       "    <tr>\n",
       "      <th>829</th>\n",
       "      <td>830</td>\n",
       "      <td>1</td>\n",
       "      <td>1</td>\n",
       "      <td>Stone, Mrs. George Nelson (Martha Evelyn)</td>\n",
       "      <td>female</td>\n",
       "      <td>62.0</td>\n",
       "      <td>0</td>\n",
       "      <td>0</td>\n",
       "      <td>113572</td>\n",
       "      <td>80.0</td>\n",
       "      <td>B28</td>\n",
       "      <td>NaN</td>\n",
       "    </tr>\n",
       "  </tbody>\n",
       "</table>\n",
       "</div>"
      ],
      "text/plain": [
       "     PassengerId  Survived  Pclass                                       Name  \\\n",
       "61            62         1       1                        Icard, Miss. Amelie   \n",
       "829          830         1       1  Stone, Mrs. George Nelson (Martha Evelyn)   \n",
       "\n",
       "        Sex   Age  SibSp  Parch  Ticket  Fare Cabin Embarked  \n",
       "61   female  38.0      0      0  113572  80.0   B28      NaN  \n",
       "829  female  62.0      0      0  113572  80.0   B28      NaN  "
      ]
     },
     "execution_count": 134,
     "metadata": {},
     "output_type": "execute_result"
    }
   ],
   "source": [
    "train_data[train_data.Embarked.isna()]"
   ]
  },
  {
   "cell_type": "markdown",
   "metadata": {},
   "source": [
    "    From the plots shown above we can see that when the Sex=Female and Pclass=1,\n",
    "    most of the people belongs to the Embarked C\n",
    "    We can fill the missing value with C"
   ]
  },
  {
   "cell_type": "code",
   "execution_count": 135,
   "metadata": {},
   "outputs": [
    {
     "name": "stderr",
     "output_type": "stream",
     "text": [
      "C:\\Anaconda\\envs\\py38\\lib\\site-packages\\pandas\\core\\series.py:4463: SettingWithCopyWarning: \n",
      "A value is trying to be set on a copy of a slice from a DataFrame\n",
      "\n",
      "See the caveats in the documentation: https://pandas.pydata.org/pandas-docs/stable/user_guide/indexing.html#returning-a-view-versus-a-copy\n",
      "  return super().fillna(\n"
     ]
    }
   ],
   "source": [
    "train_data.Embarked.fillna('C', inplace = True)"
   ]
  },
  {
   "cell_type": "markdown",
   "metadata": {},
   "source": [
    "**'Cabin' Exploration**"
   ]
  },
  {
   "cell_type": "code",
   "execution_count": 136,
   "metadata": {},
   "outputs": [
    {
     "data": {
      "text/plain": [
       "0.7720706260032103"
      ]
     },
     "execution_count": 136,
     "metadata": {},
     "output_type": "execute_result"
    }
   ],
   "source": [
    "train_data.Cabin.isna().sum()/train_data.Cabin.shape[0]"
   ]
  },
  {
   "cell_type": "code",
   "execution_count": 137,
   "metadata": {},
   "outputs": [
    {
     "data": {
      "text/plain": [
       "0.7686567164179104"
      ]
     },
     "execution_count": 137,
     "metadata": {},
     "output_type": "execute_result"
    }
   ],
   "source": [
    "val_data.Cabin.isna().sum()/val_data.Cabin.shape[0]"
   ]
  },
  {
   "cell_type": "markdown",
   "metadata": {},
   "source": [
    "    Since there are arounf 77% missing value in both training data and validation data, we can delete this feature from our dataset"
   ]
  },
  {
   "cell_type": "code",
   "execution_count": 139,
   "metadata": {},
   "outputs": [],
   "source": [
    "train_data = train_data.drop(['Cabin'], axis=1)\n",
    "val_data = val_data.drop(['Cabin'], axis=1)\n",
    "test_data = test_data.drop(['Cabin'], axis=1)"
   ]
  },
  {
   "cell_type": "markdown",
   "metadata": {},
   "source": [
    "**'Fare' Exploration**"
   ]
  },
  {
   "cell_type": "code",
   "execution_count": 144,
   "metadata": {},
   "outputs": [],
   "source": [
    "import statsmodels.formula.api as smf\n",
    "from statsmodels.tools import eval_measures\n",
    "import statsmodels.api as sm"
   ]
  },
  {
   "cell_type": "markdown",
   "metadata": {},
   "source": [
    "***Dealing with \"Fare\" missing value***"
   ]
  },
  {
   "cell_type": "code",
   "execution_count": 142,
   "metadata": {},
   "outputs": [
    {
     "data": {
      "text/html": [
       "<div>\n",
       "<style scoped>\n",
       "    .dataframe tbody tr th:only-of-type {\n",
       "        vertical-align: middle;\n",
       "    }\n",
       "\n",
       "    .dataframe tbody tr th {\n",
       "        vertical-align: top;\n",
       "    }\n",
       "\n",
       "    .dataframe thead th {\n",
       "        text-align: right;\n",
       "    }\n",
       "</style>\n",
       "<table border=\"1\" class=\"dataframe\">\n",
       "  <thead>\n",
       "    <tr style=\"text-align: right;\">\n",
       "      <th></th>\n",
       "      <th>PassengerId</th>\n",
       "      <th>Pclass</th>\n",
       "      <th>Name</th>\n",
       "      <th>Sex</th>\n",
       "      <th>Age</th>\n",
       "      <th>SibSp</th>\n",
       "      <th>Parch</th>\n",
       "      <th>Ticket</th>\n",
       "      <th>Fare</th>\n",
       "      <th>Embarked</th>\n",
       "    </tr>\n",
       "  </thead>\n",
       "  <tbody>\n",
       "    <tr>\n",
       "      <th>152</th>\n",
       "      <td>1044</td>\n",
       "      <td>3</td>\n",
       "      <td>Storey, Mr. Thomas</td>\n",
       "      <td>male</td>\n",
       "      <td>60.5</td>\n",
       "      <td>0</td>\n",
       "      <td>0</td>\n",
       "      <td>3701</td>\n",
       "      <td>NaN</td>\n",
       "      <td>S</td>\n",
       "    </tr>\n",
       "  </tbody>\n",
       "</table>\n",
       "</div>"
      ],
      "text/plain": [
       "     PassengerId  Pclass                Name   Sex   Age  SibSp  Parch Ticket  \\\n",
       "152         1044       3  Storey, Mr. Thomas  male  60.5      0      0   3701   \n",
       "\n",
       "     Fare Embarked  \n",
       "152   NaN        S  "
      ]
     },
     "execution_count": 142,
     "metadata": {},
     "output_type": "execute_result"
    }
   ],
   "source": [
    "test_data[test_data.Fare.isna()]"
   ]
  },
  {
   "cell_type": "code",
   "execution_count": 145,
   "metadata": {},
   "outputs": [
    {
     "data": {
      "text/plain": [
       "Intercept         118.548546\n",
       "C(Pclass)[T.2]    -78.136171\n",
       "C(Pclass)[T.3]    -90.798801\n",
       "Age                -0.609974\n",
       "dtype: float64"
      ]
     },
     "execution_count": 145,
     "metadata": {},
     "output_type": "execute_result"
    }
   ],
   "source": [
    "multi_lm = smf.ols(formula='Fare ~ Age + C(Pclass)', data = train_data).fit()\n",
    "multi_lm.params"
   ]
  },
  {
   "cell_type": "markdown",
   "metadata": {},
   "source": [
    "    Based on the parameters derived from this model, we can get a basic idea that with the Pclass number arising, the fare is going down.Since there is only one missing value in the Fare, we can find the similar data in the training set to fill this NA"
   ]
  },
  {
   "cell_type": "code",
   "execution_count": 146,
   "metadata": {},
   "outputs": [
    {
     "data": {
      "text/html": [
       "<div>\n",
       "<style scoped>\n",
       "    .dataframe tbody tr th:only-of-type {\n",
       "        vertical-align: middle;\n",
       "    }\n",
       "\n",
       "    .dataframe tbody tr th {\n",
       "        vertical-align: top;\n",
       "    }\n",
       "\n",
       "    .dataframe thead th {\n",
       "        text-align: right;\n",
       "    }\n",
       "</style>\n",
       "<table border=\"1\" class=\"dataframe\">\n",
       "  <thead>\n",
       "    <tr style=\"text-align: right;\">\n",
       "      <th></th>\n",
       "      <th>PassengerId</th>\n",
       "      <th>Survived</th>\n",
       "      <th>Pclass</th>\n",
       "      <th>Name</th>\n",
       "      <th>Sex</th>\n",
       "      <th>Age</th>\n",
       "      <th>SibSp</th>\n",
       "      <th>Parch</th>\n",
       "      <th>Ticket</th>\n",
       "      <th>Fare</th>\n",
       "      <th>Embarked</th>\n",
       "    </tr>\n",
       "  </thead>\n",
       "  <tbody>\n",
       "    <tr>\n",
       "      <th>116</th>\n",
       "      <td>117</td>\n",
       "      <td>0</td>\n",
       "      <td>3</td>\n",
       "      <td>Connors, Mr. Patrick</td>\n",
       "      <td>male</td>\n",
       "      <td>70.5</td>\n",
       "      <td>0</td>\n",
       "      <td>0</td>\n",
       "      <td>370369</td>\n",
       "      <td>7.7500</td>\n",
       "      <td>Q</td>\n",
       "    </tr>\n",
       "    <tr>\n",
       "      <th>326</th>\n",
       "      <td>327</td>\n",
       "      <td>0</td>\n",
       "      <td>3</td>\n",
       "      <td>Nysveen, Mr. Johan Hansen</td>\n",
       "      <td>male</td>\n",
       "      <td>61.0</td>\n",
       "      <td>0</td>\n",
       "      <td>0</td>\n",
       "      <td>345364</td>\n",
       "      <td>6.2375</td>\n",
       "      <td>S</td>\n",
       "    </tr>\n",
       "  </tbody>\n",
       "</table>\n",
       "</div>"
      ],
      "text/plain": [
       "     PassengerId  Survived  Pclass                       Name   Sex   Age  \\\n",
       "116          117         0       3       Connors, Mr. Patrick  male  70.5   \n",
       "326          327         0       3  Nysveen, Mr. Johan Hansen  male  61.0   \n",
       "\n",
       "     SibSp  Parch  Ticket    Fare Embarked  \n",
       "116      0      0  370369  7.7500        Q  \n",
       "326      0      0  345364  6.2375        S  "
      ]
     },
     "execution_count": 146,
     "metadata": {},
     "output_type": "execute_result"
    }
   ],
   "source": [
    "similar_data = train_data.loc[(train_data['Pclass']==3) & (train_data['Age']>60) & (train_data['Sex']=='male')]\n",
    "similar_data"
   ]
  },
  {
   "cell_type": "code",
   "execution_count": 147,
   "metadata": {},
   "outputs": [],
   "source": [
    "test_data.Fare.fillna(similar_data.Fare.mean(),inplace = True)"
   ]
  },
  {
   "cell_type": "code",
   "execution_count": 158,
   "metadata": {},
   "outputs": [],
   "source": [
    "train_data['Fare'] = train_data['Fare'].astype(int)\n",
    "val_data['Fare'] = val_data['Fare'].astype(int)\n",
    "test_data['Fare'] = test_data['Fare'].astype(int)"
   ]
  },
  {
   "cell_type": "markdown",
   "metadata": {},
   "source": [
    "***Find the relationship between the Survived ratio and \"Fare\" feature***"
   ]
  },
  {
   "cell_type": "code",
   "execution_count": 159,
   "metadata": {},
   "outputs": [],
   "source": [
    "fare_not_survived = train_data[[\"Fare\"]][train_data[\"Survived\"] == 0]\n",
    "fare_survived = train_data[[\"Fare\"]][train_data[\"Survived\"] == 1]"
   ]
  },
  {
   "cell_type": "code",
   "execution_count": 160,
   "metadata": {},
   "outputs": [
    {
     "name": "stderr",
     "output_type": "stream",
     "text": [
      "<ipython-input-160-482a1a6303cb>:3: RuntimeWarning: invalid value encountered in longlong_scalars\n",
      "  fare_survived_ratio = fare_survived[(fare_survived['Fare']>= i) & (fare_survived['Fare'] <= i+25)].value_counts().sum()/train_data[\"Fare\"][(train_data[\"Fare\"]>=i) & (train_data[\"Fare\"] <= i+25)].value_counts().sum()\n",
      "<ipython-input-160-482a1a6303cb>:3: RuntimeWarning: invalid value encountered in longlong_scalars\n",
      "  fare_survived_ratio = fare_survived[(fare_survived['Fare']>= i) & (fare_survived['Fare'] <= i+25)].value_counts().sum()/train_data[\"Fare\"][(train_data[\"Fare\"]>=i) & (train_data[\"Fare\"] <= i+25)].value_counts().sum()\n",
      "<ipython-input-160-482a1a6303cb>:3: RuntimeWarning: invalid value encountered in longlong_scalars\n",
      "  fare_survived_ratio = fare_survived[(fare_survived['Fare']>= i) & (fare_survived['Fare'] <= i+25)].value_counts().sum()/train_data[\"Fare\"][(train_data[\"Fare\"]>=i) & (train_data[\"Fare\"] <= i+25)].value_counts().sum()\n",
      "<ipython-input-160-482a1a6303cb>:3: RuntimeWarning: invalid value encountered in longlong_scalars\n",
      "  fare_survived_ratio = fare_survived[(fare_survived['Fare']>= i) & (fare_survived['Fare'] <= i+25)].value_counts().sum()/train_data[\"Fare\"][(train_data[\"Fare\"]>=i) & (train_data[\"Fare\"] <= i+25)].value_counts().sum()\n",
      "<ipython-input-160-482a1a6303cb>:3: RuntimeWarning: invalid value encountered in longlong_scalars\n",
      "  fare_survived_ratio = fare_survived[(fare_survived['Fare']>= i) & (fare_survived['Fare'] <= i+25)].value_counts().sum()/train_data[\"Fare\"][(train_data[\"Fare\"]>=i) & (train_data[\"Fare\"] <= i+25)].value_counts().sum()\n",
      "<ipython-input-160-482a1a6303cb>:3: RuntimeWarning: invalid value encountered in longlong_scalars\n",
      "  fare_survived_ratio = fare_survived[(fare_survived['Fare']>= i) & (fare_survived['Fare'] <= i+25)].value_counts().sum()/train_data[\"Fare\"][(train_data[\"Fare\"]>=i) & (train_data[\"Fare\"] <= i+25)].value_counts().sum()\n",
      "<ipython-input-160-482a1a6303cb>:3: RuntimeWarning: invalid value encountered in longlong_scalars\n",
      "  fare_survived_ratio = fare_survived[(fare_survived['Fare']>= i) & (fare_survived['Fare'] <= i+25)].value_counts().sum()/train_data[\"Fare\"][(train_data[\"Fare\"]>=i) & (train_data[\"Fare\"] <= i+25)].value_counts().sum()\n",
      "<ipython-input-160-482a1a6303cb>:3: RuntimeWarning: invalid value encountered in longlong_scalars\n",
      "  fare_survived_ratio = fare_survived[(fare_survived['Fare']>= i) & (fare_survived['Fare'] <= i+25)].value_counts().sum()/train_data[\"Fare\"][(train_data[\"Fare\"]>=i) & (train_data[\"Fare\"] <= i+25)].value_counts().sum()\n",
      "<ipython-input-160-482a1a6303cb>:3: RuntimeWarning: invalid value encountered in longlong_scalars\n",
      "  fare_survived_ratio = fare_survived[(fare_survived['Fare']>= i) & (fare_survived['Fare'] <= i+25)].value_counts().sum()/train_data[\"Fare\"][(train_data[\"Fare\"]>=i) & (train_data[\"Fare\"] <= i+25)].value_counts().sum()\n",
      "<ipython-input-160-482a1a6303cb>:3: RuntimeWarning: invalid value encountered in longlong_scalars\n",
      "  fare_survived_ratio = fare_survived[(fare_survived['Fare']>= i) & (fare_survived['Fare'] <= i+25)].value_counts().sum()/train_data[\"Fare\"][(train_data[\"Fare\"]>=i) & (train_data[\"Fare\"] <= i+25)].value_counts().sum()\n"
     ]
    }
   ],
   "source": [
    "fare_survived_ratio_dict = {}\n",
    "for i in range(0,525,25):\n",
    "    fare_survived_ratio = fare_survived[(fare_survived['Fare']>= i) & (fare_survived['Fare'] <= i+25)].value_counts().sum()/train_data[\"Fare\"][(train_data[\"Fare\"]>=i) & (train_data[\"Fare\"] <= i+25)].value_counts().sum()\n",
    "    fare_survived_ratio_dict[str(i)+'-'+str(i+25)] = fare_survived_ratio.round(3)\n",
    "fare_survived_ratio = pd.Series(fare_survived_ratio_dict)"
   ]
  },
  {
   "cell_type": "code",
   "execution_count": 165,
   "metadata": {},
   "outputs": [
    {
     "data": {
      "text/plain": [
       "0-25       False\n",
       "25-50      False\n",
       "50-75      False\n",
       "75-100     False\n",
       "100-125    False\n",
       "125-150    False\n",
       "150-175    False\n",
       "175-200     True\n",
       "200-225    False\n",
       "225-250    False\n",
       "250-275    False\n",
       "275-300     True\n",
       "300-325     True\n",
       "325-350     True\n",
       "350-375     True\n",
       "375-400     True\n",
       "400-425     True\n",
       "425-450     True\n",
       "450-475     True\n",
       "475-500     True\n",
       "500-525    False\n",
       "dtype: bool"
      ]
     },
     "execution_count": 165,
     "metadata": {},
     "output_type": "execute_result"
    }
   ],
   "source": [
    "fare_survived_ratio.isna()"
   ]
  },
  {
   "cell_type": "code",
   "execution_count": 166,
   "metadata": {},
   "outputs": [],
   "source": [
    "fare_survived_ratio.fillna(0, inplace = True)"
   ]
  },
  {
   "cell_type": "code",
   "execution_count": 171,
   "metadata": {},
   "outputs": [
    {
     "data": {
      "text/plain": [
       "<AxesSubplot:title={'center':'The Survived Ratio Based on the Fare'}>"
      ]
     },
     "execution_count": 171,
     "metadata": {},
     "output_type": "execute_result"
    },
    {
     "data": {
      "image/png": "[encoded data removed]",
      "text/plain": [
       "<Figure size 720x360 with 1 Axes>"
      ]
     },
     "metadata": {},
     "output_type": "display_data"
    }
   ],
   "source": [
    "fig,ax = plt.subplots(figsize=(10,5))\n",
    "plt.title('The Survived Ratio Based on the Fare')\n",
    "sns.barplot(y = fare_survived_ratio.index, x = fare_survived_ratio, palette='Blues')"
   ]
  },
  {
   "cell_type": "code",
   "execution_count": 176,
   "metadata": {},
   "outputs": [],
   "source": [
    "above_500 = train_data[train_data['Fare'] >= 500]"
   ]
  },
  {
   "cell_type": "code",
   "execution_count": 175,
   "metadata": {},
   "outputs": [
    {
     "data": {
      "text/html": [
       "<div>\n",
       "<style scoped>\n",
       "    .dataframe tbody tr th:only-of-type {\n",
       "        vertical-align: middle;\n",
       "    }\n",
       "\n",
       "    .dataframe tbody tr th {\n",
       "        vertical-align: top;\n",
       "    }\n",
       "\n",
       "    .dataframe thead th {\n",
       "        text-align: right;\n",
       "    }\n",
       "</style>\n",
       "<table border=\"1\" class=\"dataframe\">\n",
       "  <thead>\n",
       "    <tr style=\"text-align: right;\">\n",
       "      <th></th>\n",
       "      <th>PassengerId</th>\n",
       "      <th>Survived</th>\n",
       "      <th>Pclass</th>\n",
       "      <th>Name</th>\n",
       "      <th>Sex</th>\n",
       "      <th>Age</th>\n",
       "      <th>SibSp</th>\n",
       "      <th>Parch</th>\n",
       "      <th>Ticket</th>\n",
       "      <th>Fare</th>\n",
       "      <th>Embarked</th>\n",
       "    </tr>\n",
       "  </thead>\n",
       "  <tbody>\n",
       "    <tr>\n",
       "      <th>679</th>\n",
       "      <td>680</td>\n",
       "      <td>1</td>\n",
       "      <td>1</td>\n",
       "      <td>Cardeza, Mr. Thomas Drake Martinez</td>\n",
       "      <td>male</td>\n",
       "      <td>36.0</td>\n",
       "      <td>0</td>\n",
       "      <td>1</td>\n",
       "      <td>PC 17755</td>\n",
       "      <td>512</td>\n",
       "      <td>C</td>\n",
       "    </tr>\n",
       "    <tr>\n",
       "      <th>258</th>\n",
       "      <td>259</td>\n",
       "      <td>1</td>\n",
       "      <td>1</td>\n",
       "      <td>Ward, Miss. Anna</td>\n",
       "      <td>female</td>\n",
       "      <td>35.0</td>\n",
       "      <td>0</td>\n",
       "      <td>0</td>\n",
       "      <td>PC 17755</td>\n",
       "      <td>512</td>\n",
       "      <td>C</td>\n",
       "    </tr>\n",
       "    <tr>\n",
       "      <th>737</th>\n",
       "      <td>738</td>\n",
       "      <td>1</td>\n",
       "      <td>1</td>\n",
       "      <td>Lesurer, Mr. Gustave J</td>\n",
       "      <td>male</td>\n",
       "      <td>35.0</td>\n",
       "      <td>0</td>\n",
       "      <td>0</td>\n",
       "      <td>PC 17755</td>\n",
       "      <td>512</td>\n",
       "      <td>C</td>\n",
       "    </tr>\n",
       "  </tbody>\n",
       "</table>\n",
       "</div>"
      ],
      "text/plain": [
       "     PassengerId  Survived  Pclass                                Name  \\\n",
       "679          680         1       1  Cardeza, Mr. Thomas Drake Martinez   \n",
       "258          259         1       1                    Ward, Miss. Anna   \n",
       "737          738         1       1              Lesurer, Mr. Gustave J   \n",
       "\n",
       "        Sex   Age  SibSp  Parch    Ticket  Fare Embarked  \n",
       "679    male  36.0      0      1  PC 17755   512        C  \n",
       "258  female  35.0      0      0  PC 17755   512        C  \n",
       "737    male  35.0      0      0  PC 17755   512        C  "
      ]
     },
     "execution_count": 175,
     "metadata": {},
     "output_type": "execute_result"
    }
   ],
   "source": [
    "above_500"
   ]
  },
  {
   "cell_type": "markdown",
   "metadata": {},
   "source": [
    "    Based on this plot, we can easily recoginize that:\n",
    "    (1) People with lower fare value have lower survived ratio\n",
    "    (2) The survived ratio reached 100% when the fare value is batween 125-150 as well as 500-525\n",
    "    (3) 500-525 may be outlier but we do not have enough data to prove it"
   ]
  },
  {
   "cell_type": "markdown",
   "metadata": {},
   "source": [
    "**'SibSp' and 'Parch' Exploration**"
   ]
  },
  {
   "cell_type": "markdown",
   "metadata": {},
   "source": [
    "***Feature Egineering***"
   ]
  },
  {
   "cell_type": "code",
   "execution_count": 178,
   "metadata": {},
   "outputs": [
    {
     "name": "stderr",
     "output_type": "stream",
     "text": [
      "C:\\Anaconda\\envs\\py38\\lib\\site-packages\\pandas\\core\\indexing.py:1637: SettingWithCopyWarning: \n",
      "A value is trying to be set on a copy of a slice from a DataFrame\n",
      "\n",
      "See the caveats in the documentation: https://pandas.pydata.org/pandas-docs/stable/user_guide/indexing.html#returning-a-view-versus-a-copy\n",
      "  self._setitem_single_block(indexer, value, name)\n",
      "C:\\Anaconda\\envs\\py38\\lib\\site-packages\\pandas\\core\\indexing.py:1637: SettingWithCopyWarning: \n",
      "A value is trying to be set on a copy of a slice from a DataFrame\n",
      "\n",
      "See the caveats in the documentation: https://pandas.pydata.org/pandas-docs/stable/user_guide/indexing.html#returning-a-view-versus-a-copy\n",
      "  self._setitem_single_block(indexer, value, name)\n",
      "C:\\Anaconda\\envs\\py38\\lib\\site-packages\\pandas\\core\\indexing.py:1637: SettingWithCopyWarning: \n",
      "A value is trying to be set on a copy of a slice from a DataFrame\n",
      "\n",
      "See the caveats in the documentation: https://pandas.pydata.org/pandas-docs/stable/user_guide/indexing.html#returning-a-view-versus-a-copy\n",
      "  self._setitem_single_block(indexer, value, name)\n",
      "C:\\Anaconda\\envs\\py38\\lib\\site-packages\\pandas\\core\\indexing.py:1637: SettingWithCopyWarning: \n",
      "A value is trying to be set on a copy of a slice from a DataFrame\n",
      "\n",
      "See the caveats in the documentation: https://pandas.pydata.org/pandas-docs/stable/user_guide/indexing.html#returning-a-view-versus-a-copy\n",
      "  self._setitem_single_block(indexer, value, name)\n",
      "C:\\Anaconda\\envs\\py38\\lib\\site-packages\\pandas\\core\\indexing.py:1637: SettingWithCopyWarning: \n",
      "A value is trying to be set on a copy of a slice from a DataFrame\n",
      "\n",
      "See the caveats in the documentation: https://pandas.pydata.org/pandas-docs/stable/user_guide/indexing.html#returning-a-view-versus-a-copy\n",
      "  self._setitem_single_block(indexer, value, name)\n",
      "C:\\Anaconda\\envs\\py38\\lib\\site-packages\\pandas\\core\\indexing.py:1637: SettingWithCopyWarning: \n",
      "A value is trying to be set on a copy of a slice from a DataFrame\n",
      "\n",
      "See the caveats in the documentation: https://pandas.pydata.org/pandas-docs/stable/user_guide/indexing.html#returning-a-view-versus-a-copy\n",
      "  self._setitem_single_block(indexer, value, name)\n"
     ]
    }
   ],
   "source": [
    "# Combine the \"Parch\" and \"SibSp\" as \"Family\"\n",
    "train_data['Family'] = train_data[\"Parch\"] + train_data[\"SibSp\"]\n",
    "train_data['Family'].loc[train_data['Family'] > 0] = 1\n",
    "train_data['Family'].loc[train_data['Family'] == 0] = 0\n",
    "val_data['Family'] = val_data[\"Parch\"] + val_data[\"SibSp\"]\n",
    "val_data['Family'].loc[val_data['Family'] > 0] = 1\n",
    "val_data['Family'].loc[val_data['Family'] == 0] = 0\n",
    "test_data['Family'] = test_data[\"Parch\"] + test_data[\"SibSp\"]\n",
    "test_data['Family'].loc[test_data['Family'] > 0] = 1\n",
    "test_data['Family'].loc[test_data['Family'] == 0] = 0"
   ]
  },
  {
   "cell_type": "code",
   "execution_count": 179,
   "metadata": {},
   "outputs": [],
   "source": [
    "train_data = train_data.drop(['SibSp','Parch'], axis=1)\n",
    "val_data = val_data.drop(['SibSp','Parch'], axis=1)\n",
    "test_data = test_data.drop(['SibSp','Parch'], axis=1)"
   ]
  },
  {
   "cell_type": "code",
   "execution_count": 180,
   "metadata": {},
   "outputs": [
    {
     "data": {
      "text/plain": [
       "0.512"
      ]
     },
     "execution_count": 180,
     "metadata": {},
     "output_type": "execute_result"
    }
   ],
   "source": [
    "With_Family = train_data[['Family','Survived']][train_data['Family']==1].Survived.value_counts()/train_data[['Family','Survived']][train_data['Family']==1].Survived.value_counts().sum()\n",
    "With_Family_Survived_Ratio = With_Family[1].round(3)\n",
    "With_Family_Survived_Ratio"
   ]
  },
  {
   "cell_type": "code",
   "execution_count": 181,
   "metadata": {},
   "outputs": [
    {
     "data": {
      "text/plain": [
       "0.315"
      ]
     },
     "execution_count": 181,
     "metadata": {},
     "output_type": "execute_result"
    }
   ],
   "source": [
    "Alone = train_data[['Family','Survived']][train_data['Family']==0].Survived.value_counts()/train_data[['Family','Survived']][train_data['Family']==0].Survived.value_counts().sum()\n",
    "Alone_Survived_Ratio = Alone[1].round(3)\n",
    "Alone_Survived_Ratio"
   ]
  },
  {
   "cell_type": "code",
   "execution_count": 182,
   "metadata": {},
   "outputs": [
    {
     "data": {
      "text/plain": [
       "With Family    0.512\n",
       "Alone          0.315\n",
       "dtype: float64"
      ]
     },
     "execution_count": 182,
     "metadata": {},
     "output_type": "execute_result"
    }
   ],
   "source": [
    "Family_Alone_Survived_Ratio = pd.Series([With_Family_Survived_Ratio,Alone_Survived_Ratio],index=['With Family','Alone'])\n",
    "Family_Alone_Survived_Ratio"
   ]
  },
  {
   "cell_type": "code",
   "execution_count": 183,
   "metadata": {},
   "outputs": [
    {
     "data": {
      "text/plain": [
       "<AxesSubplot:title={'center':'With Family and Alone Survived Ratio'}>"
      ]
     },
     "execution_count": 183,
     "metadata": {},
     "output_type": "execute_result"
    },
    {
     "data": {
      "image/png": "[encoded data removed]",
      "text/plain": [
       "<Figure size 432x288 with 1 Axes>"
      ]
     },
     "metadata": {},
     "output_type": "display_data"
    }
   ],
   "source": [
    "plt.figure(figsize=(6,4))\n",
    "plt.title(\"With Family and Alone Survived Ratio\")\n",
    "sns.barplot(x = Family_Alone_Survived_Ratio.index, y = Family_Alone_Survived_Ratio, palette='Paired')"
   ]
  },
  {
   "cell_type": "markdown",
   "metadata": {},
   "source": [
    "    Based on the analysis shown above, we can see that the people with other family members have higher suivived ratio than the alone one"
   ]
  },
  {
   "cell_type": "markdown",
   "metadata": {},
   "source": [
    "**\"Age\" Exploration**"
   ]
  },
  {
   "cell_type": "code",
   "execution_count": 192,
   "metadata": {},
   "outputs": [
    {
     "data": {
      "text/plain": [
       "<matplotlib.legend.Legend at 0x1b6230b2be0>"
      ]
     },
     "execution_count": 192,
     "metadata": {},
     "output_type": "execute_result"
    },
    {
     "data": {
      "image/png": "[encoded data removed]",
      "text/plain": [
       "<Figure size 720x360 with 1 Axes>"
      ]
     },
     "metadata": {},
     "output_type": "display_data"
    }
   ],
   "source": [
    "fig,ax = plt.subplots(figsize=(10,5))\n",
    "sns.kdeplot(train_data.loc[(train_data['Survived'] == 0),'Age'] , color='gray', shade=True, label='not survived')\n",
    "sns.kdeplot(train_data.loc[(train_data['Survived'] == 1),'Age'] , color='g', shade=True, label='survived')\n",
    "plt.title('Age Distribution', fontsize = 15)\n",
    "plt.xlabel(\"Age\", fontsize = 15)\n",
    "plt.ylabel('Frequency', fontsize = 15)\n",
    "plt.legend()"
   ]
  },
  {
   "cell_type": "markdown",
   "metadata": {},
   "source": [
    "    From this plot, we can see that the age of people who survived is mostly between 0 and 50, while those who did not survive centered between 15 and 50. Besides, few older people whose age are lager than 60 survived"
   ]
  },
  {
   "cell_type": "markdown",
   "metadata": {},
   "source": [
    "***Dealing with \"Age\" missing value***"
   ]
  },
  {
   "cell_type": "code",
   "execution_count": 193,
   "metadata": {},
   "outputs": [
    {
     "data": {
      "text/plain": [
       "29.88569105691057"
      ]
     },
     "execution_count": 193,
     "metadata": {},
     "output_type": "execute_result"
    }
   ],
   "source": [
    "train_data.Age.mean()"
   ]
  },
  {
   "cell_type": "code",
   "execution_count": 194,
   "metadata": {},
   "outputs": [
    {
     "data": {
      "text/plain": [
       "28.0"
      ]
     },
     "execution_count": 194,
     "metadata": {},
     "output_type": "execute_result"
    }
   ],
   "source": [
    "train_data.Age.median()"
   ]
  },
  {
   "cell_type": "code",
   "execution_count": 195,
   "metadata": {},
   "outputs": [
    {
     "data": {
      "text/plain": [
       "0    22.0\n",
       "dtype: float64"
      ]
     },
     "execution_count": 195,
     "metadata": {},
     "output_type": "execute_result"
    }
   ],
   "source": [
    "train_data.Age.mode()"
   ]
  },
  {
   "cell_type": "code",
   "execution_count": 304,
   "metadata": {},
   "outputs": [],
   "source": [
    "# Since mean > median > mode, it is right skewed\n",
    "# We use median value to fill the na\n",
    "train_data.Age.fillna(train_data.Age.median(), inplace = True)\n",
    "val_data.Age.fillna(train_data.Age.median(), inplace = True)\n",
    "test_data.Age.fillna(train_data.Age.median(), inplace = True)"
   ]
  },
  {
   "cell_type": "code",
   "execution_count": 287,
   "metadata": {},
   "outputs": [
    {
     "data": {
      "text/plain": [
       "PassengerId    0\n",
       "Survived       0\n",
       "Pclass         0\n",
       "Name           0\n",
       "Sex            0\n",
       "Age            0\n",
       "Ticket         0\n",
       "Fare           0\n",
       "Embarked       0\n",
       "Family         0\n",
       "dtype: int64"
      ]
     },
     "execution_count": 287,
     "metadata": {},
     "output_type": "execute_result"
    }
   ],
   "source": [
    "train_data.isna().sum()"
   ]
  },
  {
   "cell_type": "code",
   "execution_count": 288,
   "metadata": {},
   "outputs": [
    {
     "data": {
      "text/plain": [
       "PassengerId    0\n",
       "Survived       0\n",
       "Pclass         0\n",
       "Name           0\n",
       "Sex            0\n",
       "Age            0\n",
       "Ticket         0\n",
       "Fare           0\n",
       "Embarked       0\n",
       "Family         0\n",
       "dtype: int64"
      ]
     },
     "execution_count": 288,
     "metadata": {},
     "output_type": "execute_result"
    }
   ],
   "source": [
    "val_data.isna().sum()"
   ]
  },
  {
   "cell_type": "code",
   "execution_count": 289,
   "metadata": {},
   "outputs": [
    {
     "data": {
      "text/plain": [
       "PassengerId    0\n",
       "Pclass         0\n",
       "Name           0\n",
       "Sex            0\n",
       "Age            0\n",
       "Ticket         0\n",
       "Fare           0\n",
       "Embarked       0\n",
       "Family         0\n",
       "dtype: int64"
      ]
     },
     "execution_count": 289,
     "metadata": {},
     "output_type": "execute_result"
    }
   ],
   "source": [
    "test_data.isna().sum()"
   ]
  },
  {
   "cell_type": "markdown",
   "metadata": {},
   "source": [
    "***Feature Egineering_2***"
   ]
  },
  {
   "cell_type": "code",
   "execution_count": 305,
   "metadata": {},
   "outputs": [],
   "source": [
    "# children, the old, women, men\n",
    "child_age = 18\n",
    "old_age = 60\n",
    "def get_person(passenger):\n",
    "    age, sex = passenger\n",
    "    if (age <= child_age):\n",
    "        return 'child'\n",
    "    elif (age >= old_age):\n",
    "        return 'old'\n",
    "    elif (sex == 'female'):\n",
    "        return 'female_adult'\n",
    "    else:\n",
    "        return 'male_adult'\n",
    "df = train_data.copy()\n",
    "df_2 = val_data.copy()\n",
    "df_3 = test_data.copy()\n",
    "df = pd.concat([df, pd.DataFrame(df[['Age', 'Sex']].apply(get_person, axis=1), columns=['person'])],axis=1)\n",
    "df = pd.concat([df,pd.get_dummies(df['person'])],axis=1)\n",
    "df_2 = pd.concat([df_2, pd.DataFrame(df_2[['Age', 'Sex']].apply(get_person, axis=1), columns=['person'])],axis=1)\n",
    "df_2 = pd.concat([df_2, pd.get_dummies(df_2['person'])],axis=1)\n",
    "df_3 = pd.concat([df_3, pd.DataFrame(df_3[['Age', 'Sex']].apply(get_person, axis=1), columns=['person'])],axis=1)\n",
    "df_3 = pd.concat([df_3, pd.get_dummies(df_3['person'])],axis=1)"
   ]
  },
  {
   "cell_type": "code",
   "execution_count": 291,
   "metadata": {},
   "outputs": [
    {
     "data": {
      "text/html": [
       "<div>\n",
       "<style scoped>\n",
       "    .dataframe tbody tr th:only-of-type {\n",
       "        vertical-align: middle;\n",
       "    }\n",
       "\n",
       "    .dataframe tbody tr th {\n",
       "        vertical-align: top;\n",
       "    }\n",
       "\n",
       "    .dataframe thead th {\n",
       "        text-align: right;\n",
       "    }\n",
       "</style>\n",
       "<table border=\"1\" class=\"dataframe\">\n",
       "  <thead>\n",
       "    <tr style=\"text-align: right;\">\n",
       "      <th></th>\n",
       "      <th>PassengerId</th>\n",
       "      <th>Survived</th>\n",
       "      <th>Pclass</th>\n",
       "      <th>Name</th>\n",
       "      <th>Sex</th>\n",
       "      <th>Age</th>\n",
       "      <th>Ticket</th>\n",
       "      <th>Fare</th>\n",
       "      <th>Embarked</th>\n",
       "      <th>Family</th>\n",
       "      <th>person</th>\n",
       "      <th>child</th>\n",
       "      <th>female_adult</th>\n",
       "      <th>male_adult</th>\n",
       "      <th>old</th>\n",
       "    </tr>\n",
       "  </thead>\n",
       "  <tbody>\n",
       "    <tr>\n",
       "      <th>416</th>\n",
       "      <td>417</td>\n",
       "      <td>1</td>\n",
       "      <td>2</td>\n",
       "      <td>Drew, Mrs. James Vivian (Lulu Thorne Christian)</td>\n",
       "      <td>female</td>\n",
       "      <td>34.0</td>\n",
       "      <td>28220</td>\n",
       "      <td>32</td>\n",
       "      <td>S</td>\n",
       "      <td>1</td>\n",
       "      <td>female_adult</td>\n",
       "      <td>0</td>\n",
       "      <td>1</td>\n",
       "      <td>0</td>\n",
       "      <td>0</td>\n",
       "    </tr>\n",
       "    <tr>\n",
       "      <th>801</th>\n",
       "      <td>802</td>\n",
       "      <td>1</td>\n",
       "      <td>2</td>\n",
       "      <td>Collyer, Mrs. Harvey (Charlotte Annie Tate)</td>\n",
       "      <td>female</td>\n",
       "      <td>31.0</td>\n",
       "      <td>C.A. 31921</td>\n",
       "      <td>26</td>\n",
       "      <td>S</td>\n",
       "      <td>1</td>\n",
       "      <td>female_adult</td>\n",
       "      <td>0</td>\n",
       "      <td>1</td>\n",
       "      <td>0</td>\n",
       "      <td>0</td>\n",
       "    </tr>\n",
       "    <tr>\n",
       "      <th>512</th>\n",
       "      <td>513</td>\n",
       "      <td>1</td>\n",
       "      <td>1</td>\n",
       "      <td>McGough, Mr. James Robert</td>\n",
       "      <td>male</td>\n",
       "      <td>36.0</td>\n",
       "      <td>PC 17473</td>\n",
       "      <td>26</td>\n",
       "      <td>S</td>\n",
       "      <td>0</td>\n",
       "      <td>male_adult</td>\n",
       "      <td>0</td>\n",
       "      <td>0</td>\n",
       "      <td>1</td>\n",
       "      <td>0</td>\n",
       "    </tr>\n",
       "    <tr>\n",
       "      <th>455</th>\n",
       "      <td>456</td>\n",
       "      <td>1</td>\n",
       "      <td>3</td>\n",
       "      <td>Jalsevac, Mr. Ivan</td>\n",
       "      <td>male</td>\n",
       "      <td>29.0</td>\n",
       "      <td>349240</td>\n",
       "      <td>7</td>\n",
       "      <td>C</td>\n",
       "      <td>0</td>\n",
       "      <td>male_adult</td>\n",
       "      <td>0</td>\n",
       "      <td>0</td>\n",
       "      <td>1</td>\n",
       "      <td>0</td>\n",
       "    </tr>\n",
       "    <tr>\n",
       "      <th>757</th>\n",
       "      <td>758</td>\n",
       "      <td>0</td>\n",
       "      <td>2</td>\n",
       "      <td>Bailey, Mr. Percy Andrew</td>\n",
       "      <td>male</td>\n",
       "      <td>18.0</td>\n",
       "      <td>29108</td>\n",
       "      <td>11</td>\n",
       "      <td>S</td>\n",
       "      <td>0</td>\n",
       "      <td>child</td>\n",
       "      <td>1</td>\n",
       "      <td>0</td>\n",
       "      <td>0</td>\n",
       "      <td>0</td>\n",
       "    </tr>\n",
       "  </tbody>\n",
       "</table>\n",
       "</div>"
      ],
      "text/plain": [
       "     PassengerId  Survived  Pclass  \\\n",
       "416          417         1       2   \n",
       "801          802         1       2   \n",
       "512          513         1       1   \n",
       "455          456         1       3   \n",
       "757          758         0       2   \n",
       "\n",
       "                                                Name     Sex   Age  \\\n",
       "416  Drew, Mrs. James Vivian (Lulu Thorne Christian)  female  34.0   \n",
       "801      Collyer, Mrs. Harvey (Charlotte Annie Tate)  female  31.0   \n",
       "512                        McGough, Mr. James Robert    male  36.0   \n",
       "455                               Jalsevac, Mr. Ivan    male  29.0   \n",
       "757                         Bailey, Mr. Percy Andrew    male  18.0   \n",
       "\n",
       "         Ticket  Fare Embarked  Family        person  child  female_adult  \\\n",
       "416       28220    32        S       1  female_adult      0             1   \n",
       "801  C.A. 31921    26        S       1  female_adult      0             1   \n",
       "512    PC 17473    26        S       0    male_adult      0             0   \n",
       "455      349240     7        C       0    male_adult      0             0   \n",
       "757       29108    11        S       0         child      1             0   \n",
       "\n",
       "     male_adult  old  \n",
       "416           0    0  \n",
       "801           0    0  \n",
       "512           1    0  \n",
       "455           1    0  \n",
       "757           0    0  "
      ]
     },
     "execution_count": 291,
     "metadata": {},
     "output_type": "execute_result"
    }
   ],
   "source": [
    "df.head()"
   ]
  },
  {
   "cell_type": "markdown",
   "metadata": {},
   "source": [
    "**\"Name\" Exploration**"
   ]
  },
  {
   "cell_type": "markdown",
   "metadata": {},
   "source": [
    "***Feature Egineering_3***"
   ]
  },
  {
   "cell_type": "code",
   "execution_count": 306,
   "metadata": {},
   "outputs": [],
   "source": [
    "import re"
   ]
  },
  {
   "cell_type": "code",
   "execution_count": 307,
   "metadata": {},
   "outputs": [],
   "source": [
    "# We can explore the people's characteristic based on the Name\n",
    "df[\"Title\"] = df[\"Name\"].apply(lambda x: re.search(' ([A-Za-z]+)\\.',x).group(1))\n",
    "df_2[\"Title\"] = df_2[\"Name\"].apply(lambda x: re.search(' ([A-Za-z]+)\\.',x).group(1))\n",
    "df_3[\"Title\"] = df_3[\"Name\"].apply(lambda x: re.search(' ([A-Za-z]+)\\.',x).group(1))"
   ]
  },
  {
   "cell_type": "code",
   "execution_count": 310,
   "metadata": {},
   "outputs": [],
   "source": [
    "title_mapping = {\"Mr\": 1, \"Miss\": 2, \"Mrs\": 3, \"Master\": 4, \"Dr\": 5, \"Rev\": 6, \"Major\": 7, \"Col\": 7, \"Mlle\": 2, \"Mme\": 3,\"Don\": 8, \"Lady\": 9, \"the Countess\": 9, \"Jonkheer\": 9, \"Sir\": 8, \"Capt\": 7, \"Ms\": 2}\n",
    "df[\"Title_cat\"] = df.loc[:,'Title'].map(title_mapping)\n",
    "df_2[\"Title_cat\"] = df_2.loc[:,'Title'].map(title_mapping)\n",
    "df_3[\"Title_cat\"] = df_3.loc[:,'Title'].map(title_mapping)"
   ]
  },
  {
   "cell_type": "code",
   "execution_count": 311,
   "metadata": {},
   "outputs": [
    {
     "data": {
      "text/html": [
       "<div>\n",
       "<style scoped>\n",
       "    .dataframe tbody tr th:only-of-type {\n",
       "        vertical-align: middle;\n",
       "    }\n",
       "\n",
       "    .dataframe tbody tr th {\n",
       "        vertical-align: top;\n",
       "    }\n",
       "\n",
       "    .dataframe thead th {\n",
       "        text-align: right;\n",
       "    }\n",
       "</style>\n",
       "<table border=\"1\" class=\"dataframe\">\n",
       "  <thead>\n",
       "    <tr style=\"text-align: right;\">\n",
       "      <th></th>\n",
       "      <th>PassengerId</th>\n",
       "      <th>Survived</th>\n",
       "      <th>Pclass</th>\n",
       "      <th>Name</th>\n",
       "      <th>Sex</th>\n",
       "      <th>Age</th>\n",
       "      <th>Ticket</th>\n",
       "      <th>Fare</th>\n",
       "      <th>Embarked</th>\n",
       "      <th>Family</th>\n",
       "      <th>person</th>\n",
       "      <th>child</th>\n",
       "      <th>female_adult</th>\n",
       "      <th>male_adult</th>\n",
       "      <th>old</th>\n",
       "      <th>Title</th>\n",
       "      <th>Title_cat</th>\n",
       "    </tr>\n",
       "  </thead>\n",
       "  <tbody>\n",
       "    <tr>\n",
       "      <th>416</th>\n",
       "      <td>417</td>\n",
       "      <td>1</td>\n",
       "      <td>2</td>\n",
       "      <td>Drew, Mrs. James Vivian (Lulu Thorne Christian)</td>\n",
       "      <td>female</td>\n",
       "      <td>34.0</td>\n",
       "      <td>28220</td>\n",
       "      <td>32</td>\n",
       "      <td>S</td>\n",
       "      <td>1</td>\n",
       "      <td>female_adult</td>\n",
       "      <td>0</td>\n",
       "      <td>1</td>\n",
       "      <td>0</td>\n",
       "      <td>0</td>\n",
       "      <td>Mrs</td>\n",
       "      <td>3.0</td>\n",
       "    </tr>\n",
       "    <tr>\n",
       "      <th>801</th>\n",
       "      <td>802</td>\n",
       "      <td>1</td>\n",
       "      <td>2</td>\n",
       "      <td>Collyer, Mrs. Harvey (Charlotte Annie Tate)</td>\n",
       "      <td>female</td>\n",
       "      <td>31.0</td>\n",
       "      <td>C.A. 31921</td>\n",
       "      <td>26</td>\n",
       "      <td>S</td>\n",
       "      <td>1</td>\n",
       "      <td>female_adult</td>\n",
       "      <td>0</td>\n",
       "      <td>1</td>\n",
       "      <td>0</td>\n",
       "      <td>0</td>\n",
       "      <td>Mrs</td>\n",
       "      <td>3.0</td>\n",
       "    </tr>\n",
       "    <tr>\n",
       "      <th>512</th>\n",
       "      <td>513</td>\n",
       "      <td>1</td>\n",
       "      <td>1</td>\n",
       "      <td>McGough, Mr. James Robert</td>\n",
       "      <td>male</td>\n",
       "      <td>36.0</td>\n",
       "      <td>PC 17473</td>\n",
       "      <td>26</td>\n",
       "      <td>S</td>\n",
       "      <td>0</td>\n",
       "      <td>male_adult</td>\n",
       "      <td>0</td>\n",
       "      <td>0</td>\n",
       "      <td>1</td>\n",
       "      <td>0</td>\n",
       "      <td>Mr</td>\n",
       "      <td>1.0</td>\n",
       "    </tr>\n",
       "    <tr>\n",
       "      <th>455</th>\n",
       "      <td>456</td>\n",
       "      <td>1</td>\n",
       "      <td>3</td>\n",
       "      <td>Jalsevac, Mr. Ivan</td>\n",
       "      <td>male</td>\n",
       "      <td>29.0</td>\n",
       "      <td>349240</td>\n",
       "      <td>7</td>\n",
       "      <td>C</td>\n",
       "      <td>0</td>\n",
       "      <td>male_adult</td>\n",
       "      <td>0</td>\n",
       "      <td>0</td>\n",
       "      <td>1</td>\n",
       "      <td>0</td>\n",
       "      <td>Mr</td>\n",
       "      <td>1.0</td>\n",
       "    </tr>\n",
       "    <tr>\n",
       "      <th>757</th>\n",
       "      <td>758</td>\n",
       "      <td>0</td>\n",
       "      <td>2</td>\n",
       "      <td>Bailey, Mr. Percy Andrew</td>\n",
       "      <td>male</td>\n",
       "      <td>18.0</td>\n",
       "      <td>29108</td>\n",
       "      <td>11</td>\n",
       "      <td>S</td>\n",
       "      <td>0</td>\n",
       "      <td>child</td>\n",
       "      <td>1</td>\n",
       "      <td>0</td>\n",
       "      <td>0</td>\n",
       "      <td>0</td>\n",
       "      <td>Mr</td>\n",
       "      <td>1.0</td>\n",
       "    </tr>\n",
       "  </tbody>\n",
       "</table>\n",
       "</div>"
      ],
      "text/plain": [
       "     PassengerId  Survived  Pclass  \\\n",
       "416          417         1       2   \n",
       "801          802         1       2   \n",
       "512          513         1       1   \n",
       "455          456         1       3   \n",
       "757          758         0       2   \n",
       "\n",
       "                                                Name     Sex   Age  \\\n",
       "416  Drew, Mrs. James Vivian (Lulu Thorne Christian)  female  34.0   \n",
       "801      Collyer, Mrs. Harvey (Charlotte Annie Tate)  female  31.0   \n",
       "512                        McGough, Mr. James Robert    male  36.0   \n",
       "455                               Jalsevac, Mr. Ivan    male  29.0   \n",
       "757                         Bailey, Mr. Percy Andrew    male  18.0   \n",
       "\n",
       "         Ticket  Fare Embarked  Family        person  child  female_adult  \\\n",
       "416       28220    32        S       1  female_adult      0             1   \n",
       "801  C.A. 31921    26        S       1  female_adult      0             1   \n",
       "512    PC 17473    26        S       0    male_adult      0             0   \n",
       "455      349240     7        C       0    male_adult      0             0   \n",
       "757       29108    11        S       0         child      1             0   \n",
       "\n",
       "     male_adult  old Title  Title_cat  \n",
       "416           0    0   Mrs        3.0  \n",
       "801           0    0   Mrs        3.0  \n",
       "512           1    0    Mr        1.0  \n",
       "455           1    0    Mr        1.0  \n",
       "757           0    0    Mr        1.0  "
      ]
     },
     "execution_count": 311,
     "metadata": {},
     "output_type": "execute_result"
    }
   ],
   "source": [
    "df.head()"
   ]
  },
  {
   "cell_type": "markdown",
   "metadata": {},
   "source": [
    "**\"Ticket\" Exploration**"
   ]
  },
  {
   "cell_type": "code",
   "execution_count": 312,
   "metadata": {},
   "outputs": [],
   "source": [
    "ticket_cat = []\n",
    "ticket_list = df['Ticket'].tolist()\n",
    "for ticket in ticket_list:\n",
    "    if re.search('([^0-9]+)',ticket):\n",
    "         ticket_cat.append(1)\n",
    "    else:\n",
    "        ticket_cat.append(0)\n",
    "df['Ticket_Cat'] = ticket_cat"
   ]
  },
  {
   "cell_type": "code",
   "execution_count": 313,
   "metadata": {},
   "outputs": [],
   "source": [
    "ticket_cat = []\n",
    "ticket_list = df_2['Ticket'].tolist()\n",
    "for ticket in ticket_list:\n",
    "    if re.search('([^0-9]+)',ticket):\n",
    "         ticket_cat.append(1)\n",
    "    else:\n",
    "        ticket_cat.append(0)\n",
    "df_2['Ticket_Cat'] = ticket_cat"
   ]
  },
  {
   "cell_type": "code",
   "execution_count": 314,
   "metadata": {},
   "outputs": [],
   "source": [
    "ticket_cat = []\n",
    "ticket_list = df_3['Ticket'].tolist()\n",
    "for ticket in ticket_list:\n",
    "    if re.search('([^0-9]+)',ticket):\n",
    "         ticket_cat.append(1)\n",
    "    else:\n",
    "        ticket_cat.append(0)\n",
    "df_3['Ticket_Cat'] = ticket_cat"
   ]
  },
  {
   "cell_type": "code",
   "execution_count": 315,
   "metadata": {},
   "outputs": [],
   "source": [
    "df = pd.concat([df,pd.get_dummies(df['Sex'])],axis=1)\n",
    "df = pd.concat([df,pd.get_dummies(df['Embarked'])],axis=1)\n",
    "df_2 = pd.concat([df_2,pd.get_dummies(df_2['Sex'])],axis=1)\n",
    "df_2 = pd.concat([df_2,pd.get_dummies(df_2['Embarked'])],axis=1)\n",
    "df_3 = pd.concat([df_3,pd.get_dummies(df_3['Sex'])],axis=1)\n",
    "df_3 = pd.concat([df_3,pd.get_dummies(df_3['Embarked'])],axis=1)"
   ]
  },
  {
   "cell_type": "code",
   "execution_count": 316,
   "metadata": {},
   "outputs": [],
   "source": [
    "x_train = df[['Pclass','Age','Fare','Family','child','female_adult','male_adult','old','Ticket_Cat','female','male','C','Q','S']]\n",
    "y_train = df['Survived']\n",
    "x_val = df_2[['Pclass','Age','Fare','Family','child','female_adult','male_adult','old','Ticket_Cat','female','male','C','Q','S']]\n",
    "y_val = df_2['Survived']\n",
    "x_test = df_3[['Pclass','Age','Fare','Family','child','female_adult','male_adult','old','Ticket_Cat','female','male','C','Q','S']]"
   ]
  },
  {
   "cell_type": "markdown",
   "metadata": {},
   "source": [
    "---\n",
    "### Model Building\n",
    "---"
   ]
  },
  {
   "cell_type": "markdown",
   "metadata": {},
   "source": [
    "**Input Data Summary (rows, columns)**"
   ]
  },
  {
   "cell_type": "markdown",
   "metadata": {},
   "source": [
    "\n",
    "|x_train|x_val|x_test|\n",
    "|--------|-----|-------|\n",
    "(623,14)|(268,14)|(418,14)\n"
   ]
  },
  {
   "cell_type": "markdown",
   "metadata": {},
   "source": [
    "**Model_1: Logistic Regression**"
   ]
  },
  {
   "cell_type": "code",
   "execution_count": 320,
   "metadata": {},
   "outputs": [],
   "source": [
    "import sklearn\n",
    "from sklearn.linear_model import LogisticRegression, LogisticRegressionCV\n",
    "from sklearn import metrics\n",
    "from sklearn.model_selection import train_test_split\n",
    "import matplotlib.pyplot as plt\n",
    "import pandas as pd\n",
    "import math"
   ]
  },
  {
   "cell_type": "code",
   "execution_count": 321,
   "metadata": {},
   "outputs": [
    {
     "name": "stderr",
     "output_type": "stream",
     "text": [
      "C:\\Anaconda\\envs\\py38\\lib\\site-packages\\sklearn\\linear_model\\_logistic.py:763: ConvergenceWarning: lbfgs failed to converge (status=1):\n",
      "STOP: TOTAL NO. of ITERATIONS REACHED LIMIT.\n",
      "\n",
      "Increase the number of iterations (max_iter) or scale the data as shown in:\n",
      "    https://scikit-learn.org/stable/modules/preprocessing.html\n",
      "Please also refer to the documentation for alternative solver options:\n",
      "    https://scikit-learn.org/stable/modules/linear_model.html#logistic-regression\n",
      "  n_iter_i = _check_optimize_result(\n"
     ]
    }
   ],
   "source": [
    "logit_model = LogisticRegression().fit(x_train,y_train)"
   ]
  },
  {
   "cell_type": "code",
   "execution_count": 322,
   "metadata": {},
   "outputs": [],
   "source": [
    "y_train_prob = logit_model.predict_proba(x_train)\n",
    "y_val_prob = logit_model.predict_proba(x_val)"
   ]
  },
  {
   "cell_type": "markdown",
   "metadata": {},
   "source": [
    "***Model Evaluation***"
   ]
  },
  {
   "cell_type": "code",
   "execution_count": 323,
   "metadata": {},
   "outputs": [
    {
     "data": {
      "text/plain": [
       "0.8557355421947316"
      ]
     },
     "execution_count": 323,
     "metadata": {},
     "output_type": "execute_result"
    }
   ],
   "source": [
    "# get AUC on the training set\n",
    "fpr, tpr, thresholds = metrics.roc_curve(y_train, y_train_prob[:,1], pos_label = 1)\n",
    "metrics.auc(fpr, tpr)"
   ]
  },
  {
   "cell_type": "code",
   "execution_count": 324,
   "metadata": {},
   "outputs": [
    {
     "data": {
      "text/plain": [
       "0.8610144057623049"
      ]
     },
     "execution_count": 324,
     "metadata": {},
     "output_type": "execute_result"
    }
   ],
   "source": [
    "# get AUC on the validation set\n",
    "fpr, tpr, thresholds = metrics.roc_curve(y_val, y_val_prob[:,1], pos_label = 1)\n",
    "metrics.auc(fpr, tpr)"
   ]
  },
  {
   "cell_type": "markdown",
   "metadata": {},
   "source": [
    "***predictions on test set***"
   ]
  },
  {
   "cell_type": "code",
   "execution_count": 327,
   "metadata": {},
   "outputs": [],
   "source": [
    "y_test_pred = logit_model.predict(x_test)"
   ]
  },
  {
   "cell_type": "code",
   "execution_count": 341,
   "metadata": {},
   "outputs": [],
   "source": [
    "df_test_pred = pd.DataFrame()"
   ]
  },
  {
   "cell_type": "code",
   "execution_count": 342,
   "metadata": {},
   "outputs": [],
   "source": [
    "df_test_pred['Prediction'] = y_test_pred"
   ]
  },
  {
   "cell_type": "code",
   "execution_count": 344,
   "metadata": {},
   "outputs": [],
   "source": [
    "pre_result = pd.concat([x_test,df_test_pred['Prediction']],axis = 1)"
   ]
  },
  {
   "cell_type": "code",
   "execution_count": 352,
   "metadata": {},
   "outputs": [
    {
     "data": {
      "text/plain": [
       "0      0\n",
       "1      0\n",
       "2      0\n",
       "3      0\n",
       "4      1\n",
       "      ..\n",
       "413    0\n",
       "414    1\n",
       "415    0\n",
       "416    0\n",
       "417    0\n",
       "Name: Prediction, Length: 418, dtype: int64"
      ]
     },
     "execution_count": 352,
     "metadata": {},
     "output_type": "execute_result"
    }
   ],
   "source": [
    "pre_result.Prediction"
   ]
  },
  {
   "cell_type": "code",
   "execution_count": null,
   "metadata": {},
   "outputs": [],
   "source": []
  }
 ],
 "metadata": {
  "kernelspec": {
   "display_name": "Python 3",
   "language": "python",
   "name": "python3"
  },
  "language_info": {
   "codemirror_mode": {
    "name": "ipython",
    "version": 3
   },
   "file_extension": ".py",
   "mimetype": "text/x-python",
   "name": "python",
   "nbconvert_exporter": "python",
   "pygments_lexer": "ipython3",
   "version": "3.7.7"
  }
 },
 "nbformat": 4,
 "nbformat_minor": 5
}
