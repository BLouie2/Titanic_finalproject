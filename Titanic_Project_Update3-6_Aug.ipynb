{
 "cells": [
  {
   "cell_type": "code",
   "execution_count": 1,
   "metadata": {},
   "outputs": [],
   "source": [
    "import pandas as pd\n",
    "import seaborn as sns\n",
    "import matplotlib.pyplot as plt\n",
    "from sklearn.model_selection import train_test_split"
   ]
  },
  {
   "cell_type": "markdown",
   "metadata": {},
   "source": [
    "# Exploratory Data Analysis\n",
    "<div class=\"alert alert-block alert-info\">\n",
    "\n",
    "[Dataset Exploration](#1.-The-Dataset-Exploration)\n",
    "\n",
    "[Features Exploration](#2.-The-Features-Exploration)\n",
    "\n",
    "</div>"
   ]
  },
  {
   "cell_type": "markdown",
   "metadata": {},
   "source": [
    "# Models\n",
    "<div class=\"alert alert-block alert-info\">\n",
    "\n",
    "[Ensemble Method](#Ensemble-Method-Classifier)\n",
    "    \n",
    "</div>"
   ]
  },
  {
   "cell_type": "markdown",
   "metadata": {},
   "source": [
    "---\n",
    "### 1. The Dataset Exploration\n",
    "---"
   ]
  },
  {
   "cell_type": "markdown",
   "metadata": {},
   "source": [
    "**Split the 'train.csv' into train_data and val_data**"
   ]
  },
  {
   "cell_type": "code",
   "execution_count": 2,
   "metadata": {},
   "outputs": [],
   "source": [
    "titanic_data = pd.read_csv('train.csv')\n",
    "test_data = pd.read_csv('test.csv')"
   ]
  },
  {
   "cell_type": "code",
   "execution_count": 3,
   "metadata": {},
   "outputs": [],
   "source": [
    "train_data, val_data = train_test_split(titanic_data, train_size = 0.7, random_state = 123)"
   ]
  },
  {
   "cell_type": "markdown",
   "metadata": {},
   "source": [
    "**Statistical characteristics of the training set**"
   ]
  },
  {
   "cell_type": "code",
   "execution_count": 4,
   "metadata": {},
   "outputs": [
    {
     "data": {
      "text/html": [
       "<div>\n",
       "<style scoped>\n",
       "    .dataframe tbody tr th:only-of-type {\n",
       "        vertical-align: middle;\n",
       "    }\n",
       "\n",
       "    .dataframe tbody tr th {\n",
       "        vertical-align: top;\n",
       "    }\n",
       "\n",
       "    .dataframe thead th {\n",
       "        text-align: right;\n",
       "    }\n",
       "</style>\n",
       "<table border=\"1\" class=\"dataframe\">\n",
       "  <thead>\n",
       "    <tr style=\"text-align: right;\">\n",
       "      <th></th>\n",
       "      <th>PassengerId</th>\n",
       "      <th>Survived</th>\n",
       "      <th>Pclass</th>\n",
       "      <th>Name</th>\n",
       "      <th>Sex</th>\n",
       "      <th>Age</th>\n",
       "      <th>SibSp</th>\n",
       "      <th>Parch</th>\n",
       "      <th>Ticket</th>\n",
       "      <th>Fare</th>\n",
       "      <th>Cabin</th>\n",
       "      <th>Embarked</th>\n",
       "    </tr>\n",
       "  </thead>\n",
       "  <tbody>\n",
       "    <tr>\n",
       "      <th>416</th>\n",
       "      <td>417</td>\n",
       "      <td>1</td>\n",
       "      <td>2</td>\n",
       "      <td>Drew, Mrs. James Vivian (Lulu Thorne Christian)</td>\n",
       "      <td>female</td>\n",
       "      <td>34.0</td>\n",
       "      <td>1</td>\n",
       "      <td>1</td>\n",
       "      <td>28220</td>\n",
       "      <td>32.50</td>\n",
       "      <td>NaN</td>\n",
       "      <td>S</td>\n",
       "    </tr>\n",
       "    <tr>\n",
       "      <th>801</th>\n",
       "      <td>802</td>\n",
       "      <td>1</td>\n",
       "      <td>2</td>\n",
       "      <td>Collyer, Mrs. Harvey (Charlotte Annie Tate)</td>\n",
       "      <td>female</td>\n",
       "      <td>31.0</td>\n",
       "      <td>1</td>\n",
       "      <td>1</td>\n",
       "      <td>C.A. 31921</td>\n",
       "      <td>26.25</td>\n",
       "      <td>NaN</td>\n",
       "      <td>S</td>\n",
       "    </tr>\n",
       "  </tbody>\n",
       "</table>\n",
       "</div>"
      ],
      "text/plain": [
       "     PassengerId  Survived  Pclass  \\\n",
       "416          417         1       2   \n",
       "801          802         1       2   \n",
       "\n",
       "                                                Name     Sex   Age  SibSp  \\\n",
       "416  Drew, Mrs. James Vivian (Lulu Thorne Christian)  female  34.0      1   \n",
       "801      Collyer, Mrs. Harvey (Charlotte Annie Tate)  female  31.0      1   \n",
       "\n",
       "     Parch      Ticket   Fare Cabin Embarked  \n",
       "416      1       28220  32.50   NaN        S  \n",
       "801      1  C.A. 31921  26.25   NaN        S  "
      ]
     },
     "execution_count": 4,
     "metadata": {},
     "output_type": "execute_result"
    }
   ],
   "source": [
    "train_data.head(2)"
   ]
  },
  {
   "cell_type": "code",
   "execution_count": 5,
   "metadata": {},
   "outputs": [
    {
     "name": "stdout",
     "output_type": "stream",
     "text": [
      "<class 'pandas.core.frame.DataFrame'>\n",
      "Int64Index: 623 entries, 416 to 510\n",
      "Data columns (total 12 columns):\n",
      " #   Column       Non-Null Count  Dtype  \n",
      "---  ------       --------------  -----  \n",
      " 0   PassengerId  623 non-null    int64  \n",
      " 1   Survived     623 non-null    int64  \n",
      " 2   Pclass       623 non-null    int64  \n",
      " 3   Name         623 non-null    object \n",
      " 4   Sex          623 non-null    object \n",
      " 5   Age          492 non-null    float64\n",
      " 6   SibSp        623 non-null    int64  \n",
      " 7   Parch        623 non-null    int64  \n",
      " 8   Ticket       623 non-null    object \n",
      " 9   Fare         623 non-null    float64\n",
      " 10  Cabin        142 non-null    object \n",
      " 11  Embarked     621 non-null    object \n",
      "dtypes: float64(2), int64(5), object(5)\n",
      "memory usage: 63.3+ KB\n"
     ]
    }
   ],
   "source": [
    "train_data.info()"
   ]
  },
  {
   "cell_type": "code",
   "execution_count": 6,
   "metadata": {},
   "outputs": [
    {
     "data": {
      "text/html": [
       "<div>\n",
       "<style scoped>\n",
       "    .dataframe tbody tr th:only-of-type {\n",
       "        vertical-align: middle;\n",
       "    }\n",
       "\n",
       "    .dataframe tbody tr th {\n",
       "        vertical-align: top;\n",
       "    }\n",
       "\n",
       "    .dataframe thead th {\n",
       "        text-align: right;\n",
       "    }\n",
       "</style>\n",
       "<table border=\"1\" class=\"dataframe\">\n",
       "  <thead>\n",
       "    <tr style=\"text-align: right;\">\n",
       "      <th></th>\n",
       "      <th>PassengerId</th>\n",
       "      <th>Survived</th>\n",
       "      <th>Pclass</th>\n",
       "      <th>Age</th>\n",
       "      <th>SibSp</th>\n",
       "      <th>Parch</th>\n",
       "      <th>Fare</th>\n",
       "    </tr>\n",
       "  </thead>\n",
       "  <tbody>\n",
       "    <tr>\n",
       "      <th>count</th>\n",
       "      <td>623.000000</td>\n",
       "      <td>623.000000</td>\n",
       "      <td>623.000000</td>\n",
       "      <td>492.000000</td>\n",
       "      <td>623.000000</td>\n",
       "      <td>623.000000</td>\n",
       "      <td>623.000000</td>\n",
       "    </tr>\n",
       "    <tr>\n",
       "      <th>mean</th>\n",
       "      <td>441.298555</td>\n",
       "      <td>0.391653</td>\n",
       "      <td>2.321027</td>\n",
       "      <td>29.885691</td>\n",
       "      <td>0.516854</td>\n",
       "      <td>0.365971</td>\n",
       "      <td>33.326872</td>\n",
       "    </tr>\n",
       "    <tr>\n",
       "      <th>std</th>\n",
       "      <td>254.833804</td>\n",
       "      <td>0.488512</td>\n",
       "      <td>0.831257</td>\n",
       "      <td>14.316719</td>\n",
       "      <td>1.143676</td>\n",
       "      <td>0.784249</td>\n",
       "      <td>54.337449</td>\n",
       "    </tr>\n",
       "    <tr>\n",
       "      <th>min</th>\n",
       "      <td>1.000000</td>\n",
       "      <td>0.000000</td>\n",
       "      <td>1.000000</td>\n",
       "      <td>0.420000</td>\n",
       "      <td>0.000000</td>\n",
       "      <td>0.000000</td>\n",
       "      <td>0.000000</td>\n",
       "    </tr>\n",
       "    <tr>\n",
       "      <th>25%</th>\n",
       "      <td>219.500000</td>\n",
       "      <td>0.000000</td>\n",
       "      <td>2.000000</td>\n",
       "      <td>21.000000</td>\n",
       "      <td>0.000000</td>\n",
       "      <td>0.000000</td>\n",
       "      <td>7.925000</td>\n",
       "    </tr>\n",
       "    <tr>\n",
       "      <th>50%</th>\n",
       "      <td>444.000000</td>\n",
       "      <td>0.000000</td>\n",
       "      <td>3.000000</td>\n",
       "      <td>28.000000</td>\n",
       "      <td>0.000000</td>\n",
       "      <td>0.000000</td>\n",
       "      <td>14.400000</td>\n",
       "    </tr>\n",
       "    <tr>\n",
       "      <th>75%</th>\n",
       "      <td>653.000000</td>\n",
       "      <td>1.000000</td>\n",
       "      <td>3.000000</td>\n",
       "      <td>38.000000</td>\n",
       "      <td>1.000000</td>\n",
       "      <td>0.000000</td>\n",
       "      <td>30.597900</td>\n",
       "    </tr>\n",
       "    <tr>\n",
       "      <th>max</th>\n",
       "      <td>891.000000</td>\n",
       "      <td>1.000000</td>\n",
       "      <td>3.000000</td>\n",
       "      <td>80.000000</td>\n",
       "      <td>8.000000</td>\n",
       "      <td>5.000000</td>\n",
       "      <td>512.329200</td>\n",
       "    </tr>\n",
       "  </tbody>\n",
       "</table>\n",
       "</div>"
      ],
      "text/plain": [
       "       PassengerId    Survived      Pclass         Age       SibSp  \\\n",
       "count   623.000000  623.000000  623.000000  492.000000  623.000000   \n",
       "mean    441.298555    0.391653    2.321027   29.885691    0.516854   \n",
       "std     254.833804    0.488512    0.831257   14.316719    1.143676   \n",
       "min       1.000000    0.000000    1.000000    0.420000    0.000000   \n",
       "25%     219.500000    0.000000    2.000000   21.000000    0.000000   \n",
       "50%     444.000000    0.000000    3.000000   28.000000    0.000000   \n",
       "75%     653.000000    1.000000    3.000000   38.000000    1.000000   \n",
       "max     891.000000    1.000000    3.000000   80.000000    8.000000   \n",
       "\n",
       "            Parch        Fare  \n",
       "count  623.000000  623.000000  \n",
       "mean     0.365971   33.326872  \n",
       "std      0.784249   54.337449  \n",
       "min      0.000000    0.000000  \n",
       "25%      0.000000    7.925000  \n",
       "50%      0.000000   14.400000  \n",
       "75%      0.000000   30.597900  \n",
       "max      5.000000  512.329200  "
      ]
     },
     "execution_count": 6,
     "metadata": {},
     "output_type": "execute_result"
    }
   ],
   "source": [
    "train_data.describe()"
   ]
  },
  {
   "cell_type": "markdown",
   "metadata": {},
   "source": [
    "**Check the whether the label is balanced or not**"
   ]
  },
  {
   "cell_type": "code",
   "execution_count": 7,
   "metadata": {},
   "outputs": [],
   "source": [
    "survived_data = train_data.Survived.replace({1:'survived', 0:'not survived'}).value_counts()"
   ]
  },
  {
   "cell_type": "code",
   "execution_count": 8,
   "metadata": {},
   "outputs": [
    {
     "data": {
      "text/plain": [
       "not survived    379\n",
       "survived        244\n",
       "Name: Survived, dtype: int64"
      ]
     },
     "execution_count": 8,
     "metadata": {},
     "output_type": "execute_result"
    }
   ],
   "source": [
    "survived_data"
   ]
  },
  {
   "cell_type": "code",
   "execution_count": 10,
   "metadata": {},
   "outputs": [
    {
     "data": {
      "image/png": "[encoded data removed]",
      "text/plain": [
       "<Figure size 432x288 with 1 Axes>"
      ]
     },
     "metadata": {},
     "output_type": "display_data"
    }
   ],
   "source": [
    "plt.figure(figsize=(6,4))\n",
    "plt.title(\"Titanic Survival statistics\")\n",
    "sns.barplot(x = survived_data.index, y = survived_data, palette='Paired')\n",
    "sns.set_style('whitegrid') \n",
    "plt.ylabel(\"Number of People\")\n",
    "plt.show()"
   ]
  },
  {
   "cell_type": "markdown",
   "metadata": {},
   "source": [
    "**Check the missing value**"
   ]
  },
  {
   "cell_type": "code",
   "execution_count": 127,
   "metadata": {},
   "outputs": [
    {
     "data": {
      "text/plain": [
       "PassengerId      0\n",
       "Survived         0\n",
       "Pclass           0\n",
       "Name             0\n",
       "Sex              0\n",
       "Age            131\n",
       "SibSp            0\n",
       "Parch            0\n",
       "Ticket           0\n",
       "Fare             0\n",
       "Cabin          481\n",
       "Embarked         2\n",
       "dtype: int64"
      ]
     },
     "execution_count": 127,
     "metadata": {},
     "output_type": "execute_result"
    }
   ],
   "source": [
    "# Age, Cabin and Embarked variables have missing value\n",
    "train_data.isna().sum()"
   ]
  },
  {
   "cell_type": "code",
   "execution_count": 128,
   "metadata": {},
   "outputs": [
    {
     "data": {
      "text/plain": [
       "PassengerId      0\n",
       "Survived         0\n",
       "Pclass           0\n",
       "Name             0\n",
       "Sex              0\n",
       "Age             46\n",
       "SibSp            0\n",
       "Parch            0\n",
       "Ticket           0\n",
       "Fare             0\n",
       "Cabin          206\n",
       "Embarked         0\n",
       "dtype: int64"
      ]
     },
     "execution_count": 128,
     "metadata": {},
     "output_type": "execute_result"
    }
   ],
   "source": [
    "# Age and Cabin variables have missing value\n",
    "val_data.isna().sum()"
   ]
  },
  {
   "cell_type": "code",
   "execution_count": 129,
   "metadata": {},
   "outputs": [
    {
     "data": {
      "text/plain": [
       "PassengerId      0\n",
       "Pclass           0\n",
       "Name             0\n",
       "Sex              0\n",
       "Age             86\n",
       "SibSp            0\n",
       "Parch            0\n",
       "Ticket           0\n",
       "Fare             1\n",
       "Cabin          327\n",
       "Embarked         0\n",
       "dtype: int64"
      ]
     },
     "execution_count": 129,
     "metadata": {},
     "output_type": "execute_result"
    }
   ],
   "source": [
    "# Age, Cabin and Fare variables have missing value\n",
    "test_data.isna().sum()"
   ]
  },
  {
   "cell_type": "markdown",
   "metadata": {},
   "source": [
    "**Output the number of unique value of some categorical variables in training data**"
   ]
  },
  {
   "cell_type": "code",
   "execution_count": 11,
   "metadata": {},
   "outputs": [
    {
     "name": "stdout",
     "output_type": "stream",
     "text": [
      "1. Pclass —— the number of distinct variables are: 3\n",
      "2. Name —— the number of distinct variables are: 623\n",
      "3. Sex —— the number of distinct variables are: 2\n",
      "4. Embarked —— the number of distinct variables are: 3\n",
      "5. Ticket —— the number of distinct variables are: 513\n",
      "6. Cabin —— the number of distinct variables are: 108\n"
     ]
    }
   ],
   "source": [
    "cat_list = ['Pclass','Name','Sex','Embarked','Ticket','Cabin']\n",
    "for n,i in enumerate(cat_list):  \n",
    "    Cabin_cat_num = train_data[i].value_counts().index.shape[0]\n",
    "    print('{}. {} —— the number of distinct variables are: {}'.format(n+1,i,Cabin_cat_num))"
   ]
  },
  {
   "cell_type": "markdown",
   "metadata": {},
   "source": [
    "***\n",
    "\n",
    "### 2. The Features Exploration\n",
    "\n",
    "***"
   ]
  },
  {
   "cell_type": "markdown",
   "metadata": {},
   "source": [
    "**'Pclass','Sex', 'Embarked' Exploration**"
   ]
  },
  {
   "cell_type": "markdown",
   "metadata": {},
   "source": [
    "    Survived ratio of female and male\n",
    "    Survived ratio of different Pclass\n",
    "    Survived ratio of different Embarked"
   ]
  },
  {
   "cell_type": "code",
   "execution_count": 12,
   "metadata": {},
   "outputs": [
    {
     "name": "stderr",
     "output_type": "stream",
     "text": [
      "/opt/anaconda3/lib/python3.7/site-packages/ipykernel_launcher.py:3: DeprecationWarning: The default dtype for empty Series will be 'object' instead of 'float64' in a future version. Specify a dtype explicitly to silence this warning.\n",
      "  This is separate from the ipykernel package so we can avoid doing imports until\n",
      "/opt/anaconda3/lib/python3.7/site-packages/ipykernel_launcher.py:10: DeprecationWarning: The default dtype for empty Series will be 'object' instead of 'float64' in a future version. Specify a dtype explicitly to silence this warning.\n",
      "  # Remove the CWD from sys.path while we load stuff.\n",
      "/opt/anaconda3/lib/python3.7/site-packages/ipykernel_launcher.py:18: DeprecationWarning: The default dtype for empty Series will be 'object' instead of 'float64' in a future version. Specify a dtype explicitly to silence this warning.\n"
     ]
    }
   ],
   "source": [
    "female_survive_ratio = train_data[['Survived','Sex']][train_data.Sex=='female'].groupby('Survived').count()/train_data[['Survived','Sex']][train_data.Sex=='female'].groupby('Survived').count().sum()\n",
    "male_survive_ratio = train_data[['Survived','Sex']][train_data.Sex=='male'].groupby('Survived').count()/train_data[['Survived','Sex']][train_data.Sex=='male'].groupby('Survived').count().sum()\n",
    "sex_survive_ratio = pd.Series()\n",
    "sex_survive_ratio['female'] = female_survive_ratio.iloc[1,0].round(3)\n",
    "sex_survive_ratio['male'] = male_survive_ratio.iloc[1,0].round(3)\n",
    "\n",
    "class1_survive_ratio = train_data[['Survived','Pclass']][train_data.Pclass==1].groupby('Survived').count()/train_data[['Survived','Pclass']][train_data.Pclass==1].groupby('Survived').count().sum()\n",
    "class2_survive_ratio = train_data[['Survived','Pclass']][train_data.Pclass==2].groupby('Survived').count()/train_data[['Survived','Pclass']][train_data.Pclass==2].groupby('Survived').count().sum()\n",
    "class3_survive_ratio = train_data[['Survived','Pclass']][train_data.Pclass==3].groupby('Survived').count()/train_data[['Survived','Pclass']][train_data.Pclass==3].groupby('Survived').count().sum()\n",
    "Pclass_survive_ratio = pd.Series()\n",
    "Pclass_survive_ratio['Class 1'] = class1_survive_ratio.iloc[1,0].round(3)\n",
    "Pclass_survive_ratio['Class 2'] = class2_survive_ratio.iloc[1,0].round(3)\n",
    "Pclass_survive_ratio['Class 3'] = class3_survive_ratio.iloc[1,0].round(3)\n",
    "\n",
    "S_survive_ratio = train_data[['Survived','Embarked']][train_data.Embarked=='S'].groupby('Survived').count()/train_data[['Survived','Embarked']][train_data.Embarked=='S'].groupby('Survived').count().sum()\n",
    "C_survive_ratio = train_data[['Survived','Embarked']][train_data.Embarked=='C'].groupby('Survived').count()/train_data[['Survived','Embarked']][train_data.Embarked=='C'].groupby('Survived').count().sum()\n",
    "Q_survive_ratio = train_data[['Survived','Embarked']][train_data.Embarked=='Q'].groupby('Survived').count()/train_data[['Survived','Embarked']][train_data.Embarked=='Q'].groupby('Survived').count().sum()\n",
    "Embarked_survive_ratio = pd.Series()\n",
    "Embarked_survive_ratio['S'] = S_survive_ratio.iloc[1,0].round(3)\n",
    "Embarked_survive_ratio['C'] = C_survive_ratio.iloc[1,0].round(3)\n",
    "Embarked_survive_ratio['Q'] = Q_survive_ratio.iloc[1,0].round(3)"
   ]
  },
  {
   "cell_type": "code",
   "execution_count": 13,
   "metadata": {},
   "outputs": [
    {
     "data": {
      "image/png": "[encoded data removed]",
      "text/plain": [
       "<Figure size 1440x360 with 3 Axes>"
      ]
     },
     "metadata": {},
     "output_type": "display_data"
    }
   ],
   "source": [
    "plt.style.use(\"bmh\")\n",
    "f, [ax1,ax2,ax3] = plt.subplots(1,3,figsize=(20,5))\n",
    "sns.countplot(x='Sex', hue='Survived', data=train_data, ax=ax1, palette='Paired')\n",
    "sns.countplot(x='Pclass', hue='Survived', data=train_data, ax=ax2, palette='Paired')\n",
    "sns.countplot(x='Embarked', hue='Survived', data=train_data, ax=ax3,palette='Paired')\n",
    "ax1.set_title('Sex Count Number')\n",
    "ax2.set_title('Pclass Count Number')\n",
    "ax3.set_title('Embarked Count Number')\n",
    "f.suptitle('Frequency Count Distribution of \"Sex\",\"Pclass\" and \"Embarked\"', size=20, y=1.1)\n",
    "plt.show()"
   ]
  },
  {
   "cell_type": "markdown",
   "metadata": {},
   "source": [
    "    The number of males is more considerable than females; \n",
    "    The number of people in the Pclass 3 is larger than the other classes\n",
    "    The number of people around Embarked S is the most."
   ]
  },
  {
   "cell_type": "code",
   "execution_count": 14,
   "metadata": {},
   "outputs": [
    {
     "data": {
      "image/png": "[encoded data removed]",
      "text/plain": [
       "<Figure size 1440x360 with 3 Axes>"
      ]
     },
     "metadata": {},
     "output_type": "display_data"
    }
   ],
   "source": [
    "f, [ax1,ax2,ax3] = plt.subplots(1,3,figsize=(20,5))\n",
    "sns.barplot(x = sex_survive_ratio.index, y = sex_survive_ratio, ax=ax1,palette='Paired')\n",
    "sns.barplot(x = Pclass_survive_ratio.index, y = Pclass_survive_ratio, ax=ax2, palette='Paired')\n",
    "sns.barplot(x = Embarked_survive_ratio.index, y = Embarked_survive_ratio,ax=ax3, palette='Paired')\n",
    "ax1.set_title('Female/Male Survived Ratio')\n",
    "ax2.set_title('Pclass Survived Ratio')\n",
    "ax3.set_title('Embarked Survived Ratio')\n",
    "f.suptitle('The Survived Ratio Analysis of \"Sex\", \"Pclass\" and \"Embarked\"', size=20, y=1.1)\n",
    "plt.show()"
   ]
  },
  {
   "cell_type": "markdown",
   "metadata": {},
   "source": [
    "    Combined with what we observed above, we can see that:\n",
    "    (1) Eeven though the number of males is larger than females, the survived ratio of female is significant.\n",
    "    (2) Pclass 3 has the lowest survived ratio and maximum number of people compared with other classes, meaning the poor people may be related to Pclass 3 and Pclass 1 has the highest survived ratio and lowest number of people, it may represent the rich\n",
    "    (3) Embarked S has the lowest survival ratio with the largest number of people. The reason may be most of the people in the Pclass 3 is related to Embared S, or there may be something that happened in the accident contributing to the lower survived ratio of Embarked S"
   ]
  },
  {
   "cell_type": "code",
   "execution_count": 15,
   "metadata": {},
   "outputs": [
    {
     "name": "stderr",
     "output_type": "stream",
     "text": [
      "/opt/anaconda3/lib/python3.7/site-packages/seaborn/axisgrid.py:316: UserWarning: The `size` parameter has been renamed to `height`; please update your code.\n",
      "  warnings.warn(msg, UserWarning)\n",
      "/opt/anaconda3/lib/python3.7/site-packages/seaborn/axisgrid.py:643: UserWarning: Using the countplot function without specifying `order` is likely to produce an incorrect plot.\n",
      "  warnings.warn(warning)\n"
     ]
    },
    {
     "data": {
      "image/png": "[encoded data removed]",
      "text/plain": [
       "<Figure size 911x576 with 6 Axes>"
      ]
     },
     "metadata": {},
     "output_type": "display_data"
    }
   ],
   "source": [
    "grid = sns.FacetGrid(train_data, row = 'Sex', col='Pclass', hue='Survived', palette='Paired', size=4)\n",
    "grid.map(sns.countplot, 'Embarked', alpha=0.8)\n",
    "grid.add_legend()\n",
    "plt.show()"
   ]
  },
  {
   "cell_type": "markdown",
   "metadata": {},
   "source": [
    "    From the plots shown above, we can get several observations:\n",
    "    (1) Embarked Q may be related to the Pclass 3, for the most of people in the Q are also in the Pclass 3. Based on the previous analysis, we can see that the poor may be in the Pclass 3\n",
    "    (2) Nearly all of the females in the Pclass1 and Pclass2 survived\n",
    "    (3) Males in the Embarked C and Q have the lowest survived ratio"
   ]
  },
  {
   "cell_type": "markdown",
   "metadata": {},
   "source": [
    "***Dealing with \"Embarked\" missing value***"
   ]
  },
  {
   "cell_type": "code",
   "execution_count": 134,
   "metadata": {},
   "outputs": [
    {
     "data": {
      "text/html": [
       "<div>\n",
       "<style scoped>\n",
       "    .dataframe tbody tr th:only-of-type {\n",
       "        vertical-align: middle;\n",
       "    }\n",
       "\n",
       "    .dataframe tbody tr th {\n",
       "        vertical-align: top;\n",
       "    }\n",
       "\n",
       "    .dataframe thead th {\n",
       "        text-align: right;\n",
       "    }\n",
       "</style>\n",
       "<table border=\"1\" class=\"dataframe\">\n",
       "  <thead>\n",
       "    <tr style=\"text-align: right;\">\n",
       "      <th></th>\n",
       "      <th>PassengerId</th>\n",
       "      <th>Survived</th>\n",
       "      <th>Pclass</th>\n",
       "      <th>Name</th>\n",
       "      <th>Sex</th>\n",
       "      <th>Age</th>\n",
       "      <th>SibSp</th>\n",
       "      <th>Parch</th>\n",
       "      <th>Ticket</th>\n",
       "      <th>Fare</th>\n",
       "      <th>Cabin</th>\n",
       "      <th>Embarked</th>\n",
       "    </tr>\n",
       "  </thead>\n",
       "  <tbody>\n",
       "    <tr>\n",
       "      <th>61</th>\n",
       "      <td>62</td>\n",
       "      <td>1</td>\n",
       "      <td>1</td>\n",
       "      <td>Icard, Miss. Amelie</td>\n",
       "      <td>female</td>\n",
       "      <td>38.0</td>\n",
       "      <td>0</td>\n",
       "      <td>0</td>\n",
       "      <td>113572</td>\n",
       "      <td>80.0</td>\n",
       "      <td>B28</td>\n",
       "      <td>NaN</td>\n",
       "    </tr>\n",
       "    <tr>\n",
       "      <th>829</th>\n",
       "      <td>830</td>\n",
       "      <td>1</td>\n",
       "      <td>1</td>\n",
       "      <td>Stone, Mrs. George Nelson (Martha Evelyn)</td>\n",
       "      <td>female</td>\n",
       "      <td>62.0</td>\n",
       "      <td>0</td>\n",
       "      <td>0</td>\n",
       "      <td>113572</td>\n",
       "      <td>80.0</td>\n",
       "      <td>B28</td>\n",
       "      <td>NaN</td>\n",
       "    </tr>\n",
       "  </tbody>\n",
       "</table>\n",
       "</div>"
      ],
      "text/plain": [
       "     PassengerId  Survived  Pclass                                       Name  \\\n",
       "61            62         1       1                        Icard, Miss. Amelie   \n",
       "829          830         1       1  Stone, Mrs. George Nelson (Martha Evelyn)   \n",
       "\n",
       "        Sex   Age  SibSp  Parch  Ticket  Fare Cabin Embarked  \n",
       "61   female  38.0      0      0  113572  80.0   B28      NaN  \n",
       "829  female  62.0      0      0  113572  80.0   B28      NaN  "
      ]
     },
     "execution_count": 134,
     "metadata": {},
     "output_type": "execute_result"
    }
   ],
   "source": [
    "train_data[train_data.Embarked.isna()]"
   ]
  },
  {
   "cell_type": "markdown",
   "metadata": {},
   "source": [
    "    From the plots shown above we can see that when the Sex=Female and Pclass=1,\n",
    "    most of the people belongs to the Embarked C\n",
    "    We can fill the missing value with C"
   ]
  },
  {
   "cell_type": "code",
   "execution_count": 135,
   "metadata": {},
   "outputs": [
    {
     "name": "stderr",
     "output_type": "stream",
     "text": [
      "C:\\Anaconda\\envs\\py38\\lib\\site-packages\\pandas\\core\\series.py:4463: SettingWithCopyWarning: \n",
      "A value is trying to be set on a copy of a slice from a DataFrame\n",
      "\n",
      "See the caveats in the documentation: https://pandas.pydata.org/pandas-docs/stable/user_guide/indexing.html#returning-a-view-versus-a-copy\n",
      "  return super().fillna(\n"
     ]
    }
   ],
   "source": [
    "train_data.Embarked.fillna('C', inplace = True)"
   ]
  },
  {
   "cell_type": "markdown",
   "metadata": {},
   "source": [
    "**'Cabin' Exploration**"
   ]
  },
  {
   "cell_type": "code",
   "execution_count": 16,
   "metadata": {},
   "outputs": [
    {
     "data": {
      "text/plain": [
       "0.7720706260032103"
      ]
     },
     "execution_count": 16,
     "metadata": {},
     "output_type": "execute_result"
    }
   ],
   "source": [
    "train_data.Cabin.isna().sum()/train_data.Cabin.shape[0]"
   ]
  },
  {
   "cell_type": "code",
   "execution_count": 17,
   "metadata": {},
   "outputs": [
    {
     "data": {
      "text/plain": [
       "0.7686567164179104"
      ]
     },
     "execution_count": 17,
     "metadata": {},
     "output_type": "execute_result"
    }
   ],
   "source": [
    "val_data.Cabin.isna().sum()/val_data.Cabin.shape[0]"
   ]
  },
  {
   "cell_type": "markdown",
   "metadata": {},
   "source": [
    "    Since there are arounf 77% missing value in both training data and validation data, we can delete this feature from our dataset"
   ]
  },
  {
   "cell_type": "code",
   "execution_count": 18,
   "metadata": {},
   "outputs": [],
   "source": [
    "train_data = train_data.drop(['Cabin'], axis=1)\n",
    "val_data = val_data.drop(['Cabin'], axis=1)\n",
    "test_data = test_data.drop(['Cabin'], axis=1)"
   ]
  },
  {
   "cell_type": "markdown",
   "metadata": {},
   "source": [
    "**'Fare' Exploration**"
   ]
  },
  {
   "cell_type": "code",
   "execution_count": 19,
   "metadata": {},
   "outputs": [],
   "source": [
    "import statsmodels.formula.api as smf\n",
    "from statsmodels.tools import eval_measures\n",
    "import statsmodels.api as sm"
   ]
  },
  {
   "cell_type": "markdown",
   "metadata": {},
   "source": [
    "***Dealing with \"Fare\" missing value***"
   ]
  },
  {
   "cell_type": "code",
   "execution_count": 20,
   "metadata": {},
   "outputs": [
    {
     "data": {
      "text/html": [
       "<div>\n",
       "<style scoped>\n",
       "    .dataframe tbody tr th:only-of-type {\n",
       "        vertical-align: middle;\n",
       "    }\n",
       "\n",
       "    .dataframe tbody tr th {\n",
       "        vertical-align: top;\n",
       "    }\n",
       "\n",
       "    .dataframe thead th {\n",
       "        text-align: right;\n",
       "    }\n",
       "</style>\n",
       "<table border=\"1\" class=\"dataframe\">\n",
       "  <thead>\n",
       "    <tr style=\"text-align: right;\">\n",
       "      <th></th>\n",
       "      <th>PassengerId</th>\n",
       "      <th>Pclass</th>\n",
       "      <th>Name</th>\n",
       "      <th>Sex</th>\n",
       "      <th>Age</th>\n",
       "      <th>SibSp</th>\n",
       "      <th>Parch</th>\n",
       "      <th>Ticket</th>\n",
       "      <th>Fare</th>\n",
       "      <th>Embarked</th>\n",
       "    </tr>\n",
       "  </thead>\n",
       "  <tbody>\n",
       "    <tr>\n",
       "      <th>152</th>\n",
       "      <td>1044</td>\n",
       "      <td>3</td>\n",
       "      <td>Storey, Mr. Thomas</td>\n",
       "      <td>male</td>\n",
       "      <td>60.5</td>\n",
       "      <td>0</td>\n",
       "      <td>0</td>\n",
       "      <td>3701</td>\n",
       "      <td>NaN</td>\n",
       "      <td>S</td>\n",
       "    </tr>\n",
       "  </tbody>\n",
       "</table>\n",
       "</div>"
      ],
      "text/plain": [
       "     PassengerId  Pclass                Name   Sex   Age  SibSp  Parch Ticket  \\\n",
       "152         1044       3  Storey, Mr. Thomas  male  60.5      0      0   3701   \n",
       "\n",
       "     Fare Embarked  \n",
       "152   NaN        S  "
      ]
     },
     "execution_count": 20,
     "metadata": {},
     "output_type": "execute_result"
    }
   ],
   "source": [
    "test_data[test_data.Fare.isna()]"
   ]
  },
  {
   "cell_type": "code",
   "execution_count": 21,
   "metadata": {},
   "outputs": [
    {
     "data": {
      "text/plain": [
       "Intercept         118.548546\n",
       "C(Pclass)[T.2]    -78.136171\n",
       "C(Pclass)[T.3]    -90.798801\n",
       "Age                -0.609974\n",
       "dtype: float64"
      ]
     },
     "execution_count": 21,
     "metadata": {},
     "output_type": "execute_result"
    }
   ],
   "source": [
    "multi_lm = smf.ols(formula='Fare ~ Age + C(Pclass)', data = train_data).fit()\n",
    "multi_lm.params"
   ]
  },
  {
   "cell_type": "markdown",
   "metadata": {},
   "source": [
    "    Based on the parameters derived from this model, we can get a basic idea that with the Pclass number arising, the fare is going down. Since there is only one missing value in the Fare, we can find the similar data in the training set to fill this NA"
   ]
  },
  {
   "cell_type": "code",
   "execution_count": 22,
   "metadata": {},
   "outputs": [
    {
     "data": {
      "text/html": [
       "<div>\n",
       "<style scoped>\n",
       "    .dataframe tbody tr th:only-of-type {\n",
       "        vertical-align: middle;\n",
       "    }\n",
       "\n",
       "    .dataframe tbody tr th {\n",
       "        vertical-align: top;\n",
       "    }\n",
       "\n",
       "    .dataframe thead th {\n",
       "        text-align: right;\n",
       "    }\n",
       "</style>\n",
       "<table border=\"1\" class=\"dataframe\">\n",
       "  <thead>\n",
       "    <tr style=\"text-align: right;\">\n",
       "      <th></th>\n",
       "      <th>PassengerId</th>\n",
       "      <th>Survived</th>\n",
       "      <th>Pclass</th>\n",
       "      <th>Name</th>\n",
       "      <th>Sex</th>\n",
       "      <th>Age</th>\n",
       "      <th>SibSp</th>\n",
       "      <th>Parch</th>\n",
       "      <th>Ticket</th>\n",
       "      <th>Fare</th>\n",
       "      <th>Embarked</th>\n",
       "    </tr>\n",
       "  </thead>\n",
       "  <tbody>\n",
       "    <tr>\n",
       "      <th>116</th>\n",
       "      <td>117</td>\n",
       "      <td>0</td>\n",
       "      <td>3</td>\n",
       "      <td>Connors, Mr. Patrick</td>\n",
       "      <td>male</td>\n",
       "      <td>70.5</td>\n",
       "      <td>0</td>\n",
       "      <td>0</td>\n",
       "      <td>370369</td>\n",
       "      <td>7.7500</td>\n",
       "      <td>Q</td>\n",
       "    </tr>\n",
       "    <tr>\n",
       "      <th>326</th>\n",
       "      <td>327</td>\n",
       "      <td>0</td>\n",
       "      <td>3</td>\n",
       "      <td>Nysveen, Mr. Johan Hansen</td>\n",
       "      <td>male</td>\n",
       "      <td>61.0</td>\n",
       "      <td>0</td>\n",
       "      <td>0</td>\n",
       "      <td>345364</td>\n",
       "      <td>6.2375</td>\n",
       "      <td>S</td>\n",
       "    </tr>\n",
       "  </tbody>\n",
       "</table>\n",
       "</div>"
      ],
      "text/plain": [
       "     PassengerId  Survived  Pclass                       Name   Sex   Age  \\\n",
       "116          117         0       3       Connors, Mr. Patrick  male  70.5   \n",
       "326          327         0       3  Nysveen, Mr. Johan Hansen  male  61.0   \n",
       "\n",
       "     SibSp  Parch  Ticket    Fare Embarked  \n",
       "116      0      0  370369  7.7500        Q  \n",
       "326      0      0  345364  6.2375        S  "
      ]
     },
     "execution_count": 22,
     "metadata": {},
     "output_type": "execute_result"
    }
   ],
   "source": [
    "similar_data = train_data.loc[(train_data['Pclass']==3) & (train_data['Age']>60) & (train_data['Sex']=='male')]\n",
    "similar_data"
   ]
  },
  {
   "cell_type": "code",
   "execution_count": 23,
   "metadata": {},
   "outputs": [],
   "source": [
    "test_data.Fare.fillna(similar_data.Fare.mean(),inplace = True)"
   ]
  },
  {
   "cell_type": "code",
   "execution_count": 29,
   "metadata": {},
   "outputs": [],
   "source": [
    "train_data['Fare'] = train_data['Fare'].astype(int)\n",
    "val_data['Fare'] = val_data['Fare'].astype(int)\n",
    "test_data['Fare'] = test_data['Fare'].astype(int)"
   ]
  },
  {
   "cell_type": "markdown",
   "metadata": {},
   "source": [
    "### Find the relationship between the ___Survived ratio___ and ___Fare___ feature"
   ]
  },
  {
   "cell_type": "code",
   "execution_count": 27,
   "metadata": {},
   "outputs": [],
   "source": [
    "fare_not_survived = train_data[[\"Fare\"]][train_data[\"Survived\"] == 0]\n",
    "fare_survived = train_data[[\"Fare\"]][train_data[\"Survived\"] == 1]"
   ]
  },
  {
   "cell_type": "code",
   "execution_count": 32,
   "metadata": {},
   "outputs": [
    {
     "name": "stderr",
     "output_type": "stream",
     "text": [
      "/opt/anaconda3/lib/python3.7/site-packages/ipykernel_launcher.py:3: RuntimeWarning: invalid value encountered in long_scalars\n",
      "  This is separate from the ipykernel package so we can avoid doing imports until\n"
     ]
    }
   ],
   "source": [
    "fare_survived_ratio_dict = {}\n",
    "for i in range(0,525,25):\n",
    "    fare_survived_ratio = fare_survived[(fare_survived['Fare']>= i) & (fare_survived['Fare'] <= i+25)]['Fare'].value_counts().sum()/train_data[\"Fare\"][(train_data[\"Fare\"]>=i) & (train_data[\"Fare\"] <= i+25)].value_counts().sum()\n",
    "    fare_survived_ratio_dict[str(i)+'-'+str(i+25)] = fare_survived_ratio.round(3)\n",
    "fare_survived_ratio = pd.Series(fare_survived_ratio_dict)"
   ]
  },
  {
   "cell_type": "code",
   "execution_count": 33,
   "metadata": {},
   "outputs": [
    {
     "data": {
      "text/plain": [
       "0-25       False\n",
       "25-50      False\n",
       "50-75      False\n",
       "75-100     False\n",
       "100-125    False\n",
       "125-150    False\n",
       "150-175    False\n",
       "175-200     True\n",
       "200-225    False\n",
       "225-250    False\n",
       "250-275    False\n",
       "275-300     True\n",
       "300-325     True\n",
       "325-350     True\n",
       "350-375     True\n",
       "375-400     True\n",
       "400-425     True\n",
       "425-450     True\n",
       "450-475     True\n",
       "475-500     True\n",
       "500-525    False\n",
       "dtype: bool"
      ]
     },
     "execution_count": 33,
     "metadata": {},
     "output_type": "execute_result"
    }
   ],
   "source": [
    "fare_survived_ratio.isna()"
   ]
  },
  {
   "cell_type": "code",
   "execution_count": 34,
   "metadata": {},
   "outputs": [],
   "source": [
    "fare_survived_ratio.fillna(0, inplace = True)"
   ]
  },
  {
   "cell_type": "code",
   "execution_count": 36,
   "metadata": {},
   "outputs": [
    {
     "data": {
      "image/png": "[encoded data removed]",
      "text/plain": [
       "<Figure size 720x360 with 1 Axes>"
      ]
     },
     "metadata": {},
     "output_type": "display_data"
    }
   ],
   "source": [
    "fig,ax = plt.subplots(figsize=(10,5))\n",
    "plt.title('The Survived Ratio Based on the Fare')\n",
    "sns.barplot(y = fare_survived_ratio.index, x = fare_survived_ratio, palette='Blues')\n",
    "plt.show()"
   ]
  },
  {
   "cell_type": "code",
   "execution_count": 37,
   "metadata": {},
   "outputs": [],
   "source": [
    "above_500 = train_data[train_data['Fare'] >= 500]"
   ]
  },
  {
   "cell_type": "code",
   "execution_count": 38,
   "metadata": {},
   "outputs": [
    {
     "data": {
      "text/html": [
       "<div>\n",
       "<style scoped>\n",
       "    .dataframe tbody tr th:only-of-type {\n",
       "        vertical-align: middle;\n",
       "    }\n",
       "\n",
       "    .dataframe tbody tr th {\n",
       "        vertical-align: top;\n",
       "    }\n",
       "\n",
       "    .dataframe thead th {\n",
       "        text-align: right;\n",
       "    }\n",
       "</style>\n",
       "<table border=\"1\" class=\"dataframe\">\n",
       "  <thead>\n",
       "    <tr style=\"text-align: right;\">\n",
       "      <th></th>\n",
       "      <th>PassengerId</th>\n",
       "      <th>Survived</th>\n",
       "      <th>Pclass</th>\n",
       "      <th>Name</th>\n",
       "      <th>Sex</th>\n",
       "      <th>Age</th>\n",
       "      <th>SibSp</th>\n",
       "      <th>Parch</th>\n",
       "      <th>Ticket</th>\n",
       "      <th>Fare</th>\n",
       "      <th>Embarked</th>\n",
       "    </tr>\n",
       "  </thead>\n",
       "  <tbody>\n",
       "    <tr>\n",
       "      <th>679</th>\n",
       "      <td>680</td>\n",
       "      <td>1</td>\n",
       "      <td>1</td>\n",
       "      <td>Cardeza, Mr. Thomas Drake Martinez</td>\n",
       "      <td>male</td>\n",
       "      <td>36.0</td>\n",
       "      <td>0</td>\n",
       "      <td>1</td>\n",
       "      <td>PC 17755</td>\n",
       "      <td>512</td>\n",
       "      <td>C</td>\n",
       "    </tr>\n",
       "    <tr>\n",
       "      <th>258</th>\n",
       "      <td>259</td>\n",
       "      <td>1</td>\n",
       "      <td>1</td>\n",
       "      <td>Ward, Miss. Anna</td>\n",
       "      <td>female</td>\n",
       "      <td>35.0</td>\n",
       "      <td>0</td>\n",
       "      <td>0</td>\n",
       "      <td>PC 17755</td>\n",
       "      <td>512</td>\n",
       "      <td>C</td>\n",
       "    </tr>\n",
       "    <tr>\n",
       "      <th>737</th>\n",
       "      <td>738</td>\n",
       "      <td>1</td>\n",
       "      <td>1</td>\n",
       "      <td>Lesurer, Mr. Gustave J</td>\n",
       "      <td>male</td>\n",
       "      <td>35.0</td>\n",
       "      <td>0</td>\n",
       "      <td>0</td>\n",
       "      <td>PC 17755</td>\n",
       "      <td>512</td>\n",
       "      <td>C</td>\n",
       "    </tr>\n",
       "  </tbody>\n",
       "</table>\n",
       "</div>"
      ],
      "text/plain": [
       "     PassengerId  Survived  Pclass                                Name  \\\n",
       "679          680         1       1  Cardeza, Mr. Thomas Drake Martinez   \n",
       "258          259         1       1                    Ward, Miss. Anna   \n",
       "737          738         1       1              Lesurer, Mr. Gustave J   \n",
       "\n",
       "        Sex   Age  SibSp  Parch    Ticket  Fare Embarked  \n",
       "679    male  36.0      0      1  PC 17755   512        C  \n",
       "258  female  35.0      0      0  PC 17755   512        C  \n",
       "737    male  35.0      0      0  PC 17755   512        C  "
      ]
     },
     "execution_count": 38,
     "metadata": {},
     "output_type": "execute_result"
    }
   ],
   "source": [
    "above_500"
   ]
  },
  {
   "cell_type": "markdown",
   "metadata": {},
   "source": [
    "    Based on this plot, we can easily recoginize that:\n",
    "    (1) People with lower fare value have lower survived ratio\n",
    "    (2) The survived ratio reached 100% when the fare value is batween 125-150 as well as 500-525\n",
    "    (3) 500-525 may be outlier but we do not have enough data to prove it"
   ]
  },
  {
   "cell_type": "markdown",
   "metadata": {},
   "source": [
    "**'SibSp' and 'Parch' Exploration**"
   ]
  },
  {
   "cell_type": "markdown",
   "metadata": {},
   "source": [
    "***Feature Egineering***"
   ]
  },
  {
   "cell_type": "code",
   "execution_count": 39,
   "metadata": {},
   "outputs": [
    {
     "name": "stderr",
     "output_type": "stream",
     "text": [
      "/opt/anaconda3/lib/python3.7/site-packages/pandas/core/indexing.py:671: SettingWithCopyWarning: \n",
      "A value is trying to be set on a copy of a slice from a DataFrame\n",
      "\n",
      "See the caveats in the documentation: https://pandas.pydata.org/pandas-docs/stable/user_guide/indexing.html#returning-a-view-versus-a-copy\n",
      "  self._setitem_with_indexer(indexer, value)\n"
     ]
    }
   ],
   "source": [
    "# Combine the \"Parch\" and \"SibSp\" as \"Family\"\n",
    "train_data['Family'] = train_data[\"Parch\"] + train_data[\"SibSp\"]\n",
    "train_data['Family'].loc[train_data['Family'] > 0] = 1\n",
    "train_data['Family'].loc[train_data['Family'] == 0] = 0\n",
    "val_data['Family'] = val_data[\"Parch\"] + val_data[\"SibSp\"]\n",
    "val_data['Family'].loc[val_data['Family'] > 0] = 1\n",
    "val_data['Family'].loc[val_data['Family'] == 0] = 0\n",
    "test_data['Family'] = test_data[\"Parch\"] + test_data[\"SibSp\"]\n",
    "test_data['Family'].loc[test_data['Family'] > 0] = 1\n",
    "test_data['Family'].loc[test_data['Family'] == 0] = 0"
   ]
  },
  {
   "cell_type": "code",
   "execution_count": 40,
   "metadata": {},
   "outputs": [],
   "source": [
    "train_data = train_data.drop(['SibSp','Parch'], axis=1)\n",
    "val_data = val_data.drop(['SibSp','Parch'], axis=1)\n",
    "test_data = test_data.drop(['SibSp','Parch'], axis=1)"
   ]
  },
  {
   "cell_type": "code",
   "execution_count": 41,
   "metadata": {},
   "outputs": [
    {
     "data": {
      "text/plain": [
       "0.512"
      ]
     },
     "execution_count": 41,
     "metadata": {},
     "output_type": "execute_result"
    }
   ],
   "source": [
    "With_Family = train_data[['Family','Survived']][train_data['Family']==1].Survived.value_counts()/train_data[['Family','Survived']][train_data['Family']==1].Survived.value_counts().sum()\n",
    "With_Family_Survived_Ratio = With_Family[1].round(3)\n",
    "With_Family_Survived_Ratio"
   ]
  },
  {
   "cell_type": "code",
   "execution_count": 42,
   "metadata": {},
   "outputs": [
    {
     "data": {
      "text/plain": [
       "0.315"
      ]
     },
     "execution_count": 42,
     "metadata": {},
     "output_type": "execute_result"
    }
   ],
   "source": [
    "Alone = train_data[['Family','Survived']][train_data['Family']==0].Survived.value_counts()/train_data[['Family','Survived']][train_data['Family']==0].Survived.value_counts().sum()\n",
    "Alone_Survived_Ratio = Alone[1].round(3)\n",
    "Alone_Survived_Ratio"
   ]
  },
  {
   "cell_type": "code",
   "execution_count": 43,
   "metadata": {},
   "outputs": [
    {
     "data": {
      "text/plain": [
       "With Family    0.512\n",
       "Alone          0.315\n",
       "dtype: float64"
      ]
     },
     "execution_count": 43,
     "metadata": {},
     "output_type": "execute_result"
    }
   ],
   "source": [
    "Family_Alone_Survived_Ratio = pd.Series([With_Family_Survived_Ratio,Alone_Survived_Ratio],index=['With Family','Alone'])\n",
    "Family_Alone_Survived_Ratio"
   ]
  },
  {
   "cell_type": "code",
   "execution_count": 44,
   "metadata": {},
   "outputs": [
    {
     "data": {
      "image/png": "[encoded data removed]",
      "text/plain": [
       "<Figure size 432x288 with 1 Axes>"
      ]
     },
     "metadata": {},
     "output_type": "display_data"
    }
   ],
   "source": [
    "plt.figure(figsize=(6,4))\n",
    "plt.title(\"With Family and Alone Survived Ratio\")\n",
    "sns.barplot(x = Family_Alone_Survived_Ratio.index, y = Family_Alone_Survived_Ratio, palette='Paired')\n",
    "plt.show()"
   ]
  },
  {
   "cell_type": "markdown",
   "metadata": {},
   "source": [
    "    Based on the analysis shown above, we can see that the people with other family members have higher survival rate than the passengers traveling alone"
   ]
  },
  {
   "cell_type": "code",
   "execution_count": 66,
   "metadata": {},
   "outputs": [
    {
     "data": {
      "text/html": [
       "<div>\n",
       "<style scoped>\n",
       "    .dataframe tbody tr th:only-of-type {\n",
       "        vertical-align: middle;\n",
       "    }\n",
       "\n",
       "    .dataframe tbody tr th {\n",
       "        vertical-align: top;\n",
       "    }\n",
       "\n",
       "    .dataframe thead th {\n",
       "        text-align: right;\n",
       "    }\n",
       "</style>\n",
       "<table border=\"1\" class=\"dataframe\">\n",
       "  <thead>\n",
       "    <tr style=\"text-align: right;\">\n",
       "      <th></th>\n",
       "      <th>index</th>\n",
       "      <th>Age</th>\n",
       "      <th>Sex</th>\n",
       "    </tr>\n",
       "  </thead>\n",
       "  <tbody>\n",
       "    <tr>\n",
       "      <th>0</th>\n",
       "      <td>757</td>\n",
       "      <td>18.0</td>\n",
       "      <td>male</td>\n",
       "    </tr>\n",
       "    <tr>\n",
       "      <th>1</th>\n",
       "      <td>121</td>\n",
       "      <td>NaN</td>\n",
       "      <td>male</td>\n",
       "    </tr>\n",
       "    <tr>\n",
       "      <th>2</th>\n",
       "      <td>725</td>\n",
       "      <td>20.0</td>\n",
       "      <td>male</td>\n",
       "    </tr>\n",
       "    <tr>\n",
       "      <th>3</th>\n",
       "      <td>395</td>\n",
       "      <td>22.0</td>\n",
       "      <td>male</td>\n",
       "    </tr>\n",
       "    <tr>\n",
       "      <th>4</th>\n",
       "      <td>40</td>\n",
       "      <td>40.0</td>\n",
       "      <td>female</td>\n",
       "    </tr>\n",
       "    <tr>\n",
       "      <th>...</th>\n",
       "      <td>...</td>\n",
       "      <td>...</td>\n",
       "      <td>...</td>\n",
       "    </tr>\n",
       "    <tr>\n",
       "      <th>374</th>\n",
       "      <td>96</td>\n",
       "      <td>71.0</td>\n",
       "      <td>male</td>\n",
       "    </tr>\n",
       "    <tr>\n",
       "      <th>375</th>\n",
       "      <td>214</td>\n",
       "      <td>NaN</td>\n",
       "      <td>male</td>\n",
       "    </tr>\n",
       "    <tr>\n",
       "      <th>376</th>\n",
       "      <td>595</td>\n",
       "      <td>36.0</td>\n",
       "      <td>male</td>\n",
       "    </tr>\n",
       "    <tr>\n",
       "      <th>377</th>\n",
       "      <td>382</td>\n",
       "      <td>32.0</td>\n",
       "      <td>male</td>\n",
       "    </tr>\n",
       "    <tr>\n",
       "      <th>378</th>\n",
       "      <td>365</td>\n",
       "      <td>30.0</td>\n",
       "      <td>male</td>\n",
       "    </tr>\n",
       "  </tbody>\n",
       "</table>\n",
       "<p>379 rows × 3 columns</p>\n",
       "</div>"
      ],
      "text/plain": [
       "     index   Age     Sex\n",
       "0      757  18.0    male\n",
       "1      121   NaN    male\n",
       "2      725  20.0    male\n",
       "3      395  22.0    male\n",
       "4       40  40.0  female\n",
       "..     ...   ...     ...\n",
       "374     96  71.0    male\n",
       "375    214   NaN    male\n",
       "376    595  36.0    male\n",
       "377    382  32.0    male\n",
       "378    365  30.0    male\n",
       "\n",
       "[379 rows x 3 columns]"
      ]
     },
     "execution_count": 66,
     "metadata": {},
     "output_type": "execute_result"
    }
   ],
   "source": [
    "train_data.loc[(train_data['Survived'] == 0),['Age','Sex']].reset_index()"
   ]
  },
  {
   "cell_type": "markdown",
   "metadata": {},
   "source": [
    "**\"Age\" Exploration**"
   ]
  },
  {
   "cell_type": "code",
   "execution_count": 71,
   "metadata": {},
   "outputs": [
    {
     "data": {
      "image/png": "[encoded data removed]",
      "text/plain": [
       "<Figure size 720x360 with 1 Axes>"
      ]
     },
     "metadata": {},
     "output_type": "display_data"
    }
   ],
   "source": [
    "fig,ax = plt.subplots(figsize=(10,5))\n",
    "sns.kdeplot(train_data.loc[(train_data['Survived'] == 0),'Age'], color='gray', shade=True, label='not survived')\n",
    "sns.kdeplot(train_data.loc[(train_data['Survived'] == 1),'Age'], color='g', shade=True, label='survived')\n",
    "plt.title('Age Distribution', fontsize = 15)\n",
    "plt.xlabel(\"Age\", fontsize = 15)\n",
    "plt.ylabel('Frequency', fontsize = 15)\n",
    "plt.legend()\n",
    "plt.show()"
   ]
  },
  {
   "cell_type": "markdown",
   "metadata": {},
   "source": [
    "    From this plot, we can see that the age of people who survived is mostly between 0 and 50, while those who did not survive centered between 15 and 50. Besides, few older people whose age are larger than 60 survived"
   ]
  },
  {
   "cell_type": "code",
   "execution_count": 177,
   "metadata": {},
   "outputs": [
    {
     "data": {
      "image/png": "[encoded data removed]",
      "text/plain": [
       "<Figure size 720x360 with 1 Axes>"
      ]
     },
     "metadata": {},
     "output_type": "display_data"
    }
   ],
   "source": [
    "fig,ax = plt.subplots(figsize=(10,5))\n",
    "\n",
    "g = sns.kdeplot(data= train_data[train_data['Survived'] == 0], x= 'Age', color='gray', shade=True, hue= 'Sex')\n",
    "\n",
    "plt.title('Age Distribution (Non Survivor) by Gender', fontsize = 15)\n",
    "plt.xlabel(\"Age\", fontsize = 15)\n",
    "plt.ylabel('Frequency', fontsize = 15)  \n",
    "plt.show()"
   ]
  },
  {
   "cell_type": "code",
   "execution_count": 178,
   "metadata": {},
   "outputs": [
    {
     "data": {
      "image/png": "[encoded data removed]",
      "text/plain": [
       "<Figure size 720x360 with 1 Axes>"
      ]
     },
     "metadata": {},
     "output_type": "display_data"
    }
   ],
   "source": [
    "fig,ax = plt.subplots(figsize=(10,5))\n",
    "\n",
    "g = sns.kdeplot(data= train_data[train_data['Survived'] == 1], x= 'Age', color='gray', shade=True, hue= 'Sex')\n",
    "\n",
    "plt.title('Age Distribution (Survivor) by Gender', fontsize = 15)\n",
    "plt.xlabel(\"Age\", fontsize = 15)\n",
    "plt.ylabel('Frequency', fontsize = 15)  \n",
    "plt.show()"
   ]
  },
  {
   "cell_type": "markdown",
   "metadata": {},
   "source": [
    "***Dealing with \"Age\" missing value***"
   ]
  },
  {
   "cell_type": "code",
   "execution_count": 72,
   "metadata": {},
   "outputs": [
    {
     "data": {
      "text/plain": [
       "29.88569105691057"
      ]
     },
     "execution_count": 72,
     "metadata": {},
     "output_type": "execute_result"
    }
   ],
   "source": [
    "train_data.Age.mean()"
   ]
  },
  {
   "cell_type": "code",
   "execution_count": 73,
   "metadata": {},
   "outputs": [
    {
     "data": {
      "text/plain": [
       "28.0"
      ]
     },
     "execution_count": 73,
     "metadata": {},
     "output_type": "execute_result"
    }
   ],
   "source": [
    "train_data.Age.median()"
   ]
  },
  {
   "cell_type": "code",
   "execution_count": 74,
   "metadata": {},
   "outputs": [
    {
     "data": {
      "text/plain": [
       "0    22.0\n",
       "dtype: float64"
      ]
     },
     "execution_count": 74,
     "metadata": {},
     "output_type": "execute_result"
    }
   ],
   "source": [
    "train_data.Age.mode()"
   ]
  },
  {
   "cell_type": "code",
   "execution_count": 75,
   "metadata": {},
   "outputs": [],
   "source": [
    "# Since mean > median > mode, it is right skewed\n",
    "# We use median value to fill the na\n",
    "train_data.Age.fillna(train_data.Age.median(), inplace = True)\n",
    "val_data.Age.fillna(train_data.Age.median(), inplace = True)\n",
    "test_data.Age.fillna(train_data.Age.median(), inplace = True)"
   ]
  },
  {
   "cell_type": "code",
   "execution_count": 76,
   "metadata": {},
   "outputs": [
    {
     "data": {
      "text/plain": [
       "PassengerId    0\n",
       "Survived       0\n",
       "Pclass         0\n",
       "Name           0\n",
       "Sex            0\n",
       "Age            0\n",
       "Ticket         0\n",
       "Fare           0\n",
       "Embarked       2\n",
       "Family         0\n",
       "dtype: int64"
      ]
     },
     "execution_count": 76,
     "metadata": {},
     "output_type": "execute_result"
    }
   ],
   "source": [
    "train_data.isna().sum()"
   ]
  },
  {
   "cell_type": "code",
   "execution_count": 77,
   "metadata": {},
   "outputs": [
    {
     "data": {
      "text/plain": [
       "PassengerId    0\n",
       "Survived       0\n",
       "Pclass         0\n",
       "Name           0\n",
       "Sex            0\n",
       "Age            0\n",
       "Ticket         0\n",
       "Fare           0\n",
       "Embarked       0\n",
       "Family         0\n",
       "dtype: int64"
      ]
     },
     "execution_count": 77,
     "metadata": {},
     "output_type": "execute_result"
    }
   ],
   "source": [
    "val_data.isna().sum()"
   ]
  },
  {
   "cell_type": "code",
   "execution_count": 78,
   "metadata": {},
   "outputs": [
    {
     "data": {
      "text/plain": [
       "PassengerId    0\n",
       "Pclass         0\n",
       "Name           0\n",
       "Sex            0\n",
       "Age            0\n",
       "Ticket         0\n",
       "Fare           0\n",
       "Embarked       0\n",
       "Family         0\n",
       "dtype: int64"
      ]
     },
     "execution_count": 78,
     "metadata": {},
     "output_type": "execute_result"
    }
   ],
   "source": [
    "test_data.isna().sum()"
   ]
  },
  {
   "cell_type": "markdown",
   "metadata": {},
   "source": [
    "***Feature Egineering_2***"
   ]
  },
  {
   "cell_type": "code",
   "execution_count": 79,
   "metadata": {},
   "outputs": [],
   "source": [
    "# children, the old, women, men\n",
    "child_age = 18\n",
    "old_age = 60\n",
    "def get_person(passenger):\n",
    "    age, sex = passenger\n",
    "    if (age <= child_age):\n",
    "        return 'child'\n",
    "    elif (age >= old_age):\n",
    "        return 'old'\n",
    "    elif (sex == 'female'):\n",
    "        return 'female_adult'\n",
    "    else:\n",
    "        return 'male_adult'\n",
    "df = train_data.copy()\n",
    "df_2 = val_data.copy()\n",
    "df_3 = test_data.copy()\n",
    "df = pd.concat([df, pd.DataFrame(df[['Age', 'Sex']].apply(get_person, axis=1), columns=['person'])],axis=1)\n",
    "df = pd.concat([df,pd.get_dummies(df['person'])],axis=1)\n",
    "df_2 = pd.concat([df_2, pd.DataFrame(df_2[['Age', 'Sex']].apply(get_person, axis=1), columns=['person'])],axis=1)\n",
    "df_2 = pd.concat([df_2, pd.get_dummies(df_2['person'])],axis=1)\n",
    "df_3 = pd.concat([df_3, pd.DataFrame(df_3[['Age', 'Sex']].apply(get_person, axis=1), columns=['person'])],axis=1)\n",
    "df_3 = pd.concat([df_3, pd.get_dummies(df_3['person'])],axis=1)"
   ]
  },
  {
   "cell_type": "code",
   "execution_count": 80,
   "metadata": {},
   "outputs": [
    {
     "data": {
      "text/html": [
       "<div>\n",
       "<style scoped>\n",
       "    .dataframe tbody tr th:only-of-type {\n",
       "        vertical-align: middle;\n",
       "    }\n",
       "\n",
       "    .dataframe tbody tr th {\n",
       "        vertical-align: top;\n",
       "    }\n",
       "\n",
       "    .dataframe thead th {\n",
       "        text-align: right;\n",
       "    }\n",
       "</style>\n",
       "<table border=\"1\" class=\"dataframe\">\n",
       "  <thead>\n",
       "    <tr style=\"text-align: right;\">\n",
       "      <th></th>\n",
       "      <th>PassengerId</th>\n",
       "      <th>Survived</th>\n",
       "      <th>Pclass</th>\n",
       "      <th>Name</th>\n",
       "      <th>Sex</th>\n",
       "      <th>Age</th>\n",
       "      <th>Ticket</th>\n",
       "      <th>Fare</th>\n",
       "      <th>Embarked</th>\n",
       "      <th>Family</th>\n",
       "      <th>person</th>\n",
       "      <th>child</th>\n",
       "      <th>female_adult</th>\n",
       "      <th>male_adult</th>\n",
       "      <th>old</th>\n",
       "    </tr>\n",
       "  </thead>\n",
       "  <tbody>\n",
       "    <tr>\n",
       "      <th>416</th>\n",
       "      <td>417</td>\n",
       "      <td>1</td>\n",
       "      <td>2</td>\n",
       "      <td>Drew, Mrs. James Vivian (Lulu Thorne Christian)</td>\n",
       "      <td>female</td>\n",
       "      <td>34.0</td>\n",
       "      <td>28220</td>\n",
       "      <td>32</td>\n",
       "      <td>S</td>\n",
       "      <td>1</td>\n",
       "      <td>female_adult</td>\n",
       "      <td>0</td>\n",
       "      <td>1</td>\n",
       "      <td>0</td>\n",
       "      <td>0</td>\n",
       "    </tr>\n",
       "    <tr>\n",
       "      <th>801</th>\n",
       "      <td>802</td>\n",
       "      <td>1</td>\n",
       "      <td>2</td>\n",
       "      <td>Collyer, Mrs. Harvey (Charlotte Annie Tate)</td>\n",
       "      <td>female</td>\n",
       "      <td>31.0</td>\n",
       "      <td>C.A. 31921</td>\n",
       "      <td>26</td>\n",
       "      <td>S</td>\n",
       "      <td>1</td>\n",
       "      <td>female_adult</td>\n",
       "      <td>0</td>\n",
       "      <td>1</td>\n",
       "      <td>0</td>\n",
       "      <td>0</td>\n",
       "    </tr>\n",
       "    <tr>\n",
       "      <th>512</th>\n",
       "      <td>513</td>\n",
       "      <td>1</td>\n",
       "      <td>1</td>\n",
       "      <td>McGough, Mr. James Robert</td>\n",
       "      <td>male</td>\n",
       "      <td>36.0</td>\n",
       "      <td>PC 17473</td>\n",
       "      <td>26</td>\n",
       "      <td>S</td>\n",
       "      <td>0</td>\n",
       "      <td>male_adult</td>\n",
       "      <td>0</td>\n",
       "      <td>0</td>\n",
       "      <td>1</td>\n",
       "      <td>0</td>\n",
       "    </tr>\n",
       "    <tr>\n",
       "      <th>455</th>\n",
       "      <td>456</td>\n",
       "      <td>1</td>\n",
       "      <td>3</td>\n",
       "      <td>Jalsevac, Mr. Ivan</td>\n",
       "      <td>male</td>\n",
       "      <td>29.0</td>\n",
       "      <td>349240</td>\n",
       "      <td>7</td>\n",
       "      <td>C</td>\n",
       "      <td>0</td>\n",
       "      <td>male_adult</td>\n",
       "      <td>0</td>\n",
       "      <td>0</td>\n",
       "      <td>1</td>\n",
       "      <td>0</td>\n",
       "    </tr>\n",
       "    <tr>\n",
       "      <th>757</th>\n",
       "      <td>758</td>\n",
       "      <td>0</td>\n",
       "      <td>2</td>\n",
       "      <td>Bailey, Mr. Percy Andrew</td>\n",
       "      <td>male</td>\n",
       "      <td>18.0</td>\n",
       "      <td>29108</td>\n",
       "      <td>11</td>\n",
       "      <td>S</td>\n",
       "      <td>0</td>\n",
       "      <td>child</td>\n",
       "      <td>1</td>\n",
       "      <td>0</td>\n",
       "      <td>0</td>\n",
       "      <td>0</td>\n",
       "    </tr>\n",
       "  </tbody>\n",
       "</table>\n",
       "</div>"
      ],
      "text/plain": [
       "     PassengerId  Survived  Pclass  \\\n",
       "416          417         1       2   \n",
       "801          802         1       2   \n",
       "512          513         1       1   \n",
       "455          456         1       3   \n",
       "757          758         0       2   \n",
       "\n",
       "                                                Name     Sex   Age  \\\n",
       "416  Drew, Mrs. James Vivian (Lulu Thorne Christian)  female  34.0   \n",
       "801      Collyer, Mrs. Harvey (Charlotte Annie Tate)  female  31.0   \n",
       "512                        McGough, Mr. James Robert    male  36.0   \n",
       "455                               Jalsevac, Mr. Ivan    male  29.0   \n",
       "757                         Bailey, Mr. Percy Andrew    male  18.0   \n",
       "\n",
       "         Ticket  Fare Embarked  Family        person  child  female_adult  \\\n",
       "416       28220    32        S       1  female_adult      0             1   \n",
       "801  C.A. 31921    26        S       1  female_adult      0             1   \n",
       "512    PC 17473    26        S       0    male_adult      0             0   \n",
       "455      349240     7        C       0    male_adult      0             0   \n",
       "757       29108    11        S       0         child      1             0   \n",
       "\n",
       "     male_adult  old  \n",
       "416           0    0  \n",
       "801           0    0  \n",
       "512           1    0  \n",
       "455           1    0  \n",
       "757           0    0  "
      ]
     },
     "execution_count": 80,
     "metadata": {},
     "output_type": "execute_result"
    }
   ],
   "source": [
    "df.head()"
   ]
  },
  {
   "cell_type": "markdown",
   "metadata": {},
   "source": [
    "**\"Name\" Exploration**"
   ]
  },
  {
   "cell_type": "markdown",
   "metadata": {},
   "source": [
    "***Feature Egineering_3***"
   ]
  },
  {
   "cell_type": "code",
   "execution_count": 81,
   "metadata": {},
   "outputs": [],
   "source": [
    "import re"
   ]
  },
  {
   "cell_type": "code",
   "execution_count": 307,
   "metadata": {},
   "outputs": [],
   "source": [
    "# We can explore the people's characteristic based on the Name\n",
    "df[\"Title\"] = df[\"Name\"].apply(lambda x: re.search(' ([A-Za-z]+)\\.',x).group(1))\n",
    "df_2[\"Title\"] = df_2[\"Name\"].apply(lambda x: re.search(' ([A-Za-z]+)\\.',x).group(1))\n",
    "df_3[\"Title\"] = df_3[\"Name\"].apply(lambda x: re.search(' ([A-Za-z]+)\\.',x).group(1))"
   ]
  },
  {
   "cell_type": "code",
   "execution_count": 310,
   "metadata": {},
   "outputs": [],
   "source": [
    "title_mapping = {\"Mr\": 1, \"Miss\": 2, \"Mrs\": 3, \"Master\": 4, \"Dr\": 5, \"Rev\": 6, \"Major\": 7, \"Col\": 7, \"Mlle\": 2, \"Mme\": 3,\"Don\": 8, \"Lady\": 9, \"the Countess\": 9, \"Jonkheer\": 9, \"Sir\": 8, \"Capt\": 7, \"Ms\": 2}\n",
    "df[\"Title_cat\"] = df.loc[:,'Title'].map(title_mapping)\n",
    "df_2[\"Title_cat\"] = df_2.loc[:,'Title'].map(title_mapping)\n",
    "df_3[\"Title_cat\"] = df_3.loc[:,'Title'].map(title_mapping)"
   ]
  },
  {
   "cell_type": "code",
   "execution_count": 311,
   "metadata": {},
   "outputs": [
    {
     "data": {
      "text/html": [
       "<div>\n",
       "<style scoped>\n",
       "    .dataframe tbody tr th:only-of-type {\n",
       "        vertical-align: middle;\n",
       "    }\n",
       "\n",
       "    .dataframe tbody tr th {\n",
       "        vertical-align: top;\n",
       "    }\n",
       "\n",
       "    .dataframe thead th {\n",
       "        text-align: right;\n",
       "    }\n",
       "</style>\n",
       "<table border=\"1\" class=\"dataframe\">\n",
       "  <thead>\n",
       "    <tr style=\"text-align: right;\">\n",
       "      <th></th>\n",
       "      <th>PassengerId</th>\n",
       "      <th>Survived</th>\n",
       "      <th>Pclass</th>\n",
       "      <th>Name</th>\n",
       "      <th>Sex</th>\n",
       "      <th>Age</th>\n",
       "      <th>Ticket</th>\n",
       "      <th>Fare</th>\n",
       "      <th>Embarked</th>\n",
       "      <th>Family</th>\n",
       "      <th>person</th>\n",
       "      <th>child</th>\n",
       "      <th>female_adult</th>\n",
       "      <th>male_adult</th>\n",
       "      <th>old</th>\n",
       "      <th>Title</th>\n",
       "      <th>Title_cat</th>\n",
       "    </tr>\n",
       "  </thead>\n",
       "  <tbody>\n",
       "    <tr>\n",
       "      <th>416</th>\n",
       "      <td>417</td>\n",
       "      <td>1</td>\n",
       "      <td>2</td>\n",
       "      <td>Drew, Mrs. James Vivian (Lulu Thorne Christian)</td>\n",
       "      <td>female</td>\n",
       "      <td>34.0</td>\n",
       "      <td>28220</td>\n",
       "      <td>32</td>\n",
       "      <td>S</td>\n",
       "      <td>1</td>\n",
       "      <td>female_adult</td>\n",
       "      <td>0</td>\n",
       "      <td>1</td>\n",
       "      <td>0</td>\n",
       "      <td>0</td>\n",
       "      <td>Mrs</td>\n",
       "      <td>3.0</td>\n",
       "    </tr>\n",
       "    <tr>\n",
       "      <th>801</th>\n",
       "      <td>802</td>\n",
       "      <td>1</td>\n",
       "      <td>2</td>\n",
       "      <td>Collyer, Mrs. Harvey (Charlotte Annie Tate)</td>\n",
       "      <td>female</td>\n",
       "      <td>31.0</td>\n",
       "      <td>C.A. 31921</td>\n",
       "      <td>26</td>\n",
       "      <td>S</td>\n",
       "      <td>1</td>\n",
       "      <td>female_adult</td>\n",
       "      <td>0</td>\n",
       "      <td>1</td>\n",
       "      <td>0</td>\n",
       "      <td>0</td>\n",
       "      <td>Mrs</td>\n",
       "      <td>3.0</td>\n",
       "    </tr>\n",
       "    <tr>\n",
       "      <th>512</th>\n",
       "      <td>513</td>\n",
       "      <td>1</td>\n",
       "      <td>1</td>\n",
       "      <td>McGough, Mr. James Robert</td>\n",
       "      <td>male</td>\n",
       "      <td>36.0</td>\n",
       "      <td>PC 17473</td>\n",
       "      <td>26</td>\n",
       "      <td>S</td>\n",
       "      <td>0</td>\n",
       "      <td>male_adult</td>\n",
       "      <td>0</td>\n",
       "      <td>0</td>\n",
       "      <td>1</td>\n",
       "      <td>0</td>\n",
       "      <td>Mr</td>\n",
       "      <td>1.0</td>\n",
       "    </tr>\n",
       "    <tr>\n",
       "      <th>455</th>\n",
       "      <td>456</td>\n",
       "      <td>1</td>\n",
       "      <td>3</td>\n",
       "      <td>Jalsevac, Mr. Ivan</td>\n",
       "      <td>male</td>\n",
       "      <td>29.0</td>\n",
       "      <td>349240</td>\n",
       "      <td>7</td>\n",
       "      <td>C</td>\n",
       "      <td>0</td>\n",
       "      <td>male_adult</td>\n",
       "      <td>0</td>\n",
       "      <td>0</td>\n",
       "      <td>1</td>\n",
       "      <td>0</td>\n",
       "      <td>Mr</td>\n",
       "      <td>1.0</td>\n",
       "    </tr>\n",
       "    <tr>\n",
       "      <th>757</th>\n",
       "      <td>758</td>\n",
       "      <td>0</td>\n",
       "      <td>2</td>\n",
       "      <td>Bailey, Mr. Percy Andrew</td>\n",
       "      <td>male</td>\n",
       "      <td>18.0</td>\n",
       "      <td>29108</td>\n",
       "      <td>11</td>\n",
       "      <td>S</td>\n",
       "      <td>0</td>\n",
       "      <td>child</td>\n",
       "      <td>1</td>\n",
       "      <td>0</td>\n",
       "      <td>0</td>\n",
       "      <td>0</td>\n",
       "      <td>Mr</td>\n",
       "      <td>1.0</td>\n",
       "    </tr>\n",
       "  </tbody>\n",
       "</table>\n",
       "</div>"
      ],
      "text/plain": [
       "     PassengerId  Survived  Pclass  \\\n",
       "416          417         1       2   \n",
       "801          802         1       2   \n",
       "512          513         1       1   \n",
       "455          456         1       3   \n",
       "757          758         0       2   \n",
       "\n",
       "                                                Name     Sex   Age  \\\n",
       "416  Drew, Mrs. James Vivian (Lulu Thorne Christian)  female  34.0   \n",
       "801      Collyer, Mrs. Harvey (Charlotte Annie Tate)  female  31.0   \n",
       "512                        McGough, Mr. James Robert    male  36.0   \n",
       "455                               Jalsevac, Mr. Ivan    male  29.0   \n",
       "757                         Bailey, Mr. Percy Andrew    male  18.0   \n",
       "\n",
       "         Ticket  Fare Embarked  Family        person  child  female_adult  \\\n",
       "416       28220    32        S       1  female_adult      0             1   \n",
       "801  C.A. 31921    26        S       1  female_adult      0             1   \n",
       "512    PC 17473    26        S       0    male_adult      0             0   \n",
       "455      349240     7        C       0    male_adult      0             0   \n",
       "757       29108    11        S       0         child      1             0   \n",
       "\n",
       "     male_adult  old Title  Title_cat  \n",
       "416           0    0   Mrs        3.0  \n",
       "801           0    0   Mrs        3.0  \n",
       "512           1    0    Mr        1.0  \n",
       "455           1    0    Mr        1.0  \n",
       "757           0    0    Mr        1.0  "
      ]
     },
     "execution_count": 311,
     "metadata": {},
     "output_type": "execute_result"
    }
   ],
   "source": [
    "df.head()"
   ]
  },
  {
   "cell_type": "markdown",
   "metadata": {},
   "source": [
    "**\"Ticket\" Exploration**"
   ]
  },
  {
   "cell_type": "code",
   "execution_count": 83,
   "metadata": {},
   "outputs": [],
   "source": [
    "ticket_cat = []\n",
    "ticket_list = df['Ticket'].tolist()\n",
    "for ticket in ticket_list:\n",
    "    if re.search('([^0-9]+)',ticket):\n",
    "         ticket_cat.append(1)\n",
    "    else:\n",
    "        ticket_cat.append(0)\n",
    "df['Ticket_Cat'] = ticket_cat"
   ]
  },
  {
   "cell_type": "code",
   "execution_count": 84,
   "metadata": {},
   "outputs": [],
   "source": [
    "ticket_cat = []\n",
    "ticket_list = df_2['Ticket'].tolist()\n",
    "for ticket in ticket_list:\n",
    "    if re.search('([^0-9]+)',ticket):\n",
    "         ticket_cat.append(1)\n",
    "    else:\n",
    "        ticket_cat.append(0)\n",
    "df_2['Ticket_Cat'] = ticket_cat"
   ]
  },
  {
   "cell_type": "code",
   "execution_count": 85,
   "metadata": {},
   "outputs": [],
   "source": [
    "ticket_cat = []\n",
    "ticket_list = df_3['Ticket'].tolist()\n",
    "for ticket in ticket_list:\n",
    "    if re.search('([^0-9]+)',ticket):\n",
    "         ticket_cat.append(1)\n",
    "    else:\n",
    "        ticket_cat.append(0)\n",
    "df_3['Ticket_Cat'] = ticket_cat"
   ]
  },
  {
   "cell_type": "code",
   "execution_count": 95,
   "metadata": {},
   "outputs": [],
   "source": [
    "df = pd.concat([df,pd.get_dummies(df['Sex'])],axis=1)\n",
    "df = pd.concat([df,pd.get_dummies(df['Embarked'])],axis=1)\n",
    "df_2 = pd.concat([df_2,pd.get_dummies(df_2['Sex'])],axis=1)\n",
    "df_2 = pd.concat([df_2,pd.get_dummies(df_2['Embarked'])],axis=1)\n",
    "df_3 = pd.concat([df_3,pd.get_dummies(df_3['Sex'])],axis=1)\n",
    "df_3 = pd.concat([df_3,pd.get_dummies(df_3['Embarked'])],axis=1)"
   ]
  },
  {
   "cell_type": "code",
   "execution_count": 96,
   "metadata": {},
   "outputs": [],
   "source": [
    "x_train = df[['Pclass','Age','Fare','Family','child','female_adult','male_adult','old','Ticket_Cat','female','male','C','Q','S']]\n",
    "y_train = df['Survived']\n",
    "x_val = df_2[['Pclass','Age','Fare','Family','child','female_adult','male_adult','old','Ticket_Cat','female','male','C','Q','S']]\n",
    "y_val = df_2['Survived']\n",
    "x_test = df_3[['Pclass','Age','Fare','Family','child','female_adult','male_adult','old','Ticket_Cat','female','male','C','Q','S']]"
   ]
  },
  {
   "cell_type": "code",
   "execution_count": 210,
   "metadata": {},
   "outputs": [],
   "source": [
    "#pip install chart-studio"
   ]
  },
  {
   "cell_type": "code",
   "execution_count": 206,
   "metadata": {},
   "outputs": [],
   "source": [
    "from chart_studio import plotly"
   ]
  },
  {
   "cell_type": "code",
   "execution_count": 260,
   "metadata": {},
   "outputs": [
    {
     "data": {
      "application/vnd.plotly.v1+json": {
       "config": {
        "plotlyServerURL": "https://plot.ly"
       },
       "data": [
        {
         "coloraxis": "coloraxis",
         "histfunc": "avg",
         "hovertemplate": "Embarked=%{x}<br>Age=%{y}<br>avg of Fare=%{z}<extra></extra>",
         "name": "",
         "type": "histogram2d",
         "x": [
          "S",
          "S",
          "S",
          "C",
          "S",
          "S",
          "S",
          "S",
          "S",
          "Q",
          "S",
          "S",
          "S",
          "S",
          "S",
          "S",
          "S",
          "C",
          "S",
          "S",
          "S",
          "C",
          "S",
          "Q",
          "S",
          "Q",
          "C",
          "S",
          "S",
          "S",
          "S",
          "S",
          "C",
          "S",
          "S",
          "S",
          "S",
          "S",
          "S",
          "S",
          "C",
          "S",
          "S",
          "S",
          "S",
          "S",
          "S",
          "S",
          "S",
          "C",
          "S",
          "Q",
          "S",
          "S",
          "Q",
          "C",
          "S",
          "S",
          "S",
          "C",
          "S",
          "C",
          "S",
          "S",
          "S",
          "S",
          "S",
          "S",
          "S",
          "C",
          "S",
          "S",
          "S",
          "Q",
          "S",
          "S",
          "C",
          "Q",
          "S",
          "C",
          "Q",
          "S",
          "S",
          "C",
          "S",
          "Q",
          "S",
          "S",
          "S",
          "S",
          "S",
          "Q",
          "S",
          "S",
          "S",
          "S",
          "C",
          "S",
          "S",
          "S",
          "S",
          "S",
          "S",
          "C",
          "C",
          "S",
          "S",
          "S",
          "C",
          "C",
          "S",
          "S",
          "S",
          "S",
          "C",
          "S",
          "C",
          "C",
          "S",
          "C",
          "S",
          "S",
          "Q",
          "S",
          "S",
          "S",
          "C",
          "S",
          "S",
          "Q",
          "S",
          "S",
          "S",
          "S",
          "S",
          "S",
          "S",
          "C",
          "S",
          "S",
          "S",
          "C",
          "Q",
          "S",
          "S",
          "S",
          "C",
          "C",
          "S",
          "S",
          "S",
          "S",
          "S",
          "S",
          "S",
          "S",
          "S",
          "S",
          "S",
          "S",
          "S",
          "C",
          "Q",
          "C",
          "C",
          "S",
          "S",
          "Q",
          "S",
          "S",
          "S",
          "C",
          "C",
          "S",
          "S",
          "S",
          "S",
          "S",
          "S",
          "C",
          "S",
          "C",
          "S",
          "S",
          "C",
          "S",
          "S",
          "C",
          "Q",
          "S",
          "S",
          "S",
          "S",
          "S",
          "S",
          "S",
          "S",
          "S",
          "Q",
          "S",
          "S",
          "S",
          "S",
          "S",
          "S",
          "S",
          "S",
          "S",
          "S",
          "S",
          "S",
          "S",
          "C",
          "C",
          "S",
          "S",
          "S",
          "S",
          "C",
          "Q",
          "S",
          "S",
          "S",
          "C",
          "S",
          "S",
          "C",
          "S",
          "S",
          "S",
          "S",
          "S",
          "Q",
          "S",
          "S",
          "S",
          "Q",
          "S",
          "S",
          "S",
          "S",
          "S",
          "C",
          "S",
          "S",
          "S",
          "S",
          "C",
          "S",
          "S",
          "S",
          "S",
          "Q",
          "S",
          "S",
          "S",
          "C",
          "S",
          "S",
          "S",
          "S",
          "S",
          "S",
          "S",
          "C",
          "C",
          "S",
          "Q",
          "S",
          "S",
          "S",
          "S",
          "S",
          "S",
          "Q",
          "C",
          "S",
          "S",
          "S",
          "S",
          "C",
          "S",
          "S",
          "S",
          "C",
          "C",
          "S",
          "Q",
          "S",
          "S",
          "S",
          "S",
          "S",
          "S",
          "S",
          null,
          "S",
          "S",
          "S",
          "S",
          "S",
          "Q",
          "S",
          "S",
          "S",
          "C",
          "S",
          "S",
          "S",
          "S",
          "C",
          "S",
          "S",
          "S",
          "S",
          "S",
          "S",
          "S",
          "S",
          "S",
          "S",
          "S",
          "C",
          "S",
          "C",
          "S",
          "C",
          "S",
          "S",
          "Q",
          "S",
          "C",
          "S",
          "S",
          "C",
          "Q",
          "S",
          "Q",
          "S",
          "S",
          "S",
          "S",
          "S",
          "S",
          "S",
          "C",
          "S",
          "S",
          "S",
          "S",
          "S",
          "C",
          "S",
          "S",
          "S",
          "Q",
          "Q",
          "S",
          "S",
          "S",
          "S",
          "S",
          "S",
          "Q",
          "S",
          "S",
          "C",
          "S",
          "C",
          "Q",
          "S",
          "S",
          "S",
          "S",
          "S",
          "S",
          "S",
          "S",
          "S",
          "S",
          "S",
          "S",
          "S",
          "Q",
          "S",
          "S",
          "S",
          "S",
          "S",
          "S",
          "S",
          "S",
          "S",
          "Q",
          "S",
          "S",
          "C",
          "S",
          "S",
          "S",
          "S",
          "C",
          "C",
          "S",
          "S",
          "C",
          "S",
          "S",
          "S",
          "S",
          "C",
          "Q",
          "S",
          "S",
          "Q",
          "S",
          "S",
          "S",
          "S",
          "C",
          "S",
          "S",
          "S",
          "S",
          "S",
          "S",
          "S",
          "Q",
          "S",
          "S",
          "S",
          "S",
          "S",
          "S",
          "S",
          "S",
          "S",
          "C",
          "S",
          "C",
          "S",
          "S",
          "S",
          "S",
          "C",
          "S",
          "S",
          "S",
          "S",
          "S",
          "S",
          "S",
          "S",
          "C",
          "S",
          "Q",
          "S",
          "S",
          "S",
          "S",
          "S",
          "S",
          "S",
          "Q",
          "S",
          "S",
          "C",
          "S",
          "S",
          "S",
          "S",
          "S",
          "S",
          "S",
          "S",
          "C",
          "S",
          "C",
          "S",
          "S",
          "C",
          "Q",
          "Q",
          "S",
          "S",
          "C",
          "S",
          "S",
          "C",
          "S",
          "S",
          "S",
          "S",
          "Q",
          "S",
          "C",
          "S",
          null,
          "Q",
          "S",
          "Q",
          "S",
          "C",
          "Q",
          "C",
          "S",
          "C",
          "S",
          "S",
          "C",
          "S",
          "C",
          "Q",
          "S",
          "S",
          "S",
          "S",
          "S",
          "S",
          "S",
          "S",
          "S",
          "C",
          "S",
          "S",
          "C",
          "C",
          "C",
          "S",
          "S",
          "S",
          "S",
          "S",
          "S",
          "S",
          "C",
          "S",
          "S",
          "C",
          "S",
          "S",
          "C",
          "S",
          "S",
          "Q",
          "S",
          "S",
          "Q",
          "C",
          "C",
          "S",
          "S",
          "S",
          "S",
          "S",
          "C",
          "S",
          "C",
          "S",
          "S",
          "C",
          "S",
          "C",
          "S",
          "S",
          "Q",
          "S",
          "S",
          "S",
          "S",
          "S",
          "S",
          "Q",
          "S",
          "S",
          "Q",
          "S",
          "S",
          "Q",
          "S",
          "C",
          "S",
          "C",
          "S",
          "S",
          "S",
          "S",
          "S",
          "C",
          "S",
          "S",
          "S",
          "S",
          "C",
          "S",
          "Q",
          "C",
          "C",
          "S",
          "S",
          "S",
          "S",
          "C",
          "S",
          "C",
          "C",
          "Q",
          "S",
          "S",
          "C",
          "C",
          "Q",
          "S",
          "S",
          "S",
          "S",
          "S",
          "C",
          "S",
          "Q",
          "S",
          "S",
          "Q"
         ],
         "xaxis": "x",
         "xbingroup": "x",
         "y": [
          34,
          31,
          36,
          29,
          18,
          63,
          28,
          28,
          50,
          28,
          20,
          22,
          48,
          40,
          42,
          28,
          28,
          0.75,
          28,
          54,
          28,
          19,
          28,
          28,
          25,
          39,
          28,
          3,
          17,
          28,
          22,
          1,
          24,
          49,
          34,
          45,
          36,
          19,
          28,
          24,
          20,
          44,
          25,
          21,
          43,
          24,
          18,
          70,
          22,
          4,
          28,
          18,
          13,
          19,
          15,
          28,
          47,
          55,
          28,
          32.5,
          20,
          28,
          26,
          22,
          29,
          28,
          32,
          17,
          29,
          51,
          45.5,
          25,
          6,
          28,
          28,
          18,
          18,
          28,
          21,
          56,
          28,
          59,
          28,
          36,
          36,
          44,
          38,
          31,
          25,
          31,
          42,
          22,
          24,
          34,
          22,
          60,
          36,
          28,
          28,
          28,
          21,
          34,
          28,
          28,
          45,
          58,
          4,
          20,
          28,
          27,
          66,
          47,
          30,
          32,
          24,
          55,
          38,
          28,
          22,
          56,
          28,
          24,
          32,
          26,
          52,
          28,
          48,
          27,
          40.5,
          70.5,
          37,
          33,
          4,
          28,
          31,
          28,
          45,
          40,
          28,
          22,
          21,
          0.42,
          28,
          19,
          30,
          21,
          30,
          58,
          61,
          44,
          17,
          18,
          8,
          28,
          61,
          24,
          2,
          22,
          28,
          36,
          24,
          22,
          28,
          18,
          35,
          28,
          65,
          28,
          16,
          33,
          28,
          30,
          28,
          28,
          19,
          11,
          16,
          43,
          36.5,
          20,
          40,
          28,
          28,
          16,
          17,
          24,
          28,
          15,
          28,
          28,
          39,
          21,
          35,
          9,
          18,
          22,
          28,
          19,
          7,
          36,
          28,
          30,
          53,
          25,
          32,
          29,
          26,
          36,
          39,
          28,
          36,
          22,
          46,
          49,
          28,
          29,
          28,
          2,
          15,
          28,
          64,
          1,
          18,
          12,
          18,
          24,
          28,
          28,
          47,
          2,
          28,
          39,
          28,
          35,
          36,
          28,
          28,
          28,
          28,
          23,
          28,
          4,
          28,
          4,
          23,
          20,
          35,
          39,
          24,
          20,
          19,
          39,
          28,
          27,
          22,
          48,
          49,
          19,
          28,
          27,
          37,
          36,
          21,
          32,
          28,
          28,
          26,
          28,
          17,
          30,
          5,
          44,
          42,
          24,
          57,
          60,
          24,
          28,
          22,
          28,
          24,
          16,
          21,
          37,
          28,
          25,
          47,
          28,
          54,
          18,
          28,
          23,
          8,
          28,
          35,
          38,
          50,
          4,
          45,
          21,
          31,
          28,
          9,
          28,
          23,
          17,
          44,
          39,
          17,
          20,
          39,
          19,
          31,
          30,
          18,
          28,
          28,
          28,
          28,
          29,
          38,
          29,
          29,
          29,
          38,
          36,
          28,
          28,
          28,
          21,
          45,
          36,
          23,
          28,
          28,
          28,
          29,
          32,
          21,
          21,
          30,
          62,
          33,
          28,
          28,
          28,
          34,
          28,
          33,
          42,
          34,
          32,
          44,
          21,
          28,
          19,
          28,
          55.5,
          19,
          47,
          7,
          43,
          24,
          28,
          38,
          35,
          41,
          28,
          35,
          19,
          28,
          34,
          48,
          33,
          28,
          16,
          28,
          37,
          29,
          16,
          22,
          28,
          32,
          8,
          21,
          32,
          28,
          15,
          19,
          25,
          41,
          31,
          35,
          28,
          18,
          24,
          30,
          4,
          18,
          36,
          29,
          26,
          23,
          32,
          26,
          44,
          23,
          36,
          20,
          22,
          36,
          28,
          26,
          42,
          28,
          24,
          28,
          1,
          28,
          20,
          20,
          28,
          3,
          45,
          25,
          9,
          39,
          28,
          46,
          28,
          18,
          16,
          47,
          37,
          14,
          28,
          31,
          28,
          23,
          33,
          39,
          28,
          40,
          42,
          31,
          33,
          25,
          31,
          28,
          19,
          38,
          45,
          48,
          27,
          30,
          28,
          4,
          28,
          28,
          28,
          32,
          48,
          28,
          28,
          39,
          18,
          28,
          10,
          32,
          27,
          28,
          57,
          5,
          33,
          18,
          27,
          9,
          54,
          51,
          51,
          40,
          28,
          33,
          22,
          23,
          56,
          22,
          27,
          22,
          35,
          18,
          10,
          17,
          28,
          4,
          23.5,
          26,
          62,
          28,
          16,
          28,
          40,
          48,
          2,
          71,
          3,
          28,
          26,
          26,
          22,
          64,
          28,
          28,
          56,
          14,
          28,
          36,
          52,
          51,
          0.67,
          50,
          35,
          28,
          9,
          24,
          23,
          40,
          24,
          19,
          47,
          28,
          21,
          28,
          70,
          21,
          54,
          38,
          2,
          13,
          0.92,
          50,
          30,
          52,
          38,
          28,
          62,
          45,
          28,
          30,
          29,
          29,
          36,
          6,
          28,
          18,
          26,
          54,
          35,
          28,
          51,
          34.5,
          25,
          25,
          27,
          27,
          28,
          24,
          28,
          30,
          34,
          28,
          22,
          28,
          22,
          26,
          28,
          80,
          30,
          28,
          28,
          42,
          34,
          23,
          28,
          16,
          36,
          28,
          19,
          14,
          2,
          26,
          28,
          27,
          31,
          17,
          16,
          22,
          28,
          30,
          28,
          45,
          28,
          14.5,
          38,
          50,
          26,
          28,
          41,
          20,
          71,
          35,
          28,
          32,
          32.5,
          21,
          36,
          28,
          21,
          34,
          30,
          32,
          30,
          29
         ],
         "yaxis": "y",
         "ybingroup": "y",
         "z": [
          32,
          26,
          26,
          7,
          11,
          77,
          8,
          13,
          10,
          7,
          8,
          7,
          65,
          9,
          27,
          51,
          0,
          19,
          7,
          77,
          7,
          91,
          56,
          7,
          13,
          29,
          82,
          15,
          8,
          69,
          7,
          39,
          69,
          0,
          13,
          13,
          13,
          8,
          14,
          9,
          7,
          16,
          13,
          73,
          26,
          7,
          8,
          10,
          9,
          13,
          8,
          6,
          19,
          7,
          8,
          15,
          15,
          30,
          7,
          30,
          9,
          24,
          7,
          7,
          10,
          22,
          13,
          10,
          10,
          61,
          28,
          7,
          12,
          7,
          7,
          13,
          108,
          15,
          8,
          83,
          24,
          7,
          7,
          512,
          15,
          90,
          153,
          7,
          7,
          50,
          7,
          7,
          15,
          21,
          7,
          39,
          12,
          8,
          26,
          7,
          7,
          8,
          25,
          7,
          14,
          153,
          27,
          7,
          30,
          13,
          10,
          38,
          13,
          8,
          247,
          16,
          227,
          7,
          7,
          30,
          7,
          7,
          15,
          20,
          30,
          26,
          39,
          30,
          14,
          7,
          26,
          7,
          23,
          7,
          18,
          35,
          7,
          27,
          7,
          7,
          73,
          8,
          7,
          26,
          8,
          7,
          56,
          29,
          32,
          8,
          8,
          18,
          21,
          10,
          6,
          13,
          10,
          7,
          16,
          78,
          18,
          7,
          6,
          262,
          512,
          69,
          26,
          7,
          20,
          7,
          52,
          24,
          27,
          8,
          7,
          31,
          9,
          211,
          26,
          4,
          7,
          7,
          7,
          46,
          14,
          10,
          16,
          14,
          7,
          69,
          31,
          9,
          26,
          31,
          17,
          7,
          56,
          0,
          29,
          0,
          69,
          8,
          51,
          7,
          56,
          7,
          10,
          27,
          13,
          26,
          26,
          151,
          79,
          89,
          30,
          211,
          14,
          151,
          7,
          7,
          26,
          46,
          8,
          11,
          7,
          73,
          7,
          7,
          52,
          12,
          8,
          7,
          7,
          26,
          120,
          7,
          7,
          8,
          0,
          13,
          26,
          39,
          79,
          22,
          10,
          9,
          21,
          110,
          8,
          8,
          13,
          79,
          7,
          53,
          9,
          7,
          110,
          263,
          7,
          7,
          52,
          7,
          7,
          10,
          14,
          22,
          7,
          7,
          8,
          10,
          31,
          7,
          13,
          16,
          12,
          75,
          7,
          8,
          7,
          7,
          49,
          18,
          16,
          7,
          22,
          41,
          52,
          15,
          51,
          79,
          15,
          13,
          36,
          8,
          7,
          80,
          10,
          81,
          83,
          8,
          7,
          7,
          20,
          7,
          7,
          110,
          8,
          7,
          57,
          8,
          83,
          10,
          10,
          9,
          11,
          16,
          0,
          56,
          0,
          7,
          31,
          9,
          27,
          26,
          71,
          7,
          7,
          7,
          133,
          7,
          164,
          40,
          9,
          47,
          14,
          23,
          26,
          7,
          7,
          34,
          8,
          10,
          86,
          0,
          0,
          29,
          8,
          14,
          5,
          13,
          10,
          76,
          26,
          8,
          8,
          6,
          7,
          8,
          10,
          7,
          26,
          6,
          14,
          7,
          7,
          52,
          134,
          9,
          26,
          7,
          7,
          21,
          52,
          26,
          69,
          26,
          25,
          53,
          7,
          8,
          9,
          8,
          7,
          29,
          77,
          7,
          9,
          211,
          26,
          26,
          7,
          13,
          10,
          7,
          7,
          8,
          31,
          16,
          9,
          71,
          10,
          18,
          113,
          7,
          8,
          27,
          7,
          26,
          7,
          8,
          135,
          15,
          26,
          26,
          7,
          263,
          7,
          20,
          26,
          15,
          9,
          7,
          18,
          26,
          7,
          27,
          26,
          7,
          61,
          7,
          23,
          8,
          9,
          9,
          39,
          52,
          7,
          227,
          13,
          7,
          24,
          13,
          153,
          8,
          113,
          9,
          7,
          8,
          0,
          14,
          8,
          26,
          34,
          76,
          86,
          7,
          31,
          15,
          13,
          19,
          73,
          26,
          7,
          7,
          0,
          7,
          15,
          27,
          15,
          11,
          8,
          10,
          27,
          27,
          20,
          211,
          46,
          78,
          7,
          26,
          134,
          15,
          90,
          7,
          263,
          35,
          29,
          7,
          7,
          90,
          73,
          24,
          7,
          23,
          11,
          7,
          7,
          80,
          15,
          34,
          24,
          27,
          76,
          29,
          49,
          26,
          89,
          7,
          8,
          49,
          263,
          15,
          7,
          26,
          7,
          8,
          10,
          79,
          8,
          14,
          26,
          53,
          7,
          15,
          65,
          13,
          7,
          79,
          8,
          34,
          13,
          10,
          8,
          71,
          7,
          59,
          7,
          26,
          7,
          151,
          55,
          106,
          13,
          13,
          15,
          26,
          6,
          7,
          7,
          15,
          30,
          120,
          33,
          7,
          6,
          30,
          26,
          7,
          8,
          77,
          6,
          0,
          91,
          7,
          10,
          7,
          16,
          56,
          13,
          13,
          8,
          10,
          8,
          8,
          78,
          6,
          30,
          13,
          7,
          69,
          227,
          26,
          15,
          25,
          86,
          17,
          33,
          30,
          11,
          26,
          7,
          19,
          12,
          37,
          7,
          7,
          41,
          7,
          16,
          69,
          35,
          25,
          14,
          90,
          106,
          14,
          7,
          39,
          9,
          34,
          512,
          7,
          7,
          13,
          7,
          24,
          13,
          262,
          23,
          12,
          7,
          7,
          7
         ]
        },
        {
         "alignmentgroup": "True",
         "bingroup": "y",
         "hovertemplate": "Age=%{y}<br>count=%{x}<extra></extra>",
         "legendgroup": "",
         "marker": {
          "color": "#0d0887"
         },
         "name": "",
         "offsetgroup": "",
         "opacity": 0.5,
         "showlegend": false,
         "type": "histogram",
         "xaxis": "x2",
         "y": [
          34,
          31,
          36,
          29,
          18,
          63,
          28,
          28,
          50,
          28,
          20,
          22,
          48,
          40,
          42,
          28,
          28,
          0.75,
          28,
          54,
          28,
          19,
          28,
          28,
          25,
          39,
          28,
          3,
          17,
          28,
          22,
          1,
          24,
          49,
          34,
          45,
          36,
          19,
          28,
          24,
          20,
          44,
          25,
          21,
          43,
          24,
          18,
          70,
          22,
          4,
          28,
          18,
          13,
          19,
          15,
          28,
          47,
          55,
          28,
          32.5,
          20,
          28,
          26,
          22,
          29,
          28,
          32,
          17,
          29,
          51,
          45.5,
          25,
          6,
          28,
          28,
          18,
          18,
          28,
          21,
          56,
          28,
          59,
          28,
          36,
          36,
          44,
          38,
          31,
          25,
          31,
          42,
          22,
          24,
          34,
          22,
          60,
          36,
          28,
          28,
          28,
          21,
          34,
          28,
          28,
          45,
          58,
          4,
          20,
          28,
          27,
          66,
          47,
          30,
          32,
          24,
          55,
          38,
          28,
          22,
          56,
          28,
          24,
          32,
          26,
          52,
          28,
          48,
          27,
          40.5,
          70.5,
          37,
          33,
          4,
          28,
          31,
          28,
          45,
          40,
          28,
          22,
          21,
          0.42,
          28,
          19,
          30,
          21,
          30,
          58,
          61,
          44,
          17,
          18,
          8,
          28,
          61,
          24,
          2,
          22,
          28,
          36,
          24,
          22,
          28,
          18,
          35,
          28,
          65,
          28,
          16,
          33,
          28,
          30,
          28,
          28,
          19,
          11,
          16,
          43,
          36.5,
          20,
          40,
          28,
          28,
          16,
          17,
          24,
          28,
          15,
          28,
          28,
          39,
          21,
          35,
          9,
          18,
          22,
          28,
          19,
          7,
          36,
          28,
          30,
          53,
          25,
          32,
          29,
          26,
          36,
          39,
          28,
          36,
          22,
          46,
          49,
          28,
          29,
          28,
          2,
          15,
          28,
          64,
          1,
          18,
          12,
          18,
          24,
          28,
          28,
          47,
          2,
          28,
          39,
          28,
          35,
          36,
          28,
          28,
          28,
          28,
          23,
          28,
          4,
          28,
          4,
          23,
          20,
          35,
          39,
          24,
          20,
          19,
          39,
          28,
          27,
          22,
          48,
          49,
          19,
          28,
          27,
          37,
          36,
          21,
          32,
          28,
          28,
          26,
          28,
          17,
          30,
          5,
          44,
          42,
          24,
          57,
          60,
          24,
          28,
          22,
          28,
          24,
          16,
          21,
          37,
          28,
          25,
          47,
          28,
          54,
          18,
          28,
          23,
          8,
          28,
          35,
          38,
          50,
          4,
          45,
          21,
          31,
          28,
          9,
          28,
          23,
          17,
          44,
          39,
          17,
          20,
          39,
          19,
          31,
          30,
          18,
          28,
          28,
          28,
          28,
          29,
          38,
          29,
          29,
          29,
          38,
          36,
          28,
          28,
          28,
          21,
          45,
          36,
          23,
          28,
          28,
          28,
          29,
          32,
          21,
          21,
          30,
          62,
          33,
          28,
          28,
          28,
          34,
          28,
          33,
          42,
          34,
          32,
          44,
          21,
          28,
          19,
          28,
          55.5,
          19,
          47,
          7,
          43,
          24,
          28,
          38,
          35,
          41,
          28,
          35,
          19,
          28,
          34,
          48,
          33,
          28,
          16,
          28,
          37,
          29,
          16,
          22,
          28,
          32,
          8,
          21,
          32,
          28,
          15,
          19,
          25,
          41,
          31,
          35,
          28,
          18,
          24,
          30,
          4,
          18,
          36,
          29,
          26,
          23,
          32,
          26,
          44,
          23,
          36,
          20,
          22,
          36,
          28,
          26,
          42,
          28,
          24,
          28,
          1,
          28,
          20,
          20,
          28,
          3,
          45,
          25,
          9,
          39,
          28,
          46,
          28,
          18,
          16,
          47,
          37,
          14,
          28,
          31,
          28,
          23,
          33,
          39,
          28,
          40,
          42,
          31,
          33,
          25,
          31,
          28,
          19,
          38,
          45,
          48,
          27,
          30,
          28,
          4,
          28,
          28,
          28,
          32,
          48,
          28,
          28,
          39,
          18,
          28,
          10,
          32,
          27,
          28,
          57,
          5,
          33,
          18,
          27,
          9,
          54,
          51,
          51,
          40,
          28,
          33,
          22,
          23,
          56,
          22,
          27,
          22,
          35,
          18,
          10,
          17,
          28,
          4,
          23.5,
          26,
          62,
          28,
          16,
          28,
          40,
          48,
          2,
          71,
          3,
          28,
          26,
          26,
          22,
          64,
          28,
          28,
          56,
          14,
          28,
          36,
          52,
          51,
          0.67,
          50,
          35,
          28,
          9,
          24,
          23,
          40,
          24,
          19,
          47,
          28,
          21,
          28,
          70,
          21,
          54,
          38,
          2,
          13,
          0.92,
          50,
          30,
          52,
          38,
          28,
          62,
          45,
          28,
          30,
          29,
          29,
          36,
          6,
          28,
          18,
          26,
          54,
          35,
          28,
          51,
          34.5,
          25,
          25,
          27,
          27,
          28,
          24,
          28,
          30,
          34,
          28,
          22,
          28,
          22,
          26,
          28,
          80,
          30,
          28,
          28,
          42,
          34,
          23,
          28,
          16,
          36,
          28,
          19,
          14,
          2,
          26,
          28,
          27,
          31,
          17,
          16,
          22,
          28,
          30,
          28,
          45,
          28,
          14.5,
          38,
          50,
          26,
          28,
          41,
          20,
          71,
          35,
          28,
          32,
          32.5,
          21,
          36,
          28,
          21,
          34,
          30,
          32,
          30,
          29
         ],
         "yaxis": "y2"
        }
       ],
       "layout": {
        "barmode": "overlay",
        "coloraxis": {
         "colorbar": {
          "title": {
           "text": "avg of Fare"
          }
         },
         "colorscale": [
          [
           0,
           "#0d0887"
          ],
          [
           0.1111111111111111,
           "#46039f"
          ],
          [
           0.2222222222222222,
           "#7201a8"
          ],
          [
           0.3333333333333333,
           "#9c179e"
          ],
          [
           0.4444444444444444,
           "#bd3786"
          ],
          [
           0.5555555555555556,
           "#d8576b"
          ],
          [
           0.6666666666666666,
           "#ed7953"
          ],
          [
           0.7777777777777778,
           "#fb9f3a"
          ],
          [
           0.8888888888888888,
           "#fdca26"
          ],
          [
           1,
           "#f0f921"
          ]
         ]
        },
        "legend": {
         "tracegroupgap": 0
        },
        "margin": {
         "t": 60
        },
        "template": {
         "data": {
          "bar": [
           {
            "error_x": {
             "color": "#2a3f5f"
            },
            "error_y": {
             "color": "#2a3f5f"
            },
            "marker": {
             "line": {
              "color": "#E5ECF6",
              "width": 0.5
             }
            },
            "type": "bar"
           }
          ],
          "barpolar": [
           {
            "marker": {
             "line": {
              "color": "#E5ECF6",
              "width": 0.5
             }
            },
            "type": "barpolar"
           }
          ],
          "carpet": [
           {
            "aaxis": {
             "endlinecolor": "#2a3f5f",
             "gridcolor": "white",
             "linecolor": "white",
             "minorgridcolor": "white",
             "startlinecolor": "#2a3f5f"
            },
            "baxis": {
             "endlinecolor": "#2a3f5f",
             "gridcolor": "white",
             "linecolor": "white",
             "minorgridcolor": "white",
             "startlinecolor": "#2a3f5f"
            },
            "type": "carpet"
           }
          ],
          "choropleth": [
           {
            "colorbar": {
             "outlinewidth": 0,
             "ticks": ""
            },
            "type": "choropleth"
           }
          ],
          "contour": [
           {
            "colorbar": {
             "outlinewidth": 0,
             "ticks": ""
            },
            "colorscale": [
             [
              0,
              "#0d0887"
             ],
             [
              0.1111111111111111,
              "#46039f"
             ],
             [
              0.2222222222222222,
              "#7201a8"
             ],
             [
              0.3333333333333333,
              "#9c179e"
             ],
             [
              0.4444444444444444,
              "#bd3786"
             ],
             [
              0.5555555555555556,
              "#d8576b"
             ],
             [
              0.6666666666666666,
              "#ed7953"
             ],
             [
              0.7777777777777778,
              "#fb9f3a"
             ],
             [
              0.8888888888888888,
              "#fdca26"
             ],
             [
              1,
              "#f0f921"
             ]
            ],
            "type": "contour"
           }
          ],
          "contourcarpet": [
           {
            "colorbar": {
             "outlinewidth": 0,
             "ticks": ""
            },
            "type": "contourcarpet"
           }
          ],
          "heatmap": [
           {
            "colorbar": {
             "outlinewidth": 0,
             "ticks": ""
            },
            "colorscale": [
             [
              0,
              "#0d0887"
             ],
             [
              0.1111111111111111,
              "#46039f"
             ],
             [
              0.2222222222222222,
              "#7201a8"
             ],
             [
              0.3333333333333333,
              "#9c179e"
             ],
             [
              0.4444444444444444,
              "#bd3786"
             ],
             [
              0.5555555555555556,
              "#d8576b"
             ],
             [
              0.6666666666666666,
              "#ed7953"
             ],
             [
              0.7777777777777778,
              "#fb9f3a"
             ],
             [
              0.8888888888888888,
              "#fdca26"
             ],
             [
              1,
              "#f0f921"
             ]
            ],
            "type": "heatmap"
           }
          ],
          "heatmapgl": [
           {
            "colorbar": {
             "outlinewidth": 0,
             "ticks": ""
            },
            "colorscale": [
             [
              0,
              "#0d0887"
             ],
             [
              0.1111111111111111,
              "#46039f"
             ],
             [
              0.2222222222222222,
              "#7201a8"
             ],
             [
              0.3333333333333333,
              "#9c179e"
             ],
             [
              0.4444444444444444,
              "#bd3786"
             ],
             [
              0.5555555555555556,
              "#d8576b"
             ],
             [
              0.6666666666666666,
              "#ed7953"
             ],
             [
              0.7777777777777778,
              "#fb9f3a"
             ],
             [
              0.8888888888888888,
              "#fdca26"
             ],
             [
              1,
              "#f0f921"
             ]
            ],
            "type": "heatmapgl"
           }
          ],
          "histogram": [
           {
            "marker": {
             "colorbar": {
              "outlinewidth": 0,
              "ticks": ""
             }
            },
            "type": "histogram"
           }
          ],
          "histogram2d": [
           {
            "colorbar": {
             "outlinewidth": 0,
             "ticks": ""
            },
            "colorscale": [
             [
              0,
              "#0d0887"
             ],
             [
              0.1111111111111111,
              "#46039f"
             ],
             [
              0.2222222222222222,
              "#7201a8"
             ],
             [
              0.3333333333333333,
              "#9c179e"
             ],
             [
              0.4444444444444444,
              "#bd3786"
             ],
             [
              0.5555555555555556,
              "#d8576b"
             ],
             [
              0.6666666666666666,
              "#ed7953"
             ],
             [
              0.7777777777777778,
              "#fb9f3a"
             ],
             [
              0.8888888888888888,
              "#fdca26"
             ],
             [
              1,
              "#f0f921"
             ]
            ],
            "type": "histogram2d"
           }
          ],
          "histogram2dcontour": [
           {
            "colorbar": {
             "outlinewidth": 0,
             "ticks": ""
            },
            "colorscale": [
             [
              0,
              "#0d0887"
             ],
             [
              0.1111111111111111,
              "#46039f"
             ],
             [
              0.2222222222222222,
              "#7201a8"
             ],
             [
              0.3333333333333333,
              "#9c179e"
             ],
             [
              0.4444444444444444,
              "#bd3786"
             ],
             [
              0.5555555555555556,
              "#d8576b"
             ],
             [
              0.6666666666666666,
              "#ed7953"
             ],
             [
              0.7777777777777778,
              "#fb9f3a"
             ],
             [
              0.8888888888888888,
              "#fdca26"
             ],
             [
              1,
              "#f0f921"
             ]
            ],
            "type": "histogram2dcontour"
           }
          ],
          "mesh3d": [
           {
            "colorbar": {
             "outlinewidth": 0,
             "ticks": ""
            },
            "type": "mesh3d"
           }
          ],
          "parcoords": [
           {
            "line": {
             "colorbar": {
              "outlinewidth": 0,
              "ticks": ""
             }
            },
            "type": "parcoords"
           }
          ],
          "pie": [
           {
            "automargin": true,
            "type": "pie"
           }
          ],
          "scatter": [
           {
            "marker": {
             "colorbar": {
              "outlinewidth": 0,
              "ticks": ""
             }
            },
            "type": "scatter"
           }
          ],
          "scatter3d": [
           {
            "line": {
             "colorbar": {
              "outlinewidth": 0,
              "ticks": ""
             }
            },
            "marker": {
             "colorbar": {
              "outlinewidth": 0,
              "ticks": ""
             }
            },
            "type": "scatter3d"
           }
          ],
          "scattercarpet": [
           {
            "marker": {
             "colorbar": {
              "outlinewidth": 0,
              "ticks": ""
             }
            },
            "type": "scattercarpet"
           }
          ],
          "scattergeo": [
           {
            "marker": {
             "colorbar": {
              "outlinewidth": 0,
              "ticks": ""
             }
            },
            "type": "scattergeo"
           }
          ],
          "scattergl": [
           {
            "marker": {
             "colorbar": {
              "outlinewidth": 0,
              "ticks": ""
             }
            },
            "type": "scattergl"
           }
          ],
          "scattermapbox": [
           {
            "marker": {
             "colorbar": {
              "outlinewidth": 0,
              "ticks": ""
             }
            },
            "type": "scattermapbox"
           }
          ],
          "scatterpolar": [
           {
            "marker": {
             "colorbar": {
              "outlinewidth": 0,
              "ticks": ""
             }
            },
            "type": "scatterpolar"
           }
          ],
          "scatterpolargl": [
           {
            "marker": {
             "colorbar": {
              "outlinewidth": 0,
              "ticks": ""
             }
            },
            "type": "scatterpolargl"
           }
          ],
          "scatterternary": [
           {
            "marker": {
             "colorbar": {
              "outlinewidth": 0,
              "ticks": ""
             }
            },
            "type": "scatterternary"
           }
          ],
          "surface": [
           {
            "colorbar": {
             "outlinewidth": 0,
             "ticks": ""
            },
            "colorscale": [
             [
              0,
              "#0d0887"
             ],
             [
              0.1111111111111111,
              "#46039f"
             ],
             [
              0.2222222222222222,
              "#7201a8"
             ],
             [
              0.3333333333333333,
              "#9c179e"
             ],
             [
              0.4444444444444444,
              "#bd3786"
             ],
             [
              0.5555555555555556,
              "#d8576b"
             ],
             [
              0.6666666666666666,
              "#ed7953"
             ],
             [
              0.7777777777777778,
              "#fb9f3a"
             ],
             [
              0.8888888888888888,
              "#fdca26"
             ],
             [
              1,
              "#f0f921"
             ]
            ],
            "type": "surface"
           }
          ],
          "table": [
           {
            "cells": {
             "fill": {
              "color": "#EBF0F8"
             },
             "line": {
              "color": "white"
             }
            },
            "header": {
             "fill": {
              "color": "#C8D4E3"
             },
             "line": {
              "color": "white"
             }
            },
            "type": "table"
           }
          ]
         },
         "layout": {
          "annotationdefaults": {
           "arrowcolor": "#2a3f5f",
           "arrowhead": 0,
           "arrowwidth": 1
          },
          "coloraxis": {
           "colorbar": {
            "outlinewidth": 0,
            "ticks": ""
           }
          },
          "colorscale": {
           "diverging": [
            [
             0,
             "#8e0152"
            ],
            [
             0.1,
             "#c51b7d"
            ],
            [
             0.2,
             "#de77ae"
            ],
            [
             0.3,
             "#f1b6da"
            ],
            [
             0.4,
             "#fde0ef"
            ],
            [
             0.5,
             "#f7f7f7"
            ],
            [
             0.6,
             "#e6f5d0"
            ],
            [
             0.7,
             "#b8e186"
            ],
            [
             0.8,
             "#7fbc41"
            ],
            [
             0.9,
             "#4d9221"
            ],
            [
             1,
             "#276419"
            ]
           ],
           "sequential": [
            [
             0,
             "#0d0887"
            ],
            [
             0.1111111111111111,
             "#46039f"
            ],
            [
             0.2222222222222222,
             "#7201a8"
            ],
            [
             0.3333333333333333,
             "#9c179e"
            ],
            [
             0.4444444444444444,
             "#bd3786"
            ],
            [
             0.5555555555555556,
             "#d8576b"
            ],
            [
             0.6666666666666666,
             "#ed7953"
            ],
            [
             0.7777777777777778,
             "#fb9f3a"
            ],
            [
             0.8888888888888888,
             "#fdca26"
            ],
            [
             1,
             "#f0f921"
            ]
           ],
           "sequentialminus": [
            [
             0,
             "#0d0887"
            ],
            [
             0.1111111111111111,
             "#46039f"
            ],
            [
             0.2222222222222222,
             "#7201a8"
            ],
            [
             0.3333333333333333,
             "#9c179e"
            ],
            [
             0.4444444444444444,
             "#bd3786"
            ],
            [
             0.5555555555555556,
             "#d8576b"
            ],
            [
             0.6666666666666666,
             "#ed7953"
            ],
            [
             0.7777777777777778,
             "#fb9f3a"
            ],
            [
             0.8888888888888888,
             "#fdca26"
            ],
            [
             1,
             "#f0f921"
            ]
           ]
          },
          "colorway": [
           "#636efa",
           "#EF553B",
           "#00cc96",
           "#ab63fa",
           "#FFA15A",
           "#19d3f3",
           "#FF6692",
           "#B6E880",
           "#FF97FF",
           "#FECB52"
          ],
          "font": {
           "color": "#2a3f5f"
          },
          "geo": {
           "bgcolor": "white",
           "lakecolor": "white",
           "landcolor": "#E5ECF6",
           "showlakes": true,
           "showland": true,
           "subunitcolor": "white"
          },
          "hoverlabel": {
           "align": "left"
          },
          "hovermode": "closest",
          "mapbox": {
           "style": "light"
          },
          "paper_bgcolor": "white",
          "plot_bgcolor": "#E5ECF6",
          "polar": {
           "angularaxis": {
            "gridcolor": "white",
            "linecolor": "white",
            "ticks": ""
           },
           "bgcolor": "#E5ECF6",
           "radialaxis": {
            "gridcolor": "white",
            "linecolor": "white",
            "ticks": ""
           }
          },
          "scene": {
           "xaxis": {
            "backgroundcolor": "#E5ECF6",
            "gridcolor": "white",
            "gridwidth": 2,
            "linecolor": "white",
            "showbackground": true,
            "ticks": "",
            "zerolinecolor": "white"
           },
           "yaxis": {
            "backgroundcolor": "#E5ECF6",
            "gridcolor": "white",
            "gridwidth": 2,
            "linecolor": "white",
            "showbackground": true,
            "ticks": "",
            "zerolinecolor": "white"
           },
           "zaxis": {
            "backgroundcolor": "#E5ECF6",
            "gridcolor": "white",
            "gridwidth": 2,
            "linecolor": "white",
            "showbackground": true,
            "ticks": "",
            "zerolinecolor": "white"
           }
          },
          "shapedefaults": {
           "line": {
            "color": "#2a3f5f"
           }
          },
          "ternary": {
           "aaxis": {
            "gridcolor": "white",
            "linecolor": "white",
            "ticks": ""
           },
           "baxis": {
            "gridcolor": "white",
            "linecolor": "white",
            "ticks": ""
           },
           "bgcolor": "#E5ECF6",
           "caxis": {
            "gridcolor": "white",
            "linecolor": "white",
            "ticks": ""
           }
          },
          "title": {
           "x": 0.05
          },
          "xaxis": {
           "automargin": true,
           "gridcolor": "white",
           "linecolor": "white",
           "ticks": "",
           "title": {
            "standoff": 15
           },
           "zerolinecolor": "white",
           "zerolinewidth": 2
          },
          "yaxis": {
           "automargin": true,
           "gridcolor": "white",
           "linecolor": "white",
           "ticks": "",
           "title": {
            "standoff": 15
           },
           "zerolinecolor": "white",
           "zerolinewidth": 2
          }
         }
        },
        "title": {
         "text": "Average Fare across Age of Passenger and Boarding"
        },
        "xaxis": {
         "anchor": "y",
         "domain": [
          0,
          0.7363
         ],
         "title": {
          "text": "Embarked"
         }
        },
        "xaxis2": {
         "anchor": "y2",
         "domain": [
          0.7413,
          1
         ],
         "matches": "x2",
         "showgrid": true,
         "showline": false,
         "showticklabels": false,
         "ticks": ""
        },
        "yaxis": {
         "anchor": "x",
         "domain": [
          0,
          1
         ],
         "title": {
          "text": "Age"
         }
        },
        "yaxis2": {
         "anchor": "x2",
         "domain": [
          0,
          1
         ],
         "matches": "y",
         "showgrid": true,
         "showticklabels": false
        }
       }
      },
      "text/html": [
       "<div>\n",
       "        \n",
       "        \n",
       "            <div id=\"4383398e-4c8b-427c-a39d-4877a9b3e812\" class=\"plotly-graph-div\" style=\"height:525px; width:100%;\"></div>\n",
       "            <script type=\"text/javascript\">\n",
       "                require([\"plotly\"], function(Plotly) {\n",
       "                    window.PLOTLYENV=window.PLOTLYENV || {};\n",
       "                    \n",
       "                if (document.getElementById(\"4383398e-4c8b-427c-a39d-4877a9b3e812\")) {\n",
       "                    Plotly.newPlot(\n",
       "                        '4383398e-4c8b-427c-a39d-4877a9b3e812',\n",
       "                        [{\"coloraxis\": \"coloraxis\", \"histfunc\": \"avg\", \"hovertemplate\": \"Embarked=%{x}<br>Age=%{y}<br>avg of Fare=%{z}<extra></extra>\", \"name\": \"\", \"type\": \"histogram2d\", \"x\": [\"S\", \"S\", \"S\", \"C\", \"S\", \"S\", \"S\", \"S\", \"S\", \"Q\", \"S\", \"S\", \"S\", \"S\", \"S\", \"S\", \"S\", \"C\", \"S\", \"S\", \"S\", \"C\", \"S\", \"Q\", \"S\", \"Q\", \"C\", \"S\", \"S\", \"S\", \"S\", \"S\", \"C\", \"S\", \"S\", \"S\", \"S\", \"S\", \"S\", \"S\", \"C\", \"S\", \"S\", \"S\", \"S\", \"S\", \"S\", \"S\", \"S\", \"C\", \"S\", \"Q\", \"S\", \"S\", \"Q\", \"C\", \"S\", \"S\", \"S\", \"C\", \"S\", \"C\", \"S\", \"S\", \"S\", \"S\", \"S\", \"S\", \"S\", \"C\", \"S\", \"S\", \"S\", \"Q\", \"S\", \"S\", \"C\", \"Q\", \"S\", \"C\", \"Q\", \"S\", \"S\", \"C\", \"S\", \"Q\", \"S\", \"S\", \"S\", \"S\", \"S\", \"Q\", \"S\", \"S\", \"S\", \"S\", \"C\", \"S\", \"S\", \"S\", \"S\", \"S\", \"S\", \"C\", \"C\", \"S\", \"S\", \"S\", \"C\", \"C\", \"S\", \"S\", \"S\", \"S\", \"C\", \"S\", \"C\", \"C\", \"S\", \"C\", \"S\", \"S\", \"Q\", \"S\", \"S\", \"S\", \"C\", \"S\", \"S\", \"Q\", \"S\", \"S\", \"S\", \"S\", \"S\", \"S\", \"S\", \"C\", \"S\", \"S\", \"S\", \"C\", \"Q\", \"S\", \"S\", \"S\", \"C\", \"C\", \"S\", \"S\", \"S\", \"S\", \"S\", \"S\", \"S\", \"S\", \"S\", \"S\", \"S\", \"S\", \"S\", \"C\", \"Q\", \"C\", \"C\", \"S\", \"S\", \"Q\", \"S\", \"S\", \"S\", \"C\", \"C\", \"S\", \"S\", \"S\", \"S\", \"S\", \"S\", \"C\", \"S\", \"C\", \"S\", \"S\", \"C\", \"S\", \"S\", \"C\", \"Q\", \"S\", \"S\", \"S\", \"S\", \"S\", \"S\", \"S\", \"S\", \"S\", \"Q\", \"S\", \"S\", \"S\", \"S\", \"S\", \"S\", \"S\", \"S\", \"S\", \"S\", \"S\", \"S\", \"S\", \"C\", \"C\", \"S\", \"S\", \"S\", \"S\", \"C\", \"Q\", \"S\", \"S\", \"S\", \"C\", \"S\", \"S\", \"C\", \"S\", \"S\", \"S\", \"S\", \"S\", \"Q\", \"S\", \"S\", \"S\", \"Q\", \"S\", \"S\", \"S\", \"S\", \"S\", \"C\", \"S\", \"S\", \"S\", \"S\", \"C\", \"S\", \"S\", \"S\", \"S\", \"Q\", \"S\", \"S\", \"S\", \"C\", \"S\", \"S\", \"S\", \"S\", \"S\", \"S\", \"S\", \"C\", \"C\", \"S\", \"Q\", \"S\", \"S\", \"S\", \"S\", \"S\", \"S\", \"Q\", \"C\", \"S\", \"S\", \"S\", \"S\", \"C\", \"S\", \"S\", \"S\", \"C\", \"C\", \"S\", \"Q\", \"S\", \"S\", \"S\", \"S\", \"S\", \"S\", \"S\", null, \"S\", \"S\", \"S\", \"S\", \"S\", \"Q\", \"S\", \"S\", \"S\", \"C\", \"S\", \"S\", \"S\", \"S\", \"C\", \"S\", \"S\", \"S\", \"S\", \"S\", \"S\", \"S\", \"S\", \"S\", \"S\", \"S\", \"C\", \"S\", \"C\", \"S\", \"C\", \"S\", \"S\", \"Q\", \"S\", \"C\", \"S\", \"S\", \"C\", \"Q\", \"S\", \"Q\", \"S\", \"S\", \"S\", \"S\", \"S\", \"S\", \"S\", \"C\", \"S\", \"S\", \"S\", \"S\", \"S\", \"C\", \"S\", \"S\", \"S\", \"Q\", \"Q\", \"S\", \"S\", \"S\", \"S\", \"S\", \"S\", \"Q\", \"S\", \"S\", \"C\", \"S\", \"C\", \"Q\", \"S\", \"S\", \"S\", \"S\", \"S\", \"S\", \"S\", \"S\", \"S\", \"S\", \"S\", \"S\", \"S\", \"Q\", \"S\", \"S\", \"S\", \"S\", \"S\", \"S\", \"S\", \"S\", \"S\", \"Q\", \"S\", \"S\", \"C\", \"S\", \"S\", \"S\", \"S\", \"C\", \"C\", \"S\", \"S\", \"C\", \"S\", \"S\", \"S\", \"S\", \"C\", \"Q\", \"S\", \"S\", \"Q\", \"S\", \"S\", \"S\", \"S\", \"C\", \"S\", \"S\", \"S\", \"S\", \"S\", \"S\", \"S\", \"Q\", \"S\", \"S\", \"S\", \"S\", \"S\", \"S\", \"S\", \"S\", \"S\", \"C\", \"S\", \"C\", \"S\", \"S\", \"S\", \"S\", \"C\", \"S\", \"S\", \"S\", \"S\", \"S\", \"S\", \"S\", \"S\", \"C\", \"S\", \"Q\", \"S\", \"S\", \"S\", \"S\", \"S\", \"S\", \"S\", \"Q\", \"S\", \"S\", \"C\", \"S\", \"S\", \"S\", \"S\", \"S\", \"S\", \"S\", \"S\", \"C\", \"S\", \"C\", \"S\", \"S\", \"C\", \"Q\", \"Q\", \"S\", \"S\", \"C\", \"S\", \"S\", \"C\", \"S\", \"S\", \"S\", \"S\", \"Q\", \"S\", \"C\", \"S\", null, \"Q\", \"S\", \"Q\", \"S\", \"C\", \"Q\", \"C\", \"S\", \"C\", \"S\", \"S\", \"C\", \"S\", \"C\", \"Q\", \"S\", \"S\", \"S\", \"S\", \"S\", \"S\", \"S\", \"S\", \"S\", \"C\", \"S\", \"S\", \"C\", \"C\", \"C\", \"S\", \"S\", \"S\", \"S\", \"S\", \"S\", \"S\", \"C\", \"S\", \"S\", \"C\", \"S\", \"S\", \"C\", \"S\", \"S\", \"Q\", \"S\", \"S\", \"Q\", \"C\", \"C\", \"S\", \"S\", \"S\", \"S\", \"S\", \"C\", \"S\", \"C\", \"S\", \"S\", \"C\", \"S\", \"C\", \"S\", \"S\", \"Q\", \"S\", \"S\", \"S\", \"S\", \"S\", \"S\", \"Q\", \"S\", \"S\", \"Q\", \"S\", \"S\", \"Q\", \"S\", \"C\", \"S\", \"C\", \"S\", \"S\", \"S\", \"S\", \"S\", \"C\", \"S\", \"S\", \"S\", \"S\", \"C\", \"S\", \"Q\", \"C\", \"C\", \"S\", \"S\", \"S\", \"S\", \"C\", \"S\", \"C\", \"C\", \"Q\", \"S\", \"S\", \"C\", \"C\", \"Q\", \"S\", \"S\", \"S\", \"S\", \"S\", \"C\", \"S\", \"Q\", \"S\", \"S\", \"Q\"], \"xaxis\": \"x\", \"xbingroup\": \"x\", \"y\": [34.0, 31.0, 36.0, 29.0, 18.0, 63.0, 28.0, 28.0, 50.0, 28.0, 20.0, 22.0, 48.0, 40.0, 42.0, 28.0, 28.0, 0.75, 28.0, 54.0, 28.0, 19.0, 28.0, 28.0, 25.0, 39.0, 28.0, 3.0, 17.0, 28.0, 22.0, 1.0, 24.0, 49.0, 34.0, 45.0, 36.0, 19.0, 28.0, 24.0, 20.0, 44.0, 25.0, 21.0, 43.0, 24.0, 18.0, 70.0, 22.0, 4.0, 28.0, 18.0, 13.0, 19.0, 15.0, 28.0, 47.0, 55.0, 28.0, 32.5, 20.0, 28.0, 26.0, 22.0, 29.0, 28.0, 32.0, 17.0, 29.0, 51.0, 45.5, 25.0, 6.0, 28.0, 28.0, 18.0, 18.0, 28.0, 21.0, 56.0, 28.0, 59.0, 28.0, 36.0, 36.0, 44.0, 38.0, 31.0, 25.0, 31.0, 42.0, 22.0, 24.0, 34.0, 22.0, 60.0, 36.0, 28.0, 28.0, 28.0, 21.0, 34.0, 28.0, 28.0, 45.0, 58.0, 4.0, 20.0, 28.0, 27.0, 66.0, 47.0, 30.0, 32.0, 24.0, 55.0, 38.0, 28.0, 22.0, 56.0, 28.0, 24.0, 32.0, 26.0, 52.0, 28.0, 48.0, 27.0, 40.5, 70.5, 37.0, 33.0, 4.0, 28.0, 31.0, 28.0, 45.0, 40.0, 28.0, 22.0, 21.0, 0.42, 28.0, 19.0, 30.0, 21.0, 30.0, 58.0, 61.0, 44.0, 17.0, 18.0, 8.0, 28.0, 61.0, 24.0, 2.0, 22.0, 28.0, 36.0, 24.0, 22.0, 28.0, 18.0, 35.0, 28.0, 65.0, 28.0, 16.0, 33.0, 28.0, 30.0, 28.0, 28.0, 19.0, 11.0, 16.0, 43.0, 36.5, 20.0, 40.0, 28.0, 28.0, 16.0, 17.0, 24.0, 28.0, 15.0, 28.0, 28.0, 39.0, 21.0, 35.0, 9.0, 18.0, 22.0, 28.0, 19.0, 7.0, 36.0, 28.0, 30.0, 53.0, 25.0, 32.0, 29.0, 26.0, 36.0, 39.0, 28.0, 36.0, 22.0, 46.0, 49.0, 28.0, 29.0, 28.0, 2.0, 15.0, 28.0, 64.0, 1.0, 18.0, 12.0, 18.0, 24.0, 28.0, 28.0, 47.0, 2.0, 28.0, 39.0, 28.0, 35.0, 36.0, 28.0, 28.0, 28.0, 28.0, 23.0, 28.0, 4.0, 28.0, 4.0, 23.0, 20.0, 35.0, 39.0, 24.0, 20.0, 19.0, 39.0, 28.0, 27.0, 22.0, 48.0, 49.0, 19.0, 28.0, 27.0, 37.0, 36.0, 21.0, 32.0, 28.0, 28.0, 26.0, 28.0, 17.0, 30.0, 5.0, 44.0, 42.0, 24.0, 57.0, 60.0, 24.0, 28.0, 22.0, 28.0, 24.0, 16.0, 21.0, 37.0, 28.0, 25.0, 47.0, 28.0, 54.0, 18.0, 28.0, 23.0, 8.0, 28.0, 35.0, 38.0, 50.0, 4.0, 45.0, 21.0, 31.0, 28.0, 9.0, 28.0, 23.0, 17.0, 44.0, 39.0, 17.0, 20.0, 39.0, 19.0, 31.0, 30.0, 18.0, 28.0, 28.0, 28.0, 28.0, 29.0, 38.0, 29.0, 29.0, 29.0, 38.0, 36.0, 28.0, 28.0, 28.0, 21.0, 45.0, 36.0, 23.0, 28.0, 28.0, 28.0, 29.0, 32.0, 21.0, 21.0, 30.0, 62.0, 33.0, 28.0, 28.0, 28.0, 34.0, 28.0, 33.0, 42.0, 34.0, 32.0, 44.0, 21.0, 28.0, 19.0, 28.0, 55.5, 19.0, 47.0, 7.0, 43.0, 24.0, 28.0, 38.0, 35.0, 41.0, 28.0, 35.0, 19.0, 28.0, 34.0, 48.0, 33.0, 28.0, 16.0, 28.0, 37.0, 29.0, 16.0, 22.0, 28.0, 32.0, 8.0, 21.0, 32.0, 28.0, 15.0, 19.0, 25.0, 41.0, 31.0, 35.0, 28.0, 18.0, 24.0, 30.0, 4.0, 18.0, 36.0, 29.0, 26.0, 23.0, 32.0, 26.0, 44.0, 23.0, 36.0, 20.0, 22.0, 36.0, 28.0, 26.0, 42.0, 28.0, 24.0, 28.0, 1.0, 28.0, 20.0, 20.0, 28.0, 3.0, 45.0, 25.0, 9.0, 39.0, 28.0, 46.0, 28.0, 18.0, 16.0, 47.0, 37.0, 14.0, 28.0, 31.0, 28.0, 23.0, 33.0, 39.0, 28.0, 40.0, 42.0, 31.0, 33.0, 25.0, 31.0, 28.0, 19.0, 38.0, 45.0, 48.0, 27.0, 30.0, 28.0, 4.0, 28.0, 28.0, 28.0, 32.0, 48.0, 28.0, 28.0, 39.0, 18.0, 28.0, 10.0, 32.0, 27.0, 28.0, 57.0, 5.0, 33.0, 18.0, 27.0, 9.0, 54.0, 51.0, 51.0, 40.0, 28.0, 33.0, 22.0, 23.0, 56.0, 22.0, 27.0, 22.0, 35.0, 18.0, 10.0, 17.0, 28.0, 4.0, 23.5, 26.0, 62.0, 28.0, 16.0, 28.0, 40.0, 48.0, 2.0, 71.0, 3.0, 28.0, 26.0, 26.0, 22.0, 64.0, 28.0, 28.0, 56.0, 14.0, 28.0, 36.0, 52.0, 51.0, 0.67, 50.0, 35.0, 28.0, 9.0, 24.0, 23.0, 40.0, 24.0, 19.0, 47.0, 28.0, 21.0, 28.0, 70.0, 21.0, 54.0, 38.0, 2.0, 13.0, 0.92, 50.0, 30.0, 52.0, 38.0, 28.0, 62.0, 45.0, 28.0, 30.0, 29.0, 29.0, 36.0, 6.0, 28.0, 18.0, 26.0, 54.0, 35.0, 28.0, 51.0, 34.5, 25.0, 25.0, 27.0, 27.0, 28.0, 24.0, 28.0, 30.0, 34.0, 28.0, 22.0, 28.0, 22.0, 26.0, 28.0, 80.0, 30.0, 28.0, 28.0, 42.0, 34.0, 23.0, 28.0, 16.0, 36.0, 28.0, 19.0, 14.0, 2.0, 26.0, 28.0, 27.0, 31.0, 17.0, 16.0, 22.0, 28.0, 30.0, 28.0, 45.0, 28.0, 14.5, 38.0, 50.0, 26.0, 28.0, 41.0, 20.0, 71.0, 35.0, 28.0, 32.0, 32.5, 21.0, 36.0, 28.0, 21.0, 34.0, 30.0, 32.0, 30.0, 29.0], \"yaxis\": \"y\", \"ybingroup\": \"y\", \"z\": [32, 26, 26, 7, 11, 77, 8, 13, 10, 7, 8, 7, 65, 9, 27, 51, 0, 19, 7, 77, 7, 91, 56, 7, 13, 29, 82, 15, 8, 69, 7, 39, 69, 0, 13, 13, 13, 8, 14, 9, 7, 16, 13, 73, 26, 7, 8, 10, 9, 13, 8, 6, 19, 7, 8, 15, 15, 30, 7, 30, 9, 24, 7, 7, 10, 22, 13, 10, 10, 61, 28, 7, 12, 7, 7, 13, 108, 15, 8, 83, 24, 7, 7, 512, 15, 90, 153, 7, 7, 50, 7, 7, 15, 21, 7, 39, 12, 8, 26, 7, 7, 8, 25, 7, 14, 153, 27, 7, 30, 13, 10, 38, 13, 8, 247, 16, 227, 7, 7, 30, 7, 7, 15, 20, 30, 26, 39, 30, 14, 7, 26, 7, 23, 7, 18, 35, 7, 27, 7, 7, 73, 8, 7, 26, 8, 7, 56, 29, 32, 8, 8, 18, 21, 10, 6, 13, 10, 7, 16, 78, 18, 7, 6, 262, 512, 69, 26, 7, 20, 7, 52, 24, 27, 8, 7, 31, 9, 211, 26, 4, 7, 7, 7, 46, 14, 10, 16, 14, 7, 69, 31, 9, 26, 31, 17, 7, 56, 0, 29, 0, 69, 8, 51, 7, 56, 7, 10, 27, 13, 26, 26, 151, 79, 89, 30, 211, 14, 151, 7, 7, 26, 46, 8, 11, 7, 73, 7, 7, 52, 12, 8, 7, 7, 26, 120, 7, 7, 8, 0, 13, 26, 39, 79, 22, 10, 9, 21, 110, 8, 8, 13, 79, 7, 53, 9, 7, 110, 263, 7, 7, 52, 7, 7, 10, 14, 22, 7, 7, 8, 10, 31, 7, 13, 16, 12, 75, 7, 8, 7, 7, 49, 18, 16, 7, 22, 41, 52, 15, 51, 79, 15, 13, 36, 8, 7, 80, 10, 81, 83, 8, 7, 7, 20, 7, 7, 110, 8, 7, 57, 8, 83, 10, 10, 9, 11, 16, 0, 56, 0, 7, 31, 9, 27, 26, 71, 7, 7, 7, 133, 7, 164, 40, 9, 47, 14, 23, 26, 7, 7, 34, 8, 10, 86, 0, 0, 29, 8, 14, 5, 13, 10, 76, 26, 8, 8, 6, 7, 8, 10, 7, 26, 6, 14, 7, 7, 52, 134, 9, 26, 7, 7, 21, 52, 26, 69, 26, 25, 53, 7, 8, 9, 8, 7, 29, 77, 7, 9, 211, 26, 26, 7, 13, 10, 7, 7, 8, 31, 16, 9, 71, 10, 18, 113, 7, 8, 27, 7, 26, 7, 8, 135, 15, 26, 26, 7, 263, 7, 20, 26, 15, 9, 7, 18, 26, 7, 27, 26, 7, 61, 7, 23, 8, 9, 9, 39, 52, 7, 227, 13, 7, 24, 13, 153, 8, 113, 9, 7, 8, 0, 14, 8, 26, 34, 76, 86, 7, 31, 15, 13, 19, 73, 26, 7, 7, 0, 7, 15, 27, 15, 11, 8, 10, 27, 27, 20, 211, 46, 78, 7, 26, 134, 15, 90, 7, 263, 35, 29, 7, 7, 90, 73, 24, 7, 23, 11, 7, 7, 80, 15, 34, 24, 27, 76, 29, 49, 26, 89, 7, 8, 49, 263, 15, 7, 26, 7, 8, 10, 79, 8, 14, 26, 53, 7, 15, 65, 13, 7, 79, 8, 34, 13, 10, 8, 71, 7, 59, 7, 26, 7, 151, 55, 106, 13, 13, 15, 26, 6, 7, 7, 15, 30, 120, 33, 7, 6, 30, 26, 7, 8, 77, 6, 0, 91, 7, 10, 7, 16, 56, 13, 13, 8, 10, 8, 8, 78, 6, 30, 13, 7, 69, 227, 26, 15, 25, 86, 17, 33, 30, 11, 26, 7, 19, 12, 37, 7, 7, 41, 7, 16, 69, 35, 25, 14, 90, 106, 14, 7, 39, 9, 34, 512, 7, 7, 13, 7, 24, 13, 262, 23, 12, 7, 7, 7]}, {\"alignmentgroup\": \"True\", \"bingroup\": \"y\", \"hovertemplate\": \"Age=%{y}<br>count=%{x}<extra></extra>\", \"legendgroup\": \"\", \"marker\": {\"color\": \"#0d0887\"}, \"name\": \"\", \"offsetgroup\": \"\", \"opacity\": 0.5, \"showlegend\": false, \"type\": \"histogram\", \"xaxis\": \"x2\", \"y\": [34.0, 31.0, 36.0, 29.0, 18.0, 63.0, 28.0, 28.0, 50.0, 28.0, 20.0, 22.0, 48.0, 40.0, 42.0, 28.0, 28.0, 0.75, 28.0, 54.0, 28.0, 19.0, 28.0, 28.0, 25.0, 39.0, 28.0, 3.0, 17.0, 28.0, 22.0, 1.0, 24.0, 49.0, 34.0, 45.0, 36.0, 19.0, 28.0, 24.0, 20.0, 44.0, 25.0, 21.0, 43.0, 24.0, 18.0, 70.0, 22.0, 4.0, 28.0, 18.0, 13.0, 19.0, 15.0, 28.0, 47.0, 55.0, 28.0, 32.5, 20.0, 28.0, 26.0, 22.0, 29.0, 28.0, 32.0, 17.0, 29.0, 51.0, 45.5, 25.0, 6.0, 28.0, 28.0, 18.0, 18.0, 28.0, 21.0, 56.0, 28.0, 59.0, 28.0, 36.0, 36.0, 44.0, 38.0, 31.0, 25.0, 31.0, 42.0, 22.0, 24.0, 34.0, 22.0, 60.0, 36.0, 28.0, 28.0, 28.0, 21.0, 34.0, 28.0, 28.0, 45.0, 58.0, 4.0, 20.0, 28.0, 27.0, 66.0, 47.0, 30.0, 32.0, 24.0, 55.0, 38.0, 28.0, 22.0, 56.0, 28.0, 24.0, 32.0, 26.0, 52.0, 28.0, 48.0, 27.0, 40.5, 70.5, 37.0, 33.0, 4.0, 28.0, 31.0, 28.0, 45.0, 40.0, 28.0, 22.0, 21.0, 0.42, 28.0, 19.0, 30.0, 21.0, 30.0, 58.0, 61.0, 44.0, 17.0, 18.0, 8.0, 28.0, 61.0, 24.0, 2.0, 22.0, 28.0, 36.0, 24.0, 22.0, 28.0, 18.0, 35.0, 28.0, 65.0, 28.0, 16.0, 33.0, 28.0, 30.0, 28.0, 28.0, 19.0, 11.0, 16.0, 43.0, 36.5, 20.0, 40.0, 28.0, 28.0, 16.0, 17.0, 24.0, 28.0, 15.0, 28.0, 28.0, 39.0, 21.0, 35.0, 9.0, 18.0, 22.0, 28.0, 19.0, 7.0, 36.0, 28.0, 30.0, 53.0, 25.0, 32.0, 29.0, 26.0, 36.0, 39.0, 28.0, 36.0, 22.0, 46.0, 49.0, 28.0, 29.0, 28.0, 2.0, 15.0, 28.0, 64.0, 1.0, 18.0, 12.0, 18.0, 24.0, 28.0, 28.0, 47.0, 2.0, 28.0, 39.0, 28.0, 35.0, 36.0, 28.0, 28.0, 28.0, 28.0, 23.0, 28.0, 4.0, 28.0, 4.0, 23.0, 20.0, 35.0, 39.0, 24.0, 20.0, 19.0, 39.0, 28.0, 27.0, 22.0, 48.0, 49.0, 19.0, 28.0, 27.0, 37.0, 36.0, 21.0, 32.0, 28.0, 28.0, 26.0, 28.0, 17.0, 30.0, 5.0, 44.0, 42.0, 24.0, 57.0, 60.0, 24.0, 28.0, 22.0, 28.0, 24.0, 16.0, 21.0, 37.0, 28.0, 25.0, 47.0, 28.0, 54.0, 18.0, 28.0, 23.0, 8.0, 28.0, 35.0, 38.0, 50.0, 4.0, 45.0, 21.0, 31.0, 28.0, 9.0, 28.0, 23.0, 17.0, 44.0, 39.0, 17.0, 20.0, 39.0, 19.0, 31.0, 30.0, 18.0, 28.0, 28.0, 28.0, 28.0, 29.0, 38.0, 29.0, 29.0, 29.0, 38.0, 36.0, 28.0, 28.0, 28.0, 21.0, 45.0, 36.0, 23.0, 28.0, 28.0, 28.0, 29.0, 32.0, 21.0, 21.0, 30.0, 62.0, 33.0, 28.0, 28.0, 28.0, 34.0, 28.0, 33.0, 42.0, 34.0, 32.0, 44.0, 21.0, 28.0, 19.0, 28.0, 55.5, 19.0, 47.0, 7.0, 43.0, 24.0, 28.0, 38.0, 35.0, 41.0, 28.0, 35.0, 19.0, 28.0, 34.0, 48.0, 33.0, 28.0, 16.0, 28.0, 37.0, 29.0, 16.0, 22.0, 28.0, 32.0, 8.0, 21.0, 32.0, 28.0, 15.0, 19.0, 25.0, 41.0, 31.0, 35.0, 28.0, 18.0, 24.0, 30.0, 4.0, 18.0, 36.0, 29.0, 26.0, 23.0, 32.0, 26.0, 44.0, 23.0, 36.0, 20.0, 22.0, 36.0, 28.0, 26.0, 42.0, 28.0, 24.0, 28.0, 1.0, 28.0, 20.0, 20.0, 28.0, 3.0, 45.0, 25.0, 9.0, 39.0, 28.0, 46.0, 28.0, 18.0, 16.0, 47.0, 37.0, 14.0, 28.0, 31.0, 28.0, 23.0, 33.0, 39.0, 28.0, 40.0, 42.0, 31.0, 33.0, 25.0, 31.0, 28.0, 19.0, 38.0, 45.0, 48.0, 27.0, 30.0, 28.0, 4.0, 28.0, 28.0, 28.0, 32.0, 48.0, 28.0, 28.0, 39.0, 18.0, 28.0, 10.0, 32.0, 27.0, 28.0, 57.0, 5.0, 33.0, 18.0, 27.0, 9.0, 54.0, 51.0, 51.0, 40.0, 28.0, 33.0, 22.0, 23.0, 56.0, 22.0, 27.0, 22.0, 35.0, 18.0, 10.0, 17.0, 28.0, 4.0, 23.5, 26.0, 62.0, 28.0, 16.0, 28.0, 40.0, 48.0, 2.0, 71.0, 3.0, 28.0, 26.0, 26.0, 22.0, 64.0, 28.0, 28.0, 56.0, 14.0, 28.0, 36.0, 52.0, 51.0, 0.67, 50.0, 35.0, 28.0, 9.0, 24.0, 23.0, 40.0, 24.0, 19.0, 47.0, 28.0, 21.0, 28.0, 70.0, 21.0, 54.0, 38.0, 2.0, 13.0, 0.92, 50.0, 30.0, 52.0, 38.0, 28.0, 62.0, 45.0, 28.0, 30.0, 29.0, 29.0, 36.0, 6.0, 28.0, 18.0, 26.0, 54.0, 35.0, 28.0, 51.0, 34.5, 25.0, 25.0, 27.0, 27.0, 28.0, 24.0, 28.0, 30.0, 34.0, 28.0, 22.0, 28.0, 22.0, 26.0, 28.0, 80.0, 30.0, 28.0, 28.0, 42.0, 34.0, 23.0, 28.0, 16.0, 36.0, 28.0, 19.0, 14.0, 2.0, 26.0, 28.0, 27.0, 31.0, 17.0, 16.0, 22.0, 28.0, 30.0, 28.0, 45.0, 28.0, 14.5, 38.0, 50.0, 26.0, 28.0, 41.0, 20.0, 71.0, 35.0, 28.0, 32.0, 32.5, 21.0, 36.0, 28.0, 21.0, 34.0, 30.0, 32.0, 30.0, 29.0], \"yaxis\": \"y2\"}],\n",
       "                        {\"barmode\": \"overlay\", \"coloraxis\": {\"colorbar\": {\"title\": {\"text\": \"avg of Fare\"}}, \"colorscale\": [[0.0, \"#0d0887\"], [0.1111111111111111, \"#46039f\"], [0.2222222222222222, \"#7201a8\"], [0.3333333333333333, \"#9c179e\"], [0.4444444444444444, \"#bd3786\"], [0.5555555555555556, \"#d8576b\"], [0.6666666666666666, \"#ed7953\"], [0.7777777777777778, \"#fb9f3a\"], [0.8888888888888888, \"#fdca26\"], [1.0, \"#f0f921\"]]}, \"legend\": {\"tracegroupgap\": 0}, \"margin\": {\"t\": 60}, \"template\": {\"data\": {\"bar\": [{\"error_x\": {\"color\": \"#2a3f5f\"}, \"error_y\": {\"color\": \"#2a3f5f\"}, \"marker\": {\"line\": {\"color\": \"#E5ECF6\", \"width\": 0.5}}, \"type\": \"bar\"}], \"barpolar\": [{\"marker\": {\"line\": {\"color\": \"#E5ECF6\", \"width\": 0.5}}, \"type\": \"barpolar\"}], \"carpet\": [{\"aaxis\": {\"endlinecolor\": \"#2a3f5f\", \"gridcolor\": \"white\", \"linecolor\": \"white\", \"minorgridcolor\": \"white\", \"startlinecolor\": \"#2a3f5f\"}, \"baxis\": {\"endlinecolor\": \"#2a3f5f\", \"gridcolor\": \"white\", \"linecolor\": \"white\", \"minorgridcolor\": \"white\", \"startlinecolor\": \"#2a3f5f\"}, \"type\": \"carpet\"}], \"choropleth\": [{\"colorbar\": {\"outlinewidth\": 0, \"ticks\": \"\"}, \"type\": \"choropleth\"}], \"contour\": [{\"colorbar\": {\"outlinewidth\": 0, \"ticks\": \"\"}, \"colorscale\": [[0.0, \"#0d0887\"], [0.1111111111111111, \"#46039f\"], [0.2222222222222222, \"#7201a8\"], [0.3333333333333333, \"#9c179e\"], [0.4444444444444444, \"#bd3786\"], [0.5555555555555556, \"#d8576b\"], [0.6666666666666666, \"#ed7953\"], [0.7777777777777778, \"#fb9f3a\"], [0.8888888888888888, \"#fdca26\"], [1.0, \"#f0f921\"]], \"type\": \"contour\"}], \"contourcarpet\": [{\"colorbar\": {\"outlinewidth\": 0, \"ticks\": \"\"}, \"type\": \"contourcarpet\"}], \"heatmap\": [{\"colorbar\": {\"outlinewidth\": 0, \"ticks\": \"\"}, \"colorscale\": [[0.0, \"#0d0887\"], [0.1111111111111111, \"#46039f\"], [0.2222222222222222, \"#7201a8\"], [0.3333333333333333, \"#9c179e\"], [0.4444444444444444, \"#bd3786\"], [0.5555555555555556, \"#d8576b\"], [0.6666666666666666, \"#ed7953\"], [0.7777777777777778, \"#fb9f3a\"], [0.8888888888888888, \"#fdca26\"], [1.0, \"#f0f921\"]], \"type\": \"heatmap\"}], \"heatmapgl\": [{\"colorbar\": {\"outlinewidth\": 0, \"ticks\": \"\"}, \"colorscale\": [[0.0, \"#0d0887\"], [0.1111111111111111, \"#46039f\"], [0.2222222222222222, \"#7201a8\"], [0.3333333333333333, \"#9c179e\"], [0.4444444444444444, \"#bd3786\"], [0.5555555555555556, \"#d8576b\"], [0.6666666666666666, \"#ed7953\"], [0.7777777777777778, \"#fb9f3a\"], [0.8888888888888888, \"#fdca26\"], [1.0, \"#f0f921\"]], \"type\": \"heatmapgl\"}], \"histogram\": [{\"marker\": {\"colorbar\": {\"outlinewidth\": 0, \"ticks\": \"\"}}, \"type\": \"histogram\"}], \"histogram2d\": [{\"colorbar\": {\"outlinewidth\": 0, \"ticks\": \"\"}, \"colorscale\": [[0.0, \"#0d0887\"], [0.1111111111111111, \"#46039f\"], [0.2222222222222222, \"#7201a8\"], [0.3333333333333333, \"#9c179e\"], [0.4444444444444444, \"#bd3786\"], [0.5555555555555556, \"#d8576b\"], [0.6666666666666666, \"#ed7953\"], [0.7777777777777778, \"#fb9f3a\"], [0.8888888888888888, \"#fdca26\"], [1.0, \"#f0f921\"]], \"type\": \"histogram2d\"}], \"histogram2dcontour\": [{\"colorbar\": {\"outlinewidth\": 0, \"ticks\": \"\"}, \"colorscale\": [[0.0, \"#0d0887\"], [0.1111111111111111, \"#46039f\"], [0.2222222222222222, \"#7201a8\"], [0.3333333333333333, \"#9c179e\"], [0.4444444444444444, \"#bd3786\"], [0.5555555555555556, \"#d8576b\"], [0.6666666666666666, \"#ed7953\"], [0.7777777777777778, \"#fb9f3a\"], [0.8888888888888888, \"#fdca26\"], [1.0, \"#f0f921\"]], \"type\": \"histogram2dcontour\"}], \"mesh3d\": [{\"colorbar\": {\"outlinewidth\": 0, \"ticks\": \"\"}, \"type\": \"mesh3d\"}], \"parcoords\": [{\"line\": {\"colorbar\": {\"outlinewidth\": 0, \"ticks\": \"\"}}, \"type\": \"parcoords\"}], \"pie\": [{\"automargin\": true, \"type\": \"pie\"}], \"scatter\": [{\"marker\": {\"colorbar\": {\"outlinewidth\": 0, \"ticks\": \"\"}}, \"type\": \"scatter\"}], \"scatter3d\": [{\"line\": {\"colorbar\": {\"outlinewidth\": 0, \"ticks\": \"\"}}, \"marker\": {\"colorbar\": {\"outlinewidth\": 0, \"ticks\": \"\"}}, \"type\": \"scatter3d\"}], \"scattercarpet\": [{\"marker\": {\"colorbar\": {\"outlinewidth\": 0, \"ticks\": \"\"}}, \"type\": \"scattercarpet\"}], \"scattergeo\": [{\"marker\": {\"colorbar\": {\"outlinewidth\": 0, \"ticks\": \"\"}}, \"type\": \"scattergeo\"}], \"scattergl\": [{\"marker\": {\"colorbar\": {\"outlinewidth\": 0, \"ticks\": \"\"}}, \"type\": \"scattergl\"}], \"scattermapbox\": [{\"marker\": {\"colorbar\": {\"outlinewidth\": 0, \"ticks\": \"\"}}, \"type\": \"scattermapbox\"}], \"scatterpolar\": [{\"marker\": {\"colorbar\": {\"outlinewidth\": 0, \"ticks\": \"\"}}, \"type\": \"scatterpolar\"}], \"scatterpolargl\": [{\"marker\": {\"colorbar\": {\"outlinewidth\": 0, \"ticks\": \"\"}}, \"type\": \"scatterpolargl\"}], \"scatterternary\": [{\"marker\": {\"colorbar\": {\"outlinewidth\": 0, \"ticks\": \"\"}}, \"type\": \"scatterternary\"}], \"surface\": [{\"colorbar\": {\"outlinewidth\": 0, \"ticks\": \"\"}, \"colorscale\": [[0.0, \"#0d0887\"], [0.1111111111111111, \"#46039f\"], [0.2222222222222222, \"#7201a8\"], [0.3333333333333333, \"#9c179e\"], [0.4444444444444444, \"#bd3786\"], [0.5555555555555556, \"#d8576b\"], [0.6666666666666666, \"#ed7953\"], [0.7777777777777778, \"#fb9f3a\"], [0.8888888888888888, \"#fdca26\"], [1.0, \"#f0f921\"]], \"type\": \"surface\"}], \"table\": [{\"cells\": {\"fill\": {\"color\": \"#EBF0F8\"}, \"line\": {\"color\": \"white\"}}, \"header\": {\"fill\": {\"color\": \"#C8D4E3\"}, \"line\": {\"color\": \"white\"}}, \"type\": \"table\"}]}, \"layout\": {\"annotationdefaults\": {\"arrowcolor\": \"#2a3f5f\", \"arrowhead\": 0, \"arrowwidth\": 1}, \"coloraxis\": {\"colorbar\": {\"outlinewidth\": 0, \"ticks\": \"\"}}, \"colorscale\": {\"diverging\": [[0, \"#8e0152\"], [0.1, \"#c51b7d\"], [0.2, \"#de77ae\"], [0.3, \"#f1b6da\"], [0.4, \"#fde0ef\"], [0.5, \"#f7f7f7\"], [0.6, \"#e6f5d0\"], [0.7, \"#b8e186\"], [0.8, \"#7fbc41\"], [0.9, \"#4d9221\"], [1, \"#276419\"]], \"sequential\": [[0.0, \"#0d0887\"], [0.1111111111111111, \"#46039f\"], [0.2222222222222222, \"#7201a8\"], [0.3333333333333333, \"#9c179e\"], [0.4444444444444444, \"#bd3786\"], [0.5555555555555556, \"#d8576b\"], [0.6666666666666666, \"#ed7953\"], [0.7777777777777778, \"#fb9f3a\"], [0.8888888888888888, \"#fdca26\"], [1.0, \"#f0f921\"]], \"sequentialminus\": [[0.0, \"#0d0887\"], [0.1111111111111111, \"#46039f\"], [0.2222222222222222, \"#7201a8\"], [0.3333333333333333, \"#9c179e\"], [0.4444444444444444, \"#bd3786\"], [0.5555555555555556, \"#d8576b\"], [0.6666666666666666, \"#ed7953\"], [0.7777777777777778, \"#fb9f3a\"], [0.8888888888888888, \"#fdca26\"], [1.0, \"#f0f921\"]]}, \"colorway\": [\"#636efa\", \"#EF553B\", \"#00cc96\", \"#ab63fa\", \"#FFA15A\", \"#19d3f3\", \"#FF6692\", \"#B6E880\", \"#FF97FF\", \"#FECB52\"], \"font\": {\"color\": \"#2a3f5f\"}, \"geo\": {\"bgcolor\": \"white\", \"lakecolor\": \"white\", \"landcolor\": \"#E5ECF6\", \"showlakes\": true, \"showland\": true, \"subunitcolor\": \"white\"}, \"hoverlabel\": {\"align\": \"left\"}, \"hovermode\": \"closest\", \"mapbox\": {\"style\": \"light\"}, \"paper_bgcolor\": \"white\", \"plot_bgcolor\": \"#E5ECF6\", \"polar\": {\"angularaxis\": {\"gridcolor\": \"white\", \"linecolor\": \"white\", \"ticks\": \"\"}, \"bgcolor\": \"#E5ECF6\", \"radialaxis\": {\"gridcolor\": \"white\", \"linecolor\": \"white\", \"ticks\": \"\"}}, \"scene\": {\"xaxis\": {\"backgroundcolor\": \"#E5ECF6\", \"gridcolor\": \"white\", \"gridwidth\": 2, \"linecolor\": \"white\", \"showbackground\": true, \"ticks\": \"\", \"zerolinecolor\": \"white\"}, \"yaxis\": {\"backgroundcolor\": \"#E5ECF6\", \"gridcolor\": \"white\", \"gridwidth\": 2, \"linecolor\": \"white\", \"showbackground\": true, \"ticks\": \"\", \"zerolinecolor\": \"white\"}, \"zaxis\": {\"backgroundcolor\": \"#E5ECF6\", \"gridcolor\": \"white\", \"gridwidth\": 2, \"linecolor\": \"white\", \"showbackground\": true, \"ticks\": \"\", \"zerolinecolor\": \"white\"}}, \"shapedefaults\": {\"line\": {\"color\": \"#2a3f5f\"}}, \"ternary\": {\"aaxis\": {\"gridcolor\": \"white\", \"linecolor\": \"white\", \"ticks\": \"\"}, \"baxis\": {\"gridcolor\": \"white\", \"linecolor\": \"white\", \"ticks\": \"\"}, \"bgcolor\": \"#E5ECF6\", \"caxis\": {\"gridcolor\": \"white\", \"linecolor\": \"white\", \"ticks\": \"\"}}, \"title\": {\"x\": 0.05}, \"xaxis\": {\"automargin\": true, \"gridcolor\": \"white\", \"linecolor\": \"white\", \"ticks\": \"\", \"title\": {\"standoff\": 15}, \"zerolinecolor\": \"white\", \"zerolinewidth\": 2}, \"yaxis\": {\"automargin\": true, \"gridcolor\": \"white\", \"linecolor\": \"white\", \"ticks\": \"\", \"title\": {\"standoff\": 15}, \"zerolinecolor\": \"white\", \"zerolinewidth\": 2}}}, \"title\": {\"text\": \"Average Fare across Age of Passenger and Boarding\"}, \"xaxis\": {\"anchor\": \"y\", \"domain\": [0.0, 0.7363], \"title\": {\"text\": \"Embarked\"}}, \"xaxis2\": {\"anchor\": \"y2\", \"domain\": [0.7413, 1.0], \"matches\": \"x2\", \"showgrid\": true, \"showline\": false, \"showticklabels\": false, \"ticks\": \"\"}, \"yaxis\": {\"anchor\": \"x\", \"domain\": [0.0, 1.0], \"title\": {\"text\": \"Age\"}}, \"yaxis2\": {\"anchor\": \"x2\", \"domain\": [0.0, 1.0], \"matches\": \"y\", \"showgrid\": true, \"showticklabels\": false}},\n",
       "                        {\"responsive\": true}\n",
       "                    ).then(function(){\n",
       "                            \n",
       "var gd = document.getElementById('4383398e-4c8b-427c-a39d-4877a9b3e812');\n",
       "var x = new MutationObserver(function (mutations, observer) {{\n",
       "        var display = window.getComputedStyle(gd).display;\n",
       "        if (!display || display === 'none') {{\n",
       "            console.log([gd, 'removed!']);\n",
       "            Plotly.purge(gd);\n",
       "            observer.disconnect();\n",
       "        }}\n",
       "}});\n",
       "\n",
       "// Listen for the removal of the full notebook cells\n",
       "var notebookContainer = gd.closest('#notebook-container');\n",
       "if (notebookContainer) {{\n",
       "    x.observe(notebookContainer, {childList: true});\n",
       "}}\n",
       "\n",
       "// Listen for the clearing of the current output cell\n",
       "var outputEl = gd.closest('.output');\n",
       "if (outputEl) {{\n",
       "    x.observe(outputEl, {childList: true});\n",
       "}}\n",
       "\n",
       "                        })\n",
       "                };\n",
       "                });\n",
       "            </script>\n",
       "        </div>"
      ]
     },
     "metadata": {},
     "output_type": "display_data"
    }
   ],
   "source": [
    "import plotly.express as px\n",
    "\n",
    "fig = px.density_heatmap(df, x=\"Embarked\", y=\"Age\", z='Fare',\n",
    "                        marginal_y = 'histogram', histfunc= 'avg')\n",
    "fig.update_layout(title = 'Average Fare across Age of Passenger and Boarding')\n",
    "fig.show()"
   ]
  },
  {
   "cell_type": "markdown",
   "metadata": {},
   "source": [
    "---\n",
    "### Model Building\n",
    "---"
   ]
  },
  {
   "cell_type": "markdown",
   "metadata": {},
   "source": [
    "**Input Data Summary (rows, columns)**"
   ]
  },
  {
   "cell_type": "markdown",
   "metadata": {},
   "source": [
    "\n",
    "|x_train|x_val|x_test|\n",
    "|--------|-----|-------|\n",
    "(623,14)|(268,14)|(418,14)\n"
   ]
  },
  {
   "cell_type": "markdown",
   "metadata": {},
   "source": [
    "**Model_1: Logistic Regression**"
   ]
  },
  {
   "cell_type": "code",
   "execution_count": 110,
   "metadata": {},
   "outputs": [],
   "source": [
    "import sklearn\n",
    "from sklearn.linear_model import LogisticRegression, LogisticRegressionCV\n",
    "from sklearn import metrics\n",
    "from sklearn.model_selection import train_test_split\n",
    "import matplotlib.pyplot as plt\n",
    "import pandas as pd\n",
    "import math"
   ]
  },
  {
   "cell_type": "code",
   "execution_count": 139,
   "metadata": {},
   "outputs": [
    {
     "name": "stderr",
     "output_type": "stream",
     "text": [
      "/opt/anaconda3/lib/python3.7/site-packages/sklearn/linear_model/_logistic.py:940: ConvergenceWarning: lbfgs failed to converge (status=1):\n",
      "STOP: TOTAL NO. of ITERATIONS REACHED LIMIT.\n",
      "\n",
      "Increase the number of iterations (max_iter) or scale the data as shown in:\n",
      "    https://scikit-learn.org/stable/modules/preprocessing.html\n",
      "Please also refer to the documentation for alternative solver options:\n",
      "    https://scikit-learn.org/stable/modules/linear_model.html#logistic-regression\n",
      "  extra_warning_msg=_LOGISTIC_SOLVER_CONVERGENCE_MSG)\n"
     ]
    }
   ],
   "source": [
    "logit_model = LogisticRegression().fit(x_train,y_train)"
   ]
  },
  {
   "cell_type": "code",
   "execution_count": 140,
   "metadata": {},
   "outputs": [],
   "source": [
    "y_train_prob = logit_model.predict_proba(x_train)\n",
    "y_val_prob = logit_model.predict_proba(x_val)"
   ]
  },
  {
   "cell_type": "markdown",
   "metadata": {},
   "source": [
    "***Model Evaluation***"
   ]
  },
  {
   "cell_type": "code",
   "execution_count": 141,
   "metadata": {},
   "outputs": [
    {
     "data": {
      "text/plain": [
       "0.8554760153985899"
      ]
     },
     "execution_count": 141,
     "metadata": {},
     "output_type": "execute_result"
    }
   ],
   "source": [
    "# get AUC on the training set\n",
    "fpr, tpr, thresholds = metrics.roc_curve(y_train, y_train_prob[:,1], pos_label = 1)\n",
    "metrics.auc(fpr, tpr)"
   ]
  },
  {
   "cell_type": "code",
   "execution_count": 142,
   "metadata": {},
   "outputs": [
    {
     "data": {
      "text/plain": [
       "0.8611344537815125"
      ]
     },
     "execution_count": 142,
     "metadata": {},
     "output_type": "execute_result"
    }
   ],
   "source": [
    "# get AUC on the validation set\n",
    "fpr, tpr, thresholds = metrics.roc_curve(y_val, y_val_prob[:,1], pos_label = 1)\n",
    "metrics.auc(fpr, tpr)"
   ]
  },
  {
   "cell_type": "markdown",
   "metadata": {},
   "source": [
    "***predictions on test set***"
   ]
  },
  {
   "cell_type": "code",
   "execution_count": 115,
   "metadata": {},
   "outputs": [],
   "source": [
    "y_test_pred = logit_model.predict(x_test)"
   ]
  },
  {
   "cell_type": "code",
   "execution_count": 116,
   "metadata": {},
   "outputs": [],
   "source": [
    "df_test_pred = pd.DataFrame()"
   ]
  },
  {
   "cell_type": "code",
   "execution_count": 117,
   "metadata": {},
   "outputs": [],
   "source": [
    "df_test_pred['Prediction'] = y_test_pred"
   ]
  },
  {
   "cell_type": "code",
   "execution_count": 118,
   "metadata": {},
   "outputs": [],
   "source": [
    "pre_result = pd.concat([x_test,df_test_pred['Prediction']],axis = 1)"
   ]
  },
  {
   "cell_type": "code",
   "execution_count": 119,
   "metadata": {},
   "outputs": [
    {
     "data": {
      "text/plain": [
       "0      0\n",
       "1      0\n",
       "2      0\n",
       "3      0\n",
       "4      1\n",
       "      ..\n",
       "413    0\n",
       "414    1\n",
       "415    0\n",
       "416    0\n",
       "417    0\n",
       "Name: Prediction, Length: 418, dtype: int64"
      ]
     },
     "execution_count": 119,
     "metadata": {},
     "output_type": "execute_result"
    }
   ],
   "source": [
    "pre_result.Prediction"
   ]
  },
  {
   "cell_type": "code",
   "execution_count": null,
   "metadata": {},
   "outputs": [],
   "source": []
  },
  {
   "cell_type": "markdown",
   "metadata": {},
   "source": [
    "# Ensemble Method Classifier\n",
    "<div class=\"alert alert-block alert-info\">\n",
    "\n",
    " - 3 models implemented in Ensemble Classifier are:\n",
    "     - Logistic Regression\n",
    "     - Decision Tree Classifier\n",
    "     - KNearestNeighbors (KNN)\n",
    "\n",
    "</div>"
   ]
  },
  {
   "cell_type": "code",
   "execution_count": 162,
   "metadata": {},
   "outputs": [],
   "source": [
    "from sklearn.metrics import accuracy_score\n",
    "from sklearn.model_selection import train_test_split\n",
    "from sklearn.tree import DecisionTreeClassifier\n",
    "from sklearn.neighbors import KNeighborsClassifier as KNN\n",
    "from sklearn.ensemble import VotingClassifier\n",
    "from sklearn.preprocessing import StandardScaler\n",
    "\n",
    "# Set seed for reproducibility\n",
    "seed = 13\n",
    "\n",
    "# Instantiate Logistic Regression model : logReg\n",
    "logReg = LogisticRegression(random_state = seed, max_iter = 150)\n",
    "\n",
    "# Instantiate K Nearest Neighbors model: knn\n",
    "knn = KNN(n_neighbors = 27)\n",
    "\n",
    "# Instantiate Decision Tree Classifier: dtree\n",
    "dtree = DecisionTreeClassifier(min_samples_leaf=0.15, max_depth= 6, random_state=seed)\n",
    "\n",
    "# Define the list classifiers\n",
    "classifiers = [('Logistic Regression', logReg), ('K Nearest Neighbors', knn), ('Classification Tree', dtree)]"
   ]
  },
  {
   "cell_type": "code",
   "execution_count": 157,
   "metadata": {},
   "outputs": [],
   "source": [
    "scaler = StandardScaler()\n",
    "\n",
    "# Fit the scaler on the training features and transform: X_train_std\n",
    "X_train_std = scaler.fit_transform(x_train)\n",
    "\n",
    "# Scale test features also: X_test_std\n",
    "X_test_std = scaler.transform(x_val)"
   ]
  },
  {
   "cell_type": "markdown",
   "metadata": {},
   "source": [
    "<div class=\"alert alert-block alert-info\">\n",
    "    <b> NOTE </b>\n",
    " \n",
    " - Training and test data features were standardized to reflect standard normal distribution\n",
    " - Rather than use separate training sets for 3 ensemble method models, the standardized data was used to train and evaluate all 3 models\n",
    " \n",
    "\n",
    "</div>"
   ]
  },
  {
   "cell_type": "code",
   "execution_count": 167,
   "metadata": {},
   "outputs": [
    {
     "name": "stdout",
     "output_type": "stream",
     "text": [
      "Logistic Regression : 0.810\n",
      "K Nearest Neighbors : 0.806\n",
      "Classification Tree : 0.799\n"
     ]
    }
   ],
   "source": [
    "# Iterate over the list of classifiers\n",
    "for clf_name, clf in classifiers:    \n",
    " \n",
    "    # Fit clf to the training set\n",
    "    clf.fit(X_train_std, y_train)\n",
    "\n",
    "    # Predict y_pred\n",
    "    y_pred = clf.predict(X_test_std)\n",
    "\n",
    "    # Calculate accuracy\n",
    "    accuracy = accuracy_score(y_val, y_pred) \n",
    "   \n",
    "    # Evaluate clf's accuracy on the test set\n",
    "    print('{:s} : {:.3f}'.format(clf_name, accuracy))"
   ]
  },
  {
   "cell_type": "code",
   "execution_count": 168,
   "metadata": {},
   "outputs": [
    {
     "name": "stdout",
     "output_type": "stream",
     "text": [
      "Logistic Regression : 0.864\n",
      "K Nearest Neighbors : 0.840\n",
      "Classification Tree : 0.828\n"
     ]
    }
   ],
   "source": [
    "# Iterate over the list of classifiers\n",
    "for clf_name, clf in classifiers:    \n",
    " \n",
    "    # Fit clf to the training set\n",
    "    clf.fit(X_train_std, y_train)\n",
    "   \n",
    "    # Predict y_pred\n",
    "\n",
    "    y_pred = clf.predict(X_test_std)\n",
    "    \n",
    "    # Calculate AUC\n",
    "    y_train_prob = clf.predict_proba(X_train_std)\n",
    "    y_val_prob = clf.predict_proba(X_test_std)\n",
    "    \n",
    "    # get AUC on the validation set\n",
    "    fpr, tpr, thresholds = metrics.roc_curve(y_val, y_val_prob[:,1], pos_label = 1)\n",
    "    AUC = metrics.auc(fpr, tpr)\n",
    "   \n",
    "    # Evaluate clf's AUC on the test set\n",
    "    print('{:s} : {:.3f}'.format(clf_name, AUC))"
   ]
  },
  {
   "cell_type": "markdown",
   "metadata": {},
   "source": [
    "<div class=\"alert alert-block alert-info\">\n",
    "    <b> NOTE </b>\n",
    " \n",
    " - Of the three models trained separately on the data the Logistic Regression model had the highest  performance in terms of Accuracy Score and AUC against the validation set\n",
    " \n",
    "\n",
    "</div>"
   ]
  },
  {
   "cell_type": "code",
   "execution_count": 169,
   "metadata": {},
   "outputs": [
    {
     "name": "stdout",
     "output_type": "stream",
     "text": [
      "Voting Classifier Accuracy score: 0.810\n"
     ]
    }
   ],
   "source": [
    "# Instantiate a VotingClassifier vc\n",
    "vc = VotingClassifier(estimators=classifiers)     \n",
    "\n",
    "# Fit vc to the training set\n",
    "vc.fit(X_train_std, y_train)   \n",
    "\n",
    "# Evaluate the test set predictions\n",
    "y_pred = vc.predict(X_test_std)\n",
    "\n",
    "# Calculate accuracy score\n",
    "accuracy = accuracy_score(y_val, y_pred)\n",
    "print('Voting Classifier Accuracy score: {:.3f}'.format(accuracy))"
   ]
  },
  {
   "cell_type": "code",
   "execution_count": 170,
   "metadata": {},
   "outputs": [
    {
     "name": "stdout",
     "output_type": "stream",
     "text": [
      "Voting Classifier AUC score: 0.858\n"
     ]
    }
   ],
   "source": [
    "# Voting set to ‘soft’ so the class labels are predicted based \n",
    "# on the argmax of the sums of the predicted probabilities\n",
    "vc = VotingClassifier(estimators=classifiers, voting= 'soft')     \n",
    "\n",
    "# Fit vc to the training set\n",
    "vc.fit(X_train_std, y_train)\n",
    "\n",
    "# Evaluate the test set predictions\n",
    "y_pred = vc.predict(X_test_std)\n",
    "\n",
    "y_train_prob = vc.predict_proba(X_train_std)\n",
    "y_val_prob = vc.predict_proba(X_test_std)\n",
    "fpr, tpr, thresholds = metrics.roc_curve(y_val, y_val_prob[:,1], pos_label = 1)\n",
    "AUC = metrics.auc(fpr, tpr)\n",
    "print('Voting Classifier AUC score: {:.3f}'.format(AUC))"
   ]
  },
  {
   "cell_type": "markdown",
   "metadata": {},
   "source": [
    "<div class=\"alert alert-block alert-success\">\n",
    "    <b> Summary </b>\n",
    " \n",
    " - The Ensemble Method classifier achieved the same Accuracy score as the Logistic Regression model on its own, so including the KNN and Decision Tree classifier did not provide significant additive predictive power\n",
    "    \n",
    "    \n",
    " - Interestingly, the Ensemble Method classifier was better than KNN and Decision Tree classifier on their own, however it performed worse, in terms of AUC score, than the Logistic Regression model\n",
    " \n",
    "</div>"
   ]
  },
  {
   "cell_type": "code",
   "execution_count": null,
   "metadata": {},
   "outputs": [],
   "source": []
  },
  {
   "cell_type": "code",
   "execution_count": null,
   "metadata": {},
   "outputs": [],
   "source": []
  },
  {
   "cell_type": "code",
   "execution_count": null,
   "metadata": {},
   "outputs": [],
   "source": []
  },
  {
   "cell_type": "code",
   "execution_count": null,
   "metadata": {},
   "outputs": [],
   "source": []
  },
  {
   "cell_type": "code",
   "execution_count": null,
   "metadata": {},
   "outputs": [],
   "source": []
  }
 ],
 "metadata": {
  "kernelspec": {
   "display_name": "Python 3",
   "language": "python",
   "name": "python3"
  },
  "language_info": {
   "codemirror_mode": {
    "name": "ipython",
    "version": 3
   },
   "file_extension": ".py",
   "mimetype": "text/x-python",
   "name": "python",
   "nbconvert_exporter": "python",
   "pygments_lexer": "ipython3",
   "version": "3.7.7"
  }
 },
 "nbformat": 4,
 "nbformat_minor": 5
}
